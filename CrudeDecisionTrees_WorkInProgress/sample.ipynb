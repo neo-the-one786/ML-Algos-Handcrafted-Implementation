{
 "cells": [
  {
   "metadata": {},
   "cell_type": "markdown",
   "source": [
    "### Library Imports\n",
    "- `random`: For random sampling during train-test split\n",
    "- `pprint`: For readable display of complex structures (like decision trees)\n",
    "- `pandas`: Data manipulation and analysis\n",
    "- `numpy`: Numerical operations\n",
    "- `matplotlib`/`seaborn`: Data visualization"
   ],
   "id": "d16374099239d602"
  },
  {
   "metadata": {
    "ExecuteTime": {
     "end_time": "2025-04-01T21:53:50.583654Z",
     "start_time": "2025-04-01T21:53:50.580356Z"
    }
   },
   "cell_type": "code",
   "source": [
    "import random\n",
    "from pprint import pprint\n",
    "import pandas as pd\n",
    "import numpy as np\n",
    "import matplotlib.pyplot as plt\n",
    "import seaborn as sns"
   ],
   "id": "414efb15a37165f9",
   "outputs": [],
   "execution_count": 1
  },
  {
   "metadata": {},
   "cell_type": "markdown",
   "source": [
    "### Data Loading & Initial Inspection\n",
    "- Load Iris dataset from CSV file located in './data/Iris.csv'\n",
    "- Display first 5 rows using `head()` to verify successful loading\n",
    "- Columns shown: Id, SepalLengthCm, SepalWidthCm, PetalLengthCm, PetalWidthCm, Species"
   ],
   "id": "96ba972d9e5d7ca1"
  },
  {
   "metadata": {
    "ExecuteTime": {
     "end_time": "2025-04-01T21:53:50.613379Z",
     "start_time": "2025-04-01T21:53:50.596888Z"
    }
   },
   "cell_type": "code",
   "source": [
    "datSet = pd.read_csv(\"./data/Iris.csv\")\n",
    "datSet.head()"
   ],
   "id": "64d76d80ca3c289a",
   "outputs": [
    {
     "data": {
      "text/plain": [
       "   Id  SepalLengthCm  SepalWidthCm  PetalLengthCm  PetalWidthCm      Species\n",
       "0   1            5.1           3.5            1.4           0.2  Iris-setosa\n",
       "1   2            4.9           3.0            1.4           0.2  Iris-setosa\n",
       "2   3            4.7           3.2            1.3           0.2  Iris-setosa\n",
       "3   4            4.6           3.1            1.5           0.2  Iris-setosa\n",
       "4   5            5.0           3.6            1.4           0.2  Iris-setosa"
      ],
      "text/html": [
       "<div>\n",
       "<style scoped>\n",
       "    .dataframe tbody tr th:only-of-type {\n",
       "        vertical-align: middle;\n",
       "    }\n",
       "\n",
       "    .dataframe tbody tr th {\n",
       "        vertical-align: top;\n",
       "    }\n",
       "\n",
       "    .dataframe thead th {\n",
       "        text-align: right;\n",
       "    }\n",
       "</style>\n",
       "<table border=\"1\" class=\"dataframe\">\n",
       "  <thead>\n",
       "    <tr style=\"text-align: right;\">\n",
       "      <th></th>\n",
       "      <th>Id</th>\n",
       "      <th>SepalLengthCm</th>\n",
       "      <th>SepalWidthCm</th>\n",
       "      <th>PetalLengthCm</th>\n",
       "      <th>PetalWidthCm</th>\n",
       "      <th>Species</th>\n",
       "    </tr>\n",
       "  </thead>\n",
       "  <tbody>\n",
       "    <tr>\n",
       "      <th>0</th>\n",
       "      <td>1</td>\n",
       "      <td>5.1</td>\n",
       "      <td>3.5</td>\n",
       "      <td>1.4</td>\n",
       "      <td>0.2</td>\n",
       "      <td>Iris-setosa</td>\n",
       "    </tr>\n",
       "    <tr>\n",
       "      <th>1</th>\n",
       "      <td>2</td>\n",
       "      <td>4.9</td>\n",
       "      <td>3.0</td>\n",
       "      <td>1.4</td>\n",
       "      <td>0.2</td>\n",
       "      <td>Iris-setosa</td>\n",
       "    </tr>\n",
       "    <tr>\n",
       "      <th>2</th>\n",
       "      <td>3</td>\n",
       "      <td>4.7</td>\n",
       "      <td>3.2</td>\n",
       "      <td>1.3</td>\n",
       "      <td>0.2</td>\n",
       "      <td>Iris-setosa</td>\n",
       "    </tr>\n",
       "    <tr>\n",
       "      <th>3</th>\n",
       "      <td>4</td>\n",
       "      <td>4.6</td>\n",
       "      <td>3.1</td>\n",
       "      <td>1.5</td>\n",
       "      <td>0.2</td>\n",
       "      <td>Iris-setosa</td>\n",
       "    </tr>\n",
       "    <tr>\n",
       "      <th>4</th>\n",
       "      <td>5</td>\n",
       "      <td>5.0</td>\n",
       "      <td>3.6</td>\n",
       "      <td>1.4</td>\n",
       "      <td>0.2</td>\n",
       "      <td>Iris-setosa</td>\n",
       "    </tr>\n",
       "  </tbody>\n",
       "</table>\n",
       "</div>"
      ]
     },
     "execution_count": 2,
     "metadata": {},
     "output_type": "execute_result"
    }
   ],
   "execution_count": 2
  },
  {
   "metadata": {},
   "cell_type": "markdown",
   "source": [
    "### Data Cleaning\n",
    "- Drop the 'Id' column as it's not useful for analysis\n",
    "- Verify removal by showing modified dataframe with new `head()` call"
   ],
   "id": "7c50f7657bd7f462"
  },
  {
   "metadata": {
    "ExecuteTime": {
     "end_time": "2025-04-01T21:53:50.799243Z",
     "start_time": "2025-04-01T21:53:50.788946Z"
    }
   },
   "cell_type": "code",
   "source": [
    "datSet = datSet.drop(columns=[\"Id\"])\n",
    "datSet.head()"
   ],
   "id": "71e3497563c77b0d",
   "outputs": [
    {
     "data": {
      "text/plain": [
       "   SepalLengthCm  SepalWidthCm  PetalLengthCm  PetalWidthCm      Species\n",
       "0            5.1           3.5            1.4           0.2  Iris-setosa\n",
       "1            4.9           3.0            1.4           0.2  Iris-setosa\n",
       "2            4.7           3.2            1.3           0.2  Iris-setosa\n",
       "3            4.6           3.1            1.5           0.2  Iris-setosa\n",
       "4            5.0           3.6            1.4           0.2  Iris-setosa"
      ],
      "text/html": [
       "<div>\n",
       "<style scoped>\n",
       "    .dataframe tbody tr th:only-of-type {\n",
       "        vertical-align: middle;\n",
       "    }\n",
       "\n",
       "    .dataframe tbody tr th {\n",
       "        vertical-align: top;\n",
       "    }\n",
       "\n",
       "    .dataframe thead th {\n",
       "        text-align: right;\n",
       "    }\n",
       "</style>\n",
       "<table border=\"1\" class=\"dataframe\">\n",
       "  <thead>\n",
       "    <tr style=\"text-align: right;\">\n",
       "      <th></th>\n",
       "      <th>SepalLengthCm</th>\n",
       "      <th>SepalWidthCm</th>\n",
       "      <th>PetalLengthCm</th>\n",
       "      <th>PetalWidthCm</th>\n",
       "      <th>Species</th>\n",
       "    </tr>\n",
       "  </thead>\n",
       "  <tbody>\n",
       "    <tr>\n",
       "      <th>0</th>\n",
       "      <td>5.1</td>\n",
       "      <td>3.5</td>\n",
       "      <td>1.4</td>\n",
       "      <td>0.2</td>\n",
       "      <td>Iris-setosa</td>\n",
       "    </tr>\n",
       "    <tr>\n",
       "      <th>1</th>\n",
       "      <td>4.9</td>\n",
       "      <td>3.0</td>\n",
       "      <td>1.4</td>\n",
       "      <td>0.2</td>\n",
       "      <td>Iris-setosa</td>\n",
       "    </tr>\n",
       "    <tr>\n",
       "      <th>2</th>\n",
       "      <td>4.7</td>\n",
       "      <td>3.2</td>\n",
       "      <td>1.3</td>\n",
       "      <td>0.2</td>\n",
       "      <td>Iris-setosa</td>\n",
       "    </tr>\n",
       "    <tr>\n",
       "      <th>3</th>\n",
       "      <td>4.6</td>\n",
       "      <td>3.1</td>\n",
       "      <td>1.5</td>\n",
       "      <td>0.2</td>\n",
       "      <td>Iris-setosa</td>\n",
       "    </tr>\n",
       "    <tr>\n",
       "      <th>4</th>\n",
       "      <td>5.0</td>\n",
       "      <td>3.6</td>\n",
       "      <td>1.4</td>\n",
       "      <td>0.2</td>\n",
       "      <td>Iris-setosa</td>\n",
       "    </tr>\n",
       "  </tbody>\n",
       "</table>\n",
       "</div>"
      ]
     },
     "execution_count": 3,
     "metadata": {},
     "output_type": "execute_result"
    }
   ],
   "execution_count": 3
  },
  {
   "metadata": {},
   "cell_type": "markdown",
   "source": [
    "### Column Renaming\n",
    "- Rename 'Species' column to 'Label' for clarity\n",
    "- Makes distinction clearer between features (measurements) and target (label)"
   ],
   "id": "ad9e9466bbdcaa43"
  },
  {
   "metadata": {
    "ExecuteTime": {
     "end_time": "2025-04-01T21:53:50.853882Z",
     "start_time": "2025-04-01T21:53:50.842884Z"
    }
   },
   "cell_type": "code",
   "source": [
    "datSet = datSet.rename(columns={\"Species\": \"Label\"})\n",
    "datSet.head()"
   ],
   "id": "71053f4dd17f437c",
   "outputs": [
    {
     "data": {
      "text/plain": [
       "   SepalLengthCm  SepalWidthCm  PetalLengthCm  PetalWidthCm        Label\n",
       "0            5.1           3.5            1.4           0.2  Iris-setosa\n",
       "1            4.9           3.0            1.4           0.2  Iris-setosa\n",
       "2            4.7           3.2            1.3           0.2  Iris-setosa\n",
       "3            4.6           3.1            1.5           0.2  Iris-setosa\n",
       "4            5.0           3.6            1.4           0.2  Iris-setosa"
      ],
      "text/html": [
       "<div>\n",
       "<style scoped>\n",
       "    .dataframe tbody tr th:only-of-type {\n",
       "        vertical-align: middle;\n",
       "    }\n",
       "\n",
       "    .dataframe tbody tr th {\n",
       "        vertical-align: top;\n",
       "    }\n",
       "\n",
       "    .dataframe thead th {\n",
       "        text-align: right;\n",
       "    }\n",
       "</style>\n",
       "<table border=\"1\" class=\"dataframe\">\n",
       "  <thead>\n",
       "    <tr style=\"text-align: right;\">\n",
       "      <th></th>\n",
       "      <th>SepalLengthCm</th>\n",
       "      <th>SepalWidthCm</th>\n",
       "      <th>PetalLengthCm</th>\n",
       "      <th>PetalWidthCm</th>\n",
       "      <th>Label</th>\n",
       "    </tr>\n",
       "  </thead>\n",
       "  <tbody>\n",
       "    <tr>\n",
       "      <th>0</th>\n",
       "      <td>5.1</td>\n",
       "      <td>3.5</td>\n",
       "      <td>1.4</td>\n",
       "      <td>0.2</td>\n",
       "      <td>Iris-setosa</td>\n",
       "    </tr>\n",
       "    <tr>\n",
       "      <th>1</th>\n",
       "      <td>4.9</td>\n",
       "      <td>3.0</td>\n",
       "      <td>1.4</td>\n",
       "      <td>0.2</td>\n",
       "      <td>Iris-setosa</td>\n",
       "    </tr>\n",
       "    <tr>\n",
       "      <th>2</th>\n",
       "      <td>4.7</td>\n",
       "      <td>3.2</td>\n",
       "      <td>1.3</td>\n",
       "      <td>0.2</td>\n",
       "      <td>Iris-setosa</td>\n",
       "    </tr>\n",
       "    <tr>\n",
       "      <th>3</th>\n",
       "      <td>4.6</td>\n",
       "      <td>3.1</td>\n",
       "      <td>1.5</td>\n",
       "      <td>0.2</td>\n",
       "      <td>Iris-setosa</td>\n",
       "    </tr>\n",
       "    <tr>\n",
       "      <th>4</th>\n",
       "      <td>5.0</td>\n",
       "      <td>3.6</td>\n",
       "      <td>1.4</td>\n",
       "      <td>0.2</td>\n",
       "      <td>Iris-setosa</td>\n",
       "    </tr>\n",
       "  </tbody>\n",
       "</table>\n",
       "</div>"
      ]
     },
     "execution_count": 4,
     "metadata": {},
     "output_type": "execute_result"
    }
   ],
   "execution_count": 4
  },
  {
   "metadata": {},
   "cell_type": "markdown",
   "source": [
    "### Data Visualization\n",
    "- Create color mapping dictionary for different species\n",
    "- Define visualization function to show:\n",
    "  - Petal length vs petal width relationship\n",
    "  - Distinct clusters for different species\n",
    "  - Transparency (alpha=0.7) to handle overlapping points\n",
    "- X/Y labels and legend for interpretation\n",
    "- Title for context"
   ],
   "id": "95f4ea13c4586ed4"
  },
  {
   "cell_type": "code",
   "id": "ef852f5c358d151b",
   "metadata": {
    "ExecuteTime": {
     "end_time": "2025-04-01T21:53:51.272972Z",
     "start_time": "2025-04-01T21:53:50.997904Z"
    }
   },
   "source": [
    "clrMap = {'Iris-setosa': 'r', 'Iris-versicolor': 'g', 'Iris-virginica': 'b'}\n",
    "\n",
    "\n",
    "def plot_data(datSet):\n",
    "    plt.figure(figsize=(8, 6))\n",
    "    for species in datSet['Label'].unique():\n",
    "        subset = datSet[datSet['Label'] == species]\n",
    "        plt.scatter(subset['PetalLengthCm'], subset['PetalWidthCm'], c=clrMap[species], label=f\"{species}\", alpha=0.7)\n",
    "    plt.xlabel('Petal Length (cm)')\n",
    "    plt.ylabel('Petal Width (cm)')\n",
    "    plt.legend()\n",
    "    plt.title('Iris Dataset (Train & Test Split)')\n",
    "    plt.show()\n",
    "\n",
    "\n",
    "plot_data(datSet)"
   ],
   "outputs": [
    {
     "data": {
      "text/plain": [
       "<Figure size 800x600 with 1 Axes>"
      ],
      "image/png": "[encoded data removed]"
     },
     "metadata": {},
     "output_type": "display_data"
    }
   ],
   "execution_count": 5
  },
  {
   "metadata": {},
   "cell_type": "markdown",
   "source": [
    "### Data Structure Inspection\n",
    "- Show dataset metadata using `info()`:\n",
    "  - 150 entries (samples)\n",
    "  - 4 numerical features (float64)\n",
    "  - 1 categorical target (object)\n",
    "  - No missing values\n",
    "- Memory usage (~6KB)"
   ],
   "id": "4de69d1a8162618e"
  },
  {
   "cell_type": "code",
   "id": "ad7a29c4bb09646a",
   "metadata": {
    "ExecuteTime": {
     "end_time": "2025-04-01T21:53:51.352886Z",
     "start_time": "2025-04-01T21:53:51.342028Z"
    }
   },
   "source": "datSet.info()",
   "outputs": [
    {
     "name": "stdout",
     "output_type": "stream",
     "text": [
      "<class 'pandas.core.frame.DataFrame'>\n",
      "RangeIndex: 150 entries, 0 to 149\n",
      "Data columns (total 5 columns):\n",
      " #   Column         Non-Null Count  Dtype  \n",
      "---  ------         --------------  -----  \n",
      " 0   SepalLengthCm  150 non-null    float64\n",
      " 1   SepalWidthCm   150 non-null    float64\n",
      " 2   PetalLengthCm  150 non-null    float64\n",
      " 3   PetalWidthCm   150 non-null    float64\n",
      " 4   Label          150 non-null    object \n",
      "dtypes: float64(4), object(1)\n",
      "memory usage: 6.0+ KB\n"
     ]
    }
   ],
   "execution_count": 6
  },
  {
   "cell_type": "code",
   "id": "7b81968d304b8e53",
   "metadata": {
    "ExecuteTime": {
     "end_time": "2025-04-01T21:53:51.421939Z",
     "start_time": "2025-04-01T21:53:51.416531Z"
    }
   },
   "source": "datSet.index",
   "outputs": [
    {
     "data": {
      "text/plain": [
       "RangeIndex(start=0, stop=150, step=1)"
      ]
     },
     "execution_count": 7,
     "metadata": {},
     "output_type": "execute_result"
    }
   ],
   "execution_count": 7
  },
  {
   "metadata": {},
   "cell_type": "markdown",
   "source": [
    "### Custom Train-Test Split\n",
    "- Input validation: Convert float percentage to absolute number\n",
    "- Get all indices from dataframe\n",
    "- Randomly select test indices using `random.sample`\n",
    "- Create test set using `.loc[]` on selected indices\n",
    "- Create train set by dropping test indices\n",
    "- Returns two DataFrames: training data and testing data"
   ],
   "id": "9d0b3a449cf6e3a5"
  },
  {
   "cell_type": "code",
   "id": "4d9ffe4b8a1f2f0d",
   "metadata": {
    "ExecuteTime": {
     "end_time": "2025-04-01T21:53:51.465207Z",
     "start_time": "2025-04-01T21:53:51.460208Z"
    }
   },
   "source": [
    "def testTrainSplit(datSet, testSize):\n",
    "    if isinstance(testSize, float):\n",
    "        testSize = round(testSize * len(datSet))\n",
    "    allIdx = datSet.index.tolist()\n",
    "    testIdx = random.sample(population=allIdx, k=testSize)\n",
    "    testDat = datSet.loc[testIdx]\n",
    "    trainDat = datSet.drop(testIdx)\n",
    "    return trainDat, testDat"
   ],
   "outputs": [],
   "execution_count": 8
  },
  {
   "metadata": {},
   "cell_type": "markdown",
   "source": [
    "### Split Execution\n",
    "- Set random seed (0) for reproducibility\n",
    "- Create 20-sample test set (~13% of 150 total samples)\n",
    "- Show resulting shapes:\n",
    "  - Training data: 130 samples\n",
    "  - Testing data: 20 samples\n",
    "- Note: Non-stratified split (potential class imbalance risk)"
   ],
   "id": "d79672df6ac2431d"
  },
  {
   "cell_type": "code",
   "id": "daf2ce9fbc7d9a70",
   "metadata": {
    "ExecuteTime": {
     "end_time": "2025-04-01T21:53:51.502520Z",
     "start_time": "2025-04-01T21:53:51.496718Z"
    }
   },
   "source": [
    "random.seed(0)\n",
    "trainDat, testDat = testTrainSplit(datSet, testSize=20)\n",
    "trainDat.shape, testDat.shape"
   ],
   "outputs": [
    {
     "data": {
      "text/plain": [
       "((130, 5), (20, 5))"
      ]
     },
     "execution_count": 9,
     "metadata": {},
     "output_type": "execute_result"
    }
   ],
   "execution_count": 9
  },
  {
   "metadata": {},
   "cell_type": "markdown",
   "source": [
    "### Training Data Preview\n",
    "- Display first 5 rows of training data\n",
    "- Verify all columns present except 'Id'\n",
    "- Note: Contains only setosa samples in shown rows (random sampling artifact)"
   ],
   "id": "3c6269c00d3dce6a"
  },
  {
   "metadata": {
    "ExecuteTime": {
     "end_time": "2025-04-01T21:53:51.544143Z",
     "start_time": "2025-04-01T21:53:51.534104Z"
    }
   },
   "cell_type": "code",
   "source": "trainDat.head()",
   "id": "30327329ea3de6b7",
   "outputs": [
    {
     "data": {
      "text/plain": [
       "   SepalLengthCm  SepalWidthCm  PetalLengthCm  PetalWidthCm        Label\n",
       "0            5.1           3.5            1.4           0.2  Iris-setosa\n",
       "1            4.9           3.0            1.4           0.2  Iris-setosa\n",
       "2            4.7           3.2            1.3           0.2  Iris-setosa\n",
       "3            4.6           3.1            1.5           0.2  Iris-setosa\n",
       "4            5.0           3.6            1.4           0.2  Iris-setosa"
      ],
      "text/html": [
       "<div>\n",
       "<style scoped>\n",
       "    .dataframe tbody tr th:only-of-type {\n",
       "        vertical-align: middle;\n",
       "    }\n",
       "\n",
       "    .dataframe tbody tr th {\n",
       "        vertical-align: top;\n",
       "    }\n",
       "\n",
       "    .dataframe thead th {\n",
       "        text-align: right;\n",
       "    }\n",
       "</style>\n",
       "<table border=\"1\" class=\"dataframe\">\n",
       "  <thead>\n",
       "    <tr style=\"text-align: right;\">\n",
       "      <th></th>\n",
       "      <th>SepalLengthCm</th>\n",
       "      <th>SepalWidthCm</th>\n",
       "      <th>PetalLengthCm</th>\n",
       "      <th>PetalWidthCm</th>\n",
       "      <th>Label</th>\n",
       "    </tr>\n",
       "  </thead>\n",
       "  <tbody>\n",
       "    <tr>\n",
       "      <th>0</th>\n",
       "      <td>5.1</td>\n",
       "      <td>3.5</td>\n",
       "      <td>1.4</td>\n",
       "      <td>0.2</td>\n",
       "      <td>Iris-setosa</td>\n",
       "    </tr>\n",
       "    <tr>\n",
       "      <th>1</th>\n",
       "      <td>4.9</td>\n",
       "      <td>3.0</td>\n",
       "      <td>1.4</td>\n",
       "      <td>0.2</td>\n",
       "      <td>Iris-setosa</td>\n",
       "    </tr>\n",
       "    <tr>\n",
       "      <th>2</th>\n",
       "      <td>4.7</td>\n",
       "      <td>3.2</td>\n",
       "      <td>1.3</td>\n",
       "      <td>0.2</td>\n",
       "      <td>Iris-setosa</td>\n",
       "    </tr>\n",
       "    <tr>\n",
       "      <th>3</th>\n",
       "      <td>4.6</td>\n",
       "      <td>3.1</td>\n",
       "      <td>1.5</td>\n",
       "      <td>0.2</td>\n",
       "      <td>Iris-setosa</td>\n",
       "    </tr>\n",
       "    <tr>\n",
       "      <th>4</th>\n",
       "      <td>5.0</td>\n",
       "      <td>3.6</td>\n",
       "      <td>1.4</td>\n",
       "      <td>0.2</td>\n",
       "      <td>Iris-setosa</td>\n",
       "    </tr>\n",
       "  </tbody>\n",
       "</table>\n",
       "</div>"
      ]
     },
     "execution_count": 10,
     "metadata": {},
     "output_type": "execute_result"
    }
   ],
   "execution_count": 10
  },
  {
   "metadata": {},
   "cell_type": "markdown",
   "source": [
    "### Testing Data Preview\n",
    "- Display first 5 rows of testing data\n",
    "- Shows samples from all three species\n",
    "- Different index numbers confirm proper split"
   ],
   "id": "4253457ea1371071"
  },
  {
   "metadata": {
    "ExecuteTime": {
     "end_time": "2025-04-01T21:53:51.606645Z",
     "start_time": "2025-04-01T21:53:51.597144Z"
    }
   },
   "cell_type": "code",
   "source": "testDat.head()",
   "id": "a32f9d0b0ef4e537",
   "outputs": [
    {
     "data": {
      "text/plain": [
       "     SepalLengthCm  SepalWidthCm  PetalLengthCm  PetalWidthCm            Label\n",
       "98             5.1           2.5            3.0           1.1  Iris-versicolor\n",
       "107            7.3           2.9            6.3           1.8   Iris-virginica\n",
       "10             5.4           3.7            1.5           0.2      Iris-setosa\n",
       "66             5.6           3.0            4.5           1.5  Iris-versicolor\n",
       "130            7.4           2.8            6.1           1.9   Iris-virginica"
      ],
      "text/html": [
       "<div>\n",
       "<style scoped>\n",
       "    .dataframe tbody tr th:only-of-type {\n",
       "        vertical-align: middle;\n",
       "    }\n",
       "\n",
       "    .dataframe tbody tr th {\n",
       "        vertical-align: top;\n",
       "    }\n",
       "\n",
       "    .dataframe thead th {\n",
       "        text-align: right;\n",
       "    }\n",
       "</style>\n",
       "<table border=\"1\" class=\"dataframe\">\n",
       "  <thead>\n",
       "    <tr style=\"text-align: right;\">\n",
       "      <th></th>\n",
       "      <th>SepalLengthCm</th>\n",
       "      <th>SepalWidthCm</th>\n",
       "      <th>PetalLengthCm</th>\n",
       "      <th>PetalWidthCm</th>\n",
       "      <th>Label</th>\n",
       "    </tr>\n",
       "  </thead>\n",
       "  <tbody>\n",
       "    <tr>\n",
       "      <th>98</th>\n",
       "      <td>5.1</td>\n",
       "      <td>2.5</td>\n",
       "      <td>3.0</td>\n",
       "      <td>1.1</td>\n",
       "      <td>Iris-versicolor</td>\n",
       "    </tr>\n",
       "    <tr>\n",
       "      <th>107</th>\n",
       "      <td>7.3</td>\n",
       "      <td>2.9</td>\n",
       "      <td>6.3</td>\n",
       "      <td>1.8</td>\n",
       "      <td>Iris-virginica</td>\n",
       "    </tr>\n",
       "    <tr>\n",
       "      <th>10</th>\n",
       "      <td>5.4</td>\n",
       "      <td>3.7</td>\n",
       "      <td>1.5</td>\n",
       "      <td>0.2</td>\n",
       "      <td>Iris-setosa</td>\n",
       "    </tr>\n",
       "    <tr>\n",
       "      <th>66</th>\n",
       "      <td>5.6</td>\n",
       "      <td>3.0</td>\n",
       "      <td>4.5</td>\n",
       "      <td>1.5</td>\n",
       "      <td>Iris-versicolor</td>\n",
       "    </tr>\n",
       "    <tr>\n",
       "      <th>130</th>\n",
       "      <td>7.4</td>\n",
       "      <td>2.8</td>\n",
       "      <td>6.1</td>\n",
       "      <td>1.9</td>\n",
       "      <td>Iris-virginica</td>\n",
       "    </tr>\n",
       "  </tbody>\n",
       "</table>\n",
       "</div>"
      ]
     },
     "execution_count": 11,
     "metadata": {},
     "output_type": "execute_result"
    }
   ],
   "execution_count": 11
  },
  {
   "metadata": {},
   "cell_type": "markdown",
   "source": [
    "### Split Visualization\n",
    "- Differentiate train/test sets using:\n",
    "  - Filled circles for training data\n",
    "  - Hollow circles with black borders for test data\n",
    "- Maintains color coding by species\n",
    "- Alpha transparency helps visualize density\n",
    "- Visual verification of representative split"
   ],
   "id": "36618dbb6e9e3d0"
  },
  {
   "metadata": {
    "ExecuteTime": {
     "end_time": "2025-04-01T21:53:51.865143Z",
     "start_time": "2025-04-01T21:53:51.670980Z"
    }
   },
   "cell_type": "code",
   "source": [
    "clrMap = {'Iris-setosa': 'r', 'Iris-versicolor': 'g', 'Iris-virginica': 'b'}\n",
    "\n",
    "\n",
    "def plotData(trainDat, testDat):\n",
    "    plt.figure(figsize=(8, 6))\n",
    "    for species in trainDat['Label'].unique():\n",
    "        subset = trainDat[trainDat['Label'] == species]\n",
    "        plt.scatter(subset['PetalLengthCm'], subset['PetalWidthCm'], c=clrMap[species], label=f\"{species} (Train)\", alpha=0.7)\n",
    "    for species in testDat['Label'].unique():\n",
    "        subset = testDat[testDat['Label'] == species]\n",
    "        plt.scatter(subset['PetalLengthCm'], subset['PetalWidthCm'], edgecolors='k', facecolors='none', label=f\"{species} (Test)\", linewidth=1.2)\n",
    "    plt.xlabel('Petal Length (cm)')\n",
    "    plt.ylabel('Petal Width (cm)')\n",
    "    plt.legend()\n",
    "    plt.title('Iris Dataset (Train & Test Split)')\n",
    "    plt.show()\n",
    "\n",
    "\n",
    "plotData(trainDat, testDat)"
   ],
   "id": "83b0260844b2537a",
   "outputs": [
    {
     "data": {
      "text/plain": [
       "<Figure size 800x600 with 1 Axes>"
      ],
      "image/png": "[encoded data removed]"
     },
     "metadata": {},
     "output_type": "display_data"
    }
   ],
   "execution_count": 12
  },
  {
   "metadata": {
    "ExecuteTime": {
     "end_time": "2025-04-01T21:53:51.950800Z",
     "start_time": "2025-04-01T21:53:51.945665Z"
    }
   },
   "cell_type": "code",
   "source": [
    "dat = trainDat.values\n",
    "dat[:5]"
   ],
   "id": "ac710f914897b5e1",
   "outputs": [
    {
     "data": {
      "text/plain": [
       "array([[5.1, 3.5, 1.4, 0.2, 'Iris-setosa'],\n",
       "       [4.9, 3.0, 1.4, 0.2, 'Iris-setosa'],\n",
       "       [4.7, 3.2, 1.3, 0.2, 'Iris-setosa'],\n",
       "       [4.6, 3.1, 1.5, 0.2, 'Iris-setosa'],\n",
       "       [5.0, 3.6, 1.4, 0.2, 'Iris-setosa']], dtype=object)"
      ]
     },
     "execution_count": 13,
     "metadata": {},
     "output_type": "execute_result"
    }
   ],
   "execution_count": 13
  },
  {
   "metadata": {},
   "cell_type": "markdown",
   "source": [
    "### Purity Check Function\n",
    "- Determines if a node contains single class\n",
    "- Extracts target values from last column\n",
    "- Returns True if only unique class exists\n",
    "- Fundamental stopping condition for tree growth"
   ],
   "id": "9932508e07187b3a"
  },
  {
   "metadata": {
    "ExecuteTime": {
     "end_time": "2025-04-01T21:53:52.004332Z",
     "start_time": "2025-04-01T21:53:51.999424Z"
    }
   },
   "cell_type": "code",
   "source": [
    "def isPure(dat):\n",
    "    y = dat[:, -1]\n",
    "    uniqClasses = np.unique(y)\n",
    "    return True if len(uniqClasses) == 1 else False"
   ],
   "id": "cfaec41a489346c6",
   "outputs": [],
   "execution_count": 14
  },
  {
   "metadata": {
    "ExecuteTime": {
     "end_time": "2025-04-01T21:53:52.083228Z",
     "start_time": "2025-04-01T21:53:52.076805Z"
    }
   },
   "cell_type": "code",
   "source": [
    "print(isPure(trainDat.values))\n",
    "print(isPure(trainDat[trainDat[\"Label\"] == \"Iris-setosa\"].values))\n",
    "print(isPure(trainDat[trainDat.PetalWidthCm < 1.2].values))\n",
    "print(isPure(trainDat[trainDat.PetalWidthCm < 0.8].values))"
   ],
   "id": "8068f4c92bc6a45",
   "outputs": [
    {
     "name": "stdout",
     "output_type": "stream",
     "text": [
      "False\n",
      "True\n",
      "False\n",
      "True\n"
     ]
    }
   ],
   "execution_count": 15
  },
  {
   "metadata": {},
   "cell_type": "markdown",
   "source": [
    "### Majority Class Classifier\n",
    "- Identifies most frequent class in node\n",
    "- Handles ties by returning first maximum\n",
    "- Used for leaf node predictions\n",
    "- Critical for handling impure terminal nodes"
   ],
   "id": "b0627e2f14dc56f5"
  },
  {
   "metadata": {
    "ExecuteTime": {
     "end_time": "2025-04-01T21:53:52.149848Z",
     "start_time": "2025-04-01T21:53:52.145918Z"
    }
   },
   "cell_type": "code",
   "source": [
    "def classifyDat(dat):\n",
    "    y = dat[:, -1]\n",
    "    uniqClasses, uniqClassesCounts = np.unique(y, return_counts=True)\n",
    "    mostFreqClassIdx = uniqClassesCounts.argmax()\n",
    "    clf = uniqClasses[mostFreqClassIdx]\n",
    "    return clf"
   ],
   "id": "c4c6af685bdb6fe1",
   "outputs": [],
   "execution_count": 16
  },
  {
   "metadata": {
    "ExecuteTime": {
     "end_time": "2025-04-01T21:53:52.227613Z",
     "start_time": "2025-04-01T21:53:52.218295Z"
    }
   },
   "cell_type": "code",
   "source": [
    "print(classifyDat(trainDat[trainDat[\"Label\"] == \"Iris-setosa\"].values))\n",
    "print(classifyDat(trainDat[trainDat.PetalWidthCm < 1.2].values))\n",
    "print(classifyDat(trainDat[trainDat.PetalWidthCm > 1.2].values))\n",
    "print(classifyDat(trainDat[trainDat.PetalWidthCm > 0.8].values))\n",
    "print(classifyDat(trainDat[trainDat.PetalWidthCm < 2].values))"
   ],
   "id": "12a0ce7fe0d7ab8b",
   "outputs": [
    {
     "name": "stdout",
     "output_type": "stream",
     "text": [
      "Iris-setosa\n",
      "Iris-setosa\n",
      "Iris-virginica\n",
      "Iris-versicolor\n",
      "Iris-setosa\n"
     ]
    }
   ],
   "execution_count": 17
  },
  {
   "metadata": {},
   "cell_type": "markdown",
   "source": [
    "### Feature Type Identification\n",
    "- Automatically classifies features as categorical/continuous\n",
    "- Uses 15 unique values threshold\n",
    "- Handles string features as categorical\n",
    "- Important for appropriate split strategies"
   ],
   "id": "9b168a5fd5c5d418"
  },
  {
   "metadata": {
    "ExecuteTime": {
     "end_time": "2025-04-01T21:53:52.301198Z",
     "start_time": "2025-04-01T21:53:52.296088Z"
    }
   },
   "cell_type": "code",
   "source": [
    "def getFeatType(datSet):\n",
    "    featType = []\n",
    "    uniqValLimit = 15\n",
    "    for feat in datSet.columns:\n",
    "        if feat != \"Label\":\n",
    "            uniqVal = datSet[feat].unique()\n",
    "            egVal = uniqVal[0]\n",
    "            if isinstance(egVal, str) or len(uniqVal) <= uniqValLimit:\n",
    "                featType.append(\"categorical\")\n",
    "            else:\n",
    "                featType.append(\"continuous\")\n",
    "    return featType"
   ],
   "id": "4cff338c79c40822",
   "outputs": [],
   "execution_count": 18
  },
  {
   "metadata": {},
   "cell_type": "markdown",
   "source": [
    "### Split Point Generation\n",
    "- Creates potential split candidates for all features\n",
    "- Continuous: Midpoints between sorted unique values\n",
    "- Categorical: All unique category values\n",
    "- Returns dictionary of possible splits per feature\n",
    "- Foundation for optimal split selection"
   ],
   "id": "501de27f683cb3f6"
  },
  {
   "metadata": {
    "ExecuteTime": {
     "end_time": "2025-04-01T21:53:52.365407Z",
     "start_time": "2025-04-01T21:53:52.360407Z"
    }
   },
   "cell_type": "code",
   "source": [
    "def getSplits(dat):\n",
    "    m, n = dat.shape\n",
    "    splits = {}\n",
    "    FEATURE_TYPES = getFeatType(datSet)\n",
    "    for feat in range(n - 1):\n",
    "        splits[feat] = []\n",
    "        val = dat[:, feat]\n",
    "        uniqVal = np.unique(val)\n",
    "        featType = FEATURE_TYPES[feat]\n",
    "        if featType == \"continuous\":\n",
    "            for i in range(len(uniqVal) - 1):\n",
    "                currVal = float(uniqVal[i])\n",
    "                nextVal = float(uniqVal[i + 1])\n",
    "                thisSplit = (currVal + nextVal) / 2\n",
    "                splits[feat].append(thisSplit)\n",
    "        else:\n",
    "            splits[feat] = uniqVal\n",
    "    return splits"
   ],
   "id": "8e17771354e5ce34",
   "outputs": [],
   "execution_count": 19
  },
  {
   "metadata": {
    "ExecuteTime": {
     "end_time": "2025-04-01T21:53:52.392615Z",
     "start_time": "2025-04-01T21:53:52.383185Z"
    }
   },
   "cell_type": "code",
   "source": [
    "splits = getSplits(dat)\n",
    "splits"
   ],
   "id": "7055fd3cc87cc3b",
   "outputs": [
    {
     "data": {
      "text/plain": [
       "{0: [4.35,\n",
       "  4.45,\n",
       "  4.55,\n",
       "  4.65,\n",
       "  4.75,\n",
       "  4.85,\n",
       "  4.95,\n",
       "  5.05,\n",
       "  5.15,\n",
       "  5.25,\n",
       "  5.35,\n",
       "  5.45,\n",
       "  5.55,\n",
       "  5.65,\n",
       "  5.75,\n",
       "  5.85,\n",
       "  5.95,\n",
       "  6.05,\n",
       "  6.15,\n",
       "  6.25,\n",
       "  6.35,\n",
       "  6.45,\n",
       "  6.55,\n",
       "  6.65,\n",
       "  6.75,\n",
       "  6.85,\n",
       "  6.95,\n",
       "  7.05,\n",
       "  7.15,\n",
       "  7.4,\n",
       "  7.65,\n",
       "  7.800000000000001],\n",
       " 1: [2.1,\n",
       "  2.25,\n",
       "  2.3499999999999996,\n",
       "  2.45,\n",
       "  2.55,\n",
       "  2.6500000000000004,\n",
       "  2.75,\n",
       "  2.8499999999999996,\n",
       "  2.95,\n",
       "  3.05,\n",
       "  3.1500000000000004,\n",
       "  3.25,\n",
       "  3.3499999999999996,\n",
       "  3.45,\n",
       "  3.55,\n",
       "  3.6500000000000004,\n",
       "  3.75,\n",
       "  3.8499999999999996,\n",
       "  3.95,\n",
       "  4.05,\n",
       "  4.15,\n",
       "  4.300000000000001],\n",
       " 2: [1.05,\n",
       "  1.15,\n",
       "  1.25,\n",
       "  1.35,\n",
       "  1.45,\n",
       "  1.55,\n",
       "  1.65,\n",
       "  1.7999999999999998,\n",
       "  2.5999999999999996,\n",
       "  3.4,\n",
       "  3.6,\n",
       "  3.75,\n",
       "  3.8499999999999996,\n",
       "  3.95,\n",
       "  4.05,\n",
       "  4.15,\n",
       "  4.25,\n",
       "  4.35,\n",
       "  4.45,\n",
       "  4.55,\n",
       "  4.65,\n",
       "  4.75,\n",
       "  4.85,\n",
       "  4.95,\n",
       "  5.05,\n",
       "  5.15,\n",
       "  5.25,\n",
       "  5.35,\n",
       "  5.45,\n",
       "  5.55,\n",
       "  5.65,\n",
       "  5.75,\n",
       "  5.85,\n",
       "  5.95,\n",
       "  6.05,\n",
       "  6.25,\n",
       "  6.5,\n",
       "  6.65,\n",
       "  6.800000000000001],\n",
       " 3: [0.15000000000000002,\n",
       "  0.25,\n",
       "  0.35,\n",
       "  0.45,\n",
       "  0.55,\n",
       "  0.8,\n",
       "  1.05,\n",
       "  1.15,\n",
       "  1.25,\n",
       "  1.35,\n",
       "  1.45,\n",
       "  1.55,\n",
       "  1.65,\n",
       "  1.75,\n",
       "  1.85,\n",
       "  1.95,\n",
       "  2.05,\n",
       "  2.1500000000000004,\n",
       "  2.25,\n",
       "  2.3499999999999996,\n",
       "  2.45]}"
      ]
     },
     "execution_count": 20,
     "metadata": {},
     "output_type": "execute_result"
    }
   ],
   "execution_count": 20
  },
  {
   "metadata": {},
   "cell_type": "markdown",
   "source": [
    "### Split Candidate Visualization\n",
    "- Vertical lines show potential PetalWidth splits\n",
    "- Demonstrates continuous split strategy\n",
    "- Helps understand decision boundary locations\n",
    "- Visual debugging of split generation"
   ],
   "id": "cafdff012469363c"
  },
  {
   "metadata": {
    "ExecuteTime": {
     "end_time": "2025-04-01T21:53:52.830922Z",
     "start_time": "2025-04-01T21:53:52.442732Z"
    }
   },
   "cell_type": "code",
   "source": [
    "sns.lmplot(data=trainDat, x=\"PetalWidthCm\", y=\"PetalLengthCm\", hue=\"Label\", fit_reg=False)\n",
    "plt.vlines(x=splits[3], ymin=0, ymax=max(trainDat.PetalLengthCm), linestyles='dashed')"
   ],
   "id": "935dce568c77d99",
   "outputs": [
    {
     "data": {
      "text/plain": [
       "<matplotlib.collections.LineCollection at 0x269ad5dd2e0>"
      ]
     },
     "execution_count": 21,
     "metadata": {},
     "output_type": "execute_result"
    },
    {
     "data": {
      "text/plain": [
       "<Figure size 632.5x500 with 1 Axes>"
      ],
      "image/png": "[encoded data removed]"
     },
     "metadata": {},
     "output_type": "display_data"
    }
   ],
   "execution_count": 21
  },
  {
   "metadata": {
    "ExecuteTime": {
     "end_time": "2025-04-01T21:53:53.145729Z",
     "start_time": "2025-04-01T21:53:52.849184Z"
    }
   },
   "cell_type": "code",
   "source": [
    "sns.lmplot(data=trainDat, x=\"PetalWidthCm\", y=\"PetalLengthCm\", hue=\"Label\", fit_reg=False)\n",
    "plt.hlines(y=splits[2], xmin=0, xmax=max(trainDat.PetalWidthCm), linestyles='dashed')"
   ],
   "id": "4527dc8619f7e729",
   "outputs": [
    {
     "data": {
      "text/plain": [
       "<matplotlib.collections.LineCollection at 0x269ae0dfe60>"
      ]
     },
     "execution_count": 22,
     "metadata": {},
     "output_type": "execute_result"
    },
    {
     "data": {
      "text/plain": [
       "<Figure size 632.5x500 with 1 Axes>"
      ],
      "image/png": "[encoded data removed]"
     },
     "metadata": {},
     "output_type": "display_data"
    }
   ],
   "execution_count": 22
  },
  {
   "metadata": {
    "ExecuteTime": {
     "end_time": "2025-04-01T21:53:53.166969Z",
     "start_time": "2025-04-01T21:53:53.160488Z"
    }
   },
   "cell_type": "code",
   "source": [
    "splitFeat = 3\n",
    "threshold = 0.8\n",
    "featVal = dat[:, splitFeat]\n",
    "featVal < threshold"
   ],
   "id": "16c1633a414722ff",
   "outputs": [
    {
     "data": {
      "text/plain": [
       "array([ True,  True,  True,  True,  True,  True,  True,  True,  True,\n",
       "        True,  True,  True,  True,  True,  True,  True,  True,  True,\n",
       "        True,  True,  True,  True,  True,  True,  True,  True,  True,\n",
       "        True,  True,  True,  True,  True,  True,  True,  True,  True,\n",
       "        True,  True,  True,  True,  True,  True,  True,  True,  True,\n",
       "        True, False, False, False, False, False, False, False, False,\n",
       "       False, False, False, False, False, False, False, False, False,\n",
       "       False, False, False, False, False, False, False, False, False,\n",
       "       False, False, False, False, False, False, False, False, False,\n",
       "       False, False, False, False, False, False, False, False, False,\n",
       "       False, False, False, False, False, False, False, False, False,\n",
       "       False, False, False, False, False, False, False, False, False,\n",
       "       False, False, False, False, False, False, False, False, False,\n",
       "       False, False, False, False, False, False, False, False, False,\n",
       "       False, False, False, False])"
      ]
     },
     "execution_count": 23,
     "metadata": {},
     "output_type": "execute_result"
    }
   ],
   "execution_count": 23
  },
  {
   "metadata": {
    "ExecuteTime": {
     "end_time": "2025-04-01T21:53:53.211010Z",
     "start_time": "2025-04-01T21:53:53.206932Z"
    }
   },
   "cell_type": "code",
   "source": "FEATURE_TYPES = getFeatType(trainDat)",
   "id": "50305c518334ad5b",
   "outputs": [],
   "execution_count": 24
  },
  {
   "metadata": {},
   "cell_type": "markdown",
   "source": [
    "### Data Partitioning Function\n",
    "- Splits data based on feature threshold\n",
    "- Handles both categorical and continuous features\n",
    "- Returns two subsets:\n",
    "  - `datBelow`: Satisfies split condition\n",
    "  - `datAbove`: Fails split condition\n",
    "- Core operation for tree node creation"
   ],
   "id": "4f39fe2d0316d92a"
  },
  {
   "metadata": {
    "ExecuteTime": {
     "end_time": "2025-04-01T21:53:53.233133Z",
     "start_time": "2025-04-01T21:53:53.227622Z"
    }
   },
   "cell_type": "code",
   "source": [
    "def split(dat, splitFeat, threshold):\n",
    "    featVal = dat[:, splitFeat]\n",
    "    type_of_feature = FEATURE_TYPES[splitFeat]\n",
    "    if type_of_feature == \"continuous\":\n",
    "        datBelow = dat[featVal <= threshold]\n",
    "        datAbove = dat[featVal > threshold]\n",
    "    else:\n",
    "        datBelow = dat[featVal == threshold]\n",
    "        datAbove = dat[featVal != threshold]\n",
    "    return datBelow, datAbove"
   ],
   "id": "973e34dc4c1259c1",
   "outputs": [],
   "execution_count": 25
  },
  {
   "metadata": {
    "ExecuteTime": {
     "end_time": "2025-04-01T21:53:53.547549Z",
     "start_time": "2025-04-01T21:53:53.249880Z"
    }
   },
   "cell_type": "code",
   "source": [
    "datBelow, datAbove = split(dat, splitFeat, threshold)\n",
    "plotDF = pd.DataFrame(dat, columns=datSet.columns)\n",
    "sns.lmplot(data=plotDF, x=\"PetalWidthCm\", y=\"PetalLengthCm\", hue=\"Label\", fit_reg=False)\n",
    "plt.vlines(x=threshold, ymin=1, ymax=max(plotDF.PetalLengthCm), linestyles='dashed')"
   ],
   "id": "a7ea8fede1fd6d48",
   "outputs": [
    {
     "data": {
      "text/plain": [
       "<matplotlib.collections.LineCollection at 0x269ae0e5700>"
      ]
     },
     "execution_count": 26,
     "metadata": {},
     "output_type": "execute_result"
    },
    {
     "data": {
      "text/plain": [
       "<Figure size 632.5x500 with 1 Axes>"
      ],
      "image/png": "[encoded data removed]"
     },
     "metadata": {},
     "output_type": "display_data"
    }
   ],
   "execution_count": 26
  },
  {
   "metadata": {},
   "cell_type": "markdown",
   "source": [
    "### Entropy Computation\n",
    "- Measures node impurity using Shannon entropy\n",
    "- 0 = perfect purity, higher = more disorder\n",
    "- Calculates class probability distribution\n",
    "- Key metric for evaluating split quality"
   ],
   "id": "4980d15b5f858aff"
  },
  {
   "metadata": {
    "ExecuteTime": {
     "end_time": "2025-04-01T21:53:53.568972Z",
     "start_time": "2025-04-01T21:53:53.565052Z"
    }
   },
   "cell_type": "code",
   "source": [
    "def entropy(data):\n",
    "    y = data[:, -1]\n",
    "    uniqClasses, uniqClassesCounts = np.unique(y, return_counts=True)\n",
    "    p = uniqClassesCounts / uniqClassesCounts.sum()\n",
    "    h = sum(-p * np.log2(p))\n",
    "    return h"
   ],
   "id": "ea73f8dd51f590e0",
   "outputs": [],
   "execution_count": 27
  },
  {
   "metadata": {
    "ExecuteTime": {
     "end_time": "2025-04-01T21:53:53.604105Z",
     "start_time": "2025-04-01T21:53:53.598925Z"
    }
   },
   "cell_type": "code",
   "source": [
    "print(entropy(datBelow))\n",
    "print(entropy(datAbove))"
   ],
   "id": "89c052fa61f1ebe",
   "outputs": [
    {
     "name": "stdout",
     "output_type": "stream",
     "text": [
      "0.0\n",
      "1.0\n"
     ]
    }
   ],
   "execution_count": 28
  },
  {
   "metadata": {
    "ExecuteTime": {
     "end_time": "2025-04-01T21:53:53.666676Z",
     "start_time": "2025-04-01T21:53:53.661850Z"
    }
   },
   "cell_type": "code",
   "source": [
    "datBelow, datAbove = split(dat, 3, 1.1)\n",
    "print(entropy(datBelow))\n",
    "print(entropy(datAbove))"
   ],
   "id": "ef604e78f26908c2",
   "outputs": [
    {
     "name": "stdout",
     "output_type": "stream",
     "text": [
      "0.6051865766334206\n",
      "0.9919924034538556\n"
     ]
    }
   ],
   "execution_count": 29
  },
  {
   "metadata": {
    "ExecuteTime": {
     "end_time": "2025-04-01T21:53:53.714500Z",
     "start_time": "2025-04-01T21:53:53.708217Z"
    }
   },
   "cell_type": "code",
   "source": [
    "splits = getSplits(dat)\n",
    "splits"
   ],
   "id": "e45a25160fa1fd7f",
   "outputs": [
    {
     "data": {
      "text/plain": [
       "{0: [4.35,\n",
       "  4.45,\n",
       "  4.55,\n",
       "  4.65,\n",
       "  4.75,\n",
       "  4.85,\n",
       "  4.95,\n",
       "  5.05,\n",
       "  5.15,\n",
       "  5.25,\n",
       "  5.35,\n",
       "  5.45,\n",
       "  5.55,\n",
       "  5.65,\n",
       "  5.75,\n",
       "  5.85,\n",
       "  5.95,\n",
       "  6.05,\n",
       "  6.15,\n",
       "  6.25,\n",
       "  6.35,\n",
       "  6.45,\n",
       "  6.55,\n",
       "  6.65,\n",
       "  6.75,\n",
       "  6.85,\n",
       "  6.95,\n",
       "  7.05,\n",
       "  7.15,\n",
       "  7.4,\n",
       "  7.65,\n",
       "  7.800000000000001],\n",
       " 1: [2.1,\n",
       "  2.25,\n",
       "  2.3499999999999996,\n",
       "  2.45,\n",
       "  2.55,\n",
       "  2.6500000000000004,\n",
       "  2.75,\n",
       "  2.8499999999999996,\n",
       "  2.95,\n",
       "  3.05,\n",
       "  3.1500000000000004,\n",
       "  3.25,\n",
       "  3.3499999999999996,\n",
       "  3.45,\n",
       "  3.55,\n",
       "  3.6500000000000004,\n",
       "  3.75,\n",
       "  3.8499999999999996,\n",
       "  3.95,\n",
       "  4.05,\n",
       "  4.15,\n",
       "  4.300000000000001],\n",
       " 2: [1.05,\n",
       "  1.15,\n",
       "  1.25,\n",
       "  1.35,\n",
       "  1.45,\n",
       "  1.55,\n",
       "  1.65,\n",
       "  1.7999999999999998,\n",
       "  2.5999999999999996,\n",
       "  3.4,\n",
       "  3.6,\n",
       "  3.75,\n",
       "  3.8499999999999996,\n",
       "  3.95,\n",
       "  4.05,\n",
       "  4.15,\n",
       "  4.25,\n",
       "  4.35,\n",
       "  4.45,\n",
       "  4.55,\n",
       "  4.65,\n",
       "  4.75,\n",
       "  4.85,\n",
       "  4.95,\n",
       "  5.05,\n",
       "  5.15,\n",
       "  5.25,\n",
       "  5.35,\n",
       "  5.45,\n",
       "  5.55,\n",
       "  5.65,\n",
       "  5.75,\n",
       "  5.85,\n",
       "  5.95,\n",
       "  6.05,\n",
       "  6.25,\n",
       "  6.5,\n",
       "  6.65,\n",
       "  6.800000000000001],\n",
       " 3: [0.15000000000000002,\n",
       "  0.25,\n",
       "  0.35,\n",
       "  0.45,\n",
       "  0.55,\n",
       "  0.8,\n",
       "  1.05,\n",
       "  1.15,\n",
       "  1.25,\n",
       "  1.35,\n",
       "  1.45,\n",
       "  1.55,\n",
       "  1.65,\n",
       "  1.75,\n",
       "  1.85,\n",
       "  1.95,\n",
       "  2.05,\n",
       "  2.1500000000000004,\n",
       "  2.25,\n",
       "  2.3499999999999996,\n",
       "  2.45]}"
      ]
     },
     "execution_count": 30,
     "metadata": {},
     "output_type": "execute_result"
    }
   ],
   "execution_count": 30
  },
  {
   "metadata": {},
   "cell_type": "markdown",
   "source": [
    "### Weighted Impurity Metric\n",
    "- Combines child node entropies proportionally\n",
    "- Accounts for relative subset sizes\n",
    "- Lower values indicate better splits\n",
    "- Fundamental for information gain calculation"
   ],
   "id": "be6b91ed06a04750"
  },
  {
   "metadata": {
    "ExecuteTime": {
     "end_time": "2025-04-01T21:53:53.759609Z",
     "start_time": "2025-04-01T21:53:53.755392Z"
    }
   },
   "cell_type": "code",
   "source": [
    "def wtChildEntropy(datBelow, datAbove):\n",
    "    n = len(datBelow) + len(datAbove)\n",
    "    wt_below = len(datBelow) / n\n",
    "    wt_above = len(datAbove) / n\n",
    "    fullEntropy = (wt_below * entropy(datBelow) + wt_above * entropy(datAbove))\n",
    "    return fullEntropy"
   ],
   "id": "3cdc3e2d37dc83ef",
   "outputs": [],
   "execution_count": 31
  },
  {
   "metadata": {
    "ExecuteTime": {
     "end_time": "2025-04-01T21:53:53.801152Z",
     "start_time": "2025-04-01T21:53:53.796152Z"
    }
   },
   "cell_type": "code",
   "source": "print(wtChildEntropy(datBelow, datAbove))",
   "id": "b82cba36daaf5f41",
   "outputs": [
    {
     "name": "stdout",
     "output_type": "stream",
     "text": [
      "0.8313192138515211\n"
     ]
    }
   ],
   "execution_count": 32
  },
  {
   "metadata": {},
   "cell_type": "markdown",
   "source": [
    "### Information Gain Calculation\n",
    "- Measures split quality through entropy reduction\n",
    "- Calculated as: Parent Entropy − Weighted Child Entropy\n",
    "- Higher values indicate more effective splits\n",
    "- Directly used for selecting optimal feature-threshold combinations  "
   ],
   "id": "c631db086953dff"
  },
  {
   "metadata": {
    "ExecuteTime": {
     "end_time": "2025-04-01T21:53:53.823414Z",
     "start_time": "2025-04-01T21:53:53.818669Z"
    }
   },
   "cell_type": "code",
   "source": [
    "def infoGain(dat, datBelow, datAbove):\n",
    "    h_parent = entropy(dat)\n",
    "    h_children = wtChildEntropy(datBelow, datAbove)\n",
    "    return h_parent - h_children"
   ],
   "id": "b1b7af86aef77757",
   "outputs": [],
   "execution_count": 33
  },
  {
   "metadata": {},
   "cell_type": "markdown",
   "source": [
    "### Optimal Split Selector\n",
    "- Exhaustively tests all potential splits\n",
    "- Compares splits using Information Gain\n",
    "- Tracks highest gain and corresponding parameters\n",
    "- Returns best feature-threshold combination"
   ],
   "id": "e841edd5ba061f3d"
  },
  {
   "metadata": {
    "ExecuteTime": {
     "end_time": "2025-04-01T21:53:53.866696Z",
     "start_time": "2025-04-01T21:53:53.861571Z"
    }
   },
   "cell_type": "code",
   "source": [
    "def bestSplit(dat, splits):\n",
    "    bestIG = -1\n",
    "    bestSplitFeat, bestThreshold = 0, 0\n",
    "    for feat in splits:\n",
    "        for val in splits[feat]:\n",
    "            datBelow, datAbove = split(dat, splitFeat=feat, threshold=val)\n",
    "            currIG = infoGain(dat, datBelow, datAbove)\n",
    "            if currIG >= bestIG:\n",
    "                bestIG = currIG\n",
    "                bestSplitFeat = feat\n",
    "                bestThreshold = val\n",
    "    return bestSplitFeat, bestThreshold"
   ],
   "id": "9bc3c7b6993f3d70",
   "outputs": [],
   "execution_count": 34
  },
  {
   "metadata": {
    "ExecuteTime": {
     "end_time": "2025-04-01T21:53:53.897216Z",
     "start_time": "2025-04-01T21:53:53.875704Z"
    }
   },
   "cell_type": "code",
   "source": "bestSplit(dat, splits)",
   "id": "d85fb15f61ae016e",
   "outputs": [
    {
     "data": {
      "text/plain": [
       "(3, 0.8)"
      ]
     },
     "execution_count": 35,
     "metadata": {},
     "output_type": "execute_result"
    }
   ],
   "execution_count": 35
  },
  {
   "metadata": {},
   "cell_type": "markdown",
   "source": [
    "### Tree Structure Prototype\n",
    "- Demonstrates nested dictionary format\n",
    "- Decision node format: {question: [yes_path, no_path]}\n",
    "- Base structure for recursive tree building\n",
    "- Leaf nodes will contain class labels"
   ],
   "id": "8e3f8bd766fd953f"
  },
  {
   "metadata": {
    "ExecuteTime": {
     "end_time": "2025-04-01T21:53:53.924170Z",
     "start_time": "2025-04-01T21:53:53.920005Z"
    }
   },
   "cell_type": "code",
   "source": "subTree = {\"ques\": [\"yes_answer\", \"no_answer\"]}",
   "id": "c38c0ca9266d4bfc",
   "outputs": [],
   "execution_count": 36
  },
  {
   "metadata": {},
   "cell_type": "markdown",
   "source": [
    "### Decision Tree Structure Example\n",
    "- Demonstrates actual tree structure format\n",
    "- Shows nested decision nodes with:\n",
    "  - Continuous split conditions\n",
    "  - Leaf node classifications\n",
    "  - Hierarchical yes/no branches\n",
    "- Provides concrete example of final tree format"
   ],
   "id": "db2c176860f36f7a"
  },
  {
   "metadata": {
    "ExecuteTime": {
     "end_time": "2025-04-01T21:53:53.952944Z",
     "start_time": "2025-04-01T21:53:53.948994Z"
    }
   },
   "cell_type": "code",
   "source": "egTree = {\"petal_width <= 0.8\": [\"Iris-setosa\", {\"petal_width <= 1.65\": [{\"petal_length <= 4.9\": [\"Iris-versicolor\", \"Iris-virginica\"]}, \"Iris-virginica\"]}]}",
   "id": "b5e8d474cfa213f6",
   "outputs": [],
   "execution_count": 37
  },
  {
   "cell_type": "code",
   "id": "6b080d421c9da115",
   "metadata": {
    "ExecuteTime": {
     "end_time": "2025-04-01T21:53:53.994798Z",
     "start_time": "2025-04-01T21:53:53.990418Z"
    }
   },
   "source": [
    "FEATURE_TYPES = getFeatType(trainDat)\n",
    "print(FEATURE_TYPES)"
   ],
   "outputs": [
    {
     "name": "stdout",
     "output_type": "stream",
     "text": [
      "['continuous', 'continuous', 'continuous', 'continuous']\n"
     ]
    }
   ],
   "execution_count": 38
  },
  {
   "metadata": {
    "ExecuteTime": {
     "end_time": "2025-04-01T21:53:54.007310Z",
     "start_time": "2025-04-01T21:53:54.001811Z"
    }
   },
   "cell_type": "code",
   "source": "datSet.columns",
   "id": "477bed07d3ca2891",
   "outputs": [
    {
     "data": {
      "text/plain": [
       "Index(['SepalLengthCm', 'SepalWidthCm', 'PetalLengthCm', 'PetalWidthCm',\n",
       "       'Label'],\n",
       "      dtype='object')"
      ]
     },
     "execution_count": 39,
     "metadata": {},
     "output_type": "execute_result"
    }
   ],
   "execution_count": 39
  },
  {
   "metadata": {},
   "cell_type": "markdown",
   "source": [
    "### ID3 Algorithm Core\n",
    "- Recursive decision tree builder\n",
    "- Handles three stopping conditions:\n",
    "  1. Node purity\n",
    "  2. Minimum samples per node\n",
    "  3. Maximum depth\n",
    "- Creates question nodes with yes/no branches\n",
    "- Automatically handles feature types\n",
    "- Returns complete nested dictionary tree"
   ],
   "id": "d1a676e4cc91dfc"
  },
  {
   "metadata": {
    "ExecuteTime": {
     "end_time": "2025-04-01T21:53:54.043149Z",
     "start_time": "2025-04-01T21:53:54.036149Z"
    }
   },
   "cell_type": "code",
   "source": [
    "def ID3(datSet, c=0, minSubset=2, maxDepth=5):\n",
    "    if c == 0:\n",
    "        global COLUMN_HEADERS, FEATURE_TYPES\n",
    "        COLUMN_HEADERS = datSet.columns\n",
    "        FEATURE_TYPES = getFeatType(datSet)\n",
    "        dat = datSet.values\n",
    "    else:\n",
    "        dat = datSet\n",
    "    if isPure(dat) or len(dat) < minSubset or c == maxDepth:\n",
    "        return classifyDat(dat)\n",
    "    else:\n",
    "        c += 1\n",
    "        splits = getSplits(dat)\n",
    "        splitFeat, threshold = bestSplit(dat, splits)\n",
    "        datBelow, datAbove = split(dat, splitFeat, threshold)\n",
    "        if len(datBelow) == 0 or len(datAbove) == 0:\n",
    "            return classifyDat(dat)\n",
    "        featNam = COLUMN_HEADERS[splitFeat]\n",
    "        featType = FEATURE_TYPES[splitFeat]\n",
    "        if featType == \"continuous\":\n",
    "            ques = f\"{featNam} <= {threshold}\"\n",
    "        else:\n",
    "            ques = f\"{featNam} = {threshold}\"\n",
    "        subTree = {ques: []}\n",
    "        yesAns = ID3(datBelow, c, minSubset, maxDepth)\n",
    "        noAns = ID3(datAbove, c, minSubset, maxDepth)\n",
    "        if yesAns == noAns:\n",
    "            subTree = yesAns\n",
    "        else:\n",
    "            subTree[ques].append(yesAns)\n",
    "            subTree[ques].append(noAns)\n",
    "        return subTree"
   ],
   "id": "e431f104b7c54a6b",
   "outputs": [],
   "execution_count": 40
  },
  {
   "metadata": {
    "ExecuteTime": {
     "end_time": "2025-04-01T21:53:54.098691Z",
     "start_time": "2025-04-01T21:53:54.080775Z"
    }
   },
   "cell_type": "code",
   "source": [
    "tree = ID3(trainDat[trainDat.Label != \"Iris-virginica\"])\n",
    "tree"
   ],
   "id": "25a01a07a99b7d74",
   "outputs": [
    {
     "data": {
      "text/plain": [
       "{'PetalLengthCm <= 2.5999999999999996': ['Iris-setosa', 'Iris-versicolor']}"
      ]
     },
     "execution_count": 41,
     "metadata": {},
     "output_type": "execute_result"
    }
   ],
   "execution_count": 41
  },
  {
   "metadata": {
    "ExecuteTime": {
     "end_time": "2025-04-01T21:53:54.168751Z",
     "start_time": "2025-04-01T21:53:54.123288Z"
    }
   },
   "cell_type": "code",
   "source": [
    "tree = ID3(trainDat)\n",
    "tree"
   ],
   "id": "454d35ccdc09a11e",
   "outputs": [
    {
     "data": {
      "text/plain": [
       "{'PetalWidthCm <= 0.8': ['Iris-setosa',\n",
       "  {'PetalWidthCm <= 1.65': [{'PetalLengthCm <= 4.95': ['Iris-versicolor',\n",
       "      {'PetalWidthCm <= 1.55': ['Iris-virginica', 'Iris-versicolor']}]},\n",
       "    {'PetalLengthCm <= 4.85': [{'SepalWidthCm <= 3.1': ['Iris-virginica',\n",
       "        'Iris-versicolor']},\n",
       "      'Iris-virginica']}]}]}"
      ]
     },
     "execution_count": 42,
     "metadata": {},
     "output_type": "execute_result"
    }
   ],
   "execution_count": 42
  },
  {
   "metadata": {
    "ExecuteTime": {
     "end_time": "2025-04-01T21:53:54.178720Z",
     "start_time": "2025-04-01T21:53:54.174758Z"
    }
   },
   "cell_type": "code",
   "source": "pprint(tree)",
   "id": "78e7518e561cb28b",
   "outputs": [
    {
     "name": "stdout",
     "output_type": "stream",
     "text": [
      "{'PetalWidthCm <= 0.8': ['Iris-setosa',\n",
      "                         {'PetalWidthCm <= 1.65': [{'PetalLengthCm <= 4.95': ['Iris-versicolor',\n",
      "                                                                              {'PetalWidthCm <= 1.55': ['Iris-virginica',\n",
      "                                                                                                        'Iris-versicolor']}]},\n",
      "                                                   {'PetalLengthCm <= 4.85': [{'SepalWidthCm <= 3.1': ['Iris-virginica',\n",
      "                                                                                                       'Iris-versicolor']},\n",
      "                                                                              'Iris-virginica']}]}]}\n"
     ]
    }
   ],
   "execution_count": 43
  },
  {
   "metadata": {
    "ExecuteTime": {
     "end_time": "2025-04-01T21:53:54.235273Z",
     "start_time": "2025-04-01T21:53:54.207126Z"
    }
   },
   "cell_type": "code",
   "source": [
    "tree = ID3(trainDat, minSubset=60)\n",
    "pprint(tree)"
   ],
   "id": "844ae4aa436fb46b",
   "outputs": [
    {
     "name": "stdout",
     "output_type": "stream",
     "text": [
      "{'PetalWidthCm <= 0.8': ['Iris-setosa',\n",
      "                         {'PetalWidthCm <= 1.65': ['Iris-versicolor',\n",
      "                                                   'Iris-virginica']}]}\n"
     ]
    }
   ],
   "execution_count": 44
  },
  {
   "metadata": {
    "ExecuteTime": {
     "end_time": "2025-04-01T21:53:54.279147Z",
     "start_time": "2025-04-01T21:53:54.255118Z"
    }
   },
   "cell_type": "code",
   "source": [
    "tree = ID3(trainDat, maxDepth=1)\n",
    "pprint(tree)"
   ],
   "id": "c7aff1cbe7d95c8b",
   "outputs": [
    {
     "name": "stdout",
     "output_type": "stream",
     "text": [
      "{'PetalWidthCm <= 0.8': ['Iris-setosa', 'Iris-versicolor']}\n"
     ]
    }
   ],
   "execution_count": 45
  },
  {
   "metadata": {
    "ExecuteTime": {
     "end_time": "2025-04-01T21:53:54.339593Z",
     "start_time": "2025-04-01T21:53:54.301940Z"
    }
   },
   "cell_type": "code",
   "source": [
    "tree = ID3(trainDat, maxDepth=3)\n",
    "pprint(tree)"
   ],
   "id": "bae8fdd551f6f111",
   "outputs": [
    {
     "name": "stdout",
     "output_type": "stream",
     "text": [
      "{'PetalWidthCm <= 0.8': ['Iris-setosa',\n",
      "                         {'PetalWidthCm <= 1.65': [{'PetalLengthCm <= 4.95': ['Iris-versicolor',\n",
      "                                                                              'Iris-virginica']},\n",
      "                                                   'Iris-virginica']}]}\n"
     ]
    }
   ],
   "execution_count": 46
  },
  {
   "metadata": {
    "ExecuteTime": {
     "end_time": "2025-04-01T21:53:54.362223Z",
     "start_time": "2025-04-01T21:53:54.356772Z"
    }
   },
   "cell_type": "code",
   "source": "tree.keys()",
   "id": "91d14f7d92b19161",
   "outputs": [
    {
     "data": {
      "text/plain": [
       "dict_keys(['PetalWidthCm <= 0.8'])"
      ]
     },
     "execution_count": 47,
     "metadata": {},
     "output_type": "execute_result"
    }
   ],
   "execution_count": 47
  },
  {
   "metadata": {
    "ExecuteTime": {
     "end_time": "2025-04-01T21:53:54.391875Z",
     "start_time": "2025-04-01T21:53:54.385752Z"
    }
   },
   "cell_type": "code",
   "source": "list(tree.keys())[0]",
   "id": "ba9bc9a765242cc5",
   "outputs": [
    {
     "data": {
      "text/plain": [
       "'PetalWidthCm <= 0.8'"
      ]
     },
     "execution_count": 48,
     "metadata": {},
     "output_type": "execute_result"
    }
   ],
   "execution_count": 48
  },
  {
   "metadata": {
    "ExecuteTime": {
     "end_time": "2025-04-01T21:53:54.442430Z",
     "start_time": "2025-04-01T21:53:54.436949Z"
    }
   },
   "cell_type": "code",
   "source": [
    "ques = list(tree.keys())[0]\n",
    "ques.split()"
   ],
   "id": "33dd2d47254c1b01",
   "outputs": [
    {
     "data": {
      "text/plain": [
       "['PetalWidthCm', '<=', '0.8']"
      ]
     },
     "execution_count": 49,
     "metadata": {},
     "output_type": "execute_result"
    }
   ],
   "execution_count": 49
  },
  {
   "metadata": {
    "ExecuteTime": {
     "end_time": "2025-04-01T21:53:54.472066Z",
     "start_time": "2025-04-01T21:53:54.467977Z"
    }
   },
   "cell_type": "code",
   "source": [
    "featNam, cmpOp, val = ques.split()\n",
    "print(featNam, cmpOp, val)"
   ],
   "id": "fa553b551e464d57",
   "outputs": [
    {
     "name": "stdout",
     "output_type": "stream",
     "text": [
      "PetalWidthCm <= 0.8\n"
     ]
    }
   ],
   "execution_count": 50
  },
  {
   "metadata": {},
   "cell_type": "markdown",
   "source": [
    "### Complete Classification Function\n",
    "- Handles both leaf nodes and decision nodes\n",
    "- Parses split conditions dynamically\n",
    "- Recursively navigates tree structure\n",
    "- Returns final class prediction\n",
    "- Handles mixed-type comparisons:\n",
    "  - Numeric thresholds with <= operator\n",
    "  - Categorical matches with = operator"
   ],
   "id": "5059229b6314775"
  },
  {
   "cell_type": "code",
   "id": "9b569bc2c1d226f1",
   "metadata": {
    "ExecuteTime": {
     "end_time": "2025-04-01T21:53:54.518461Z",
     "start_time": "2025-04-01T21:53:54.513405Z"
    }
   },
   "source": [
    "def classifyEg(eg, tree):\n",
    "    ques = list(tree.keys())[0]\n",
    "    featNam, cmpOp, val = ques.split(\" \")\n",
    "    if cmpOp == \"<=\":\n",
    "        if eg[featNam] <= float(val):\n",
    "            ans = tree[ques][0]\n",
    "        else:\n",
    "            ans = tree[ques][1]\n",
    "    else:\n",
    "        if str(eg[featNam]) == val:\n",
    "            ans = tree[ques][0]\n",
    "        else:\n",
    "            ans = tree[ques][1]\n",
    "    if not isinstance(ans, dict):\n",
    "        return ans\n",
    "    else:\n",
    "        remTree = ans\n",
    "        return classifyEg(eg, remTree)"
   ],
   "outputs": [],
   "execution_count": 51
  },
  {
   "metadata": {
    "ExecuteTime": {
     "end_time": "2025-04-01T21:53:54.545394Z",
     "start_time": "2025-04-01T21:53:54.538294Z"
    }
   },
   "cell_type": "code",
   "source": [
    "eg = testDat.iloc[0]\n",
    "eg"
   ],
   "id": "1ea495f5270cdf03",
   "outputs": [
    {
     "data": {
      "text/plain": [
       "SepalLengthCm                5.1\n",
       "SepalWidthCm                 2.5\n",
       "PetalLengthCm                3.0\n",
       "PetalWidthCm                 1.1\n",
       "Label            Iris-versicolor\n",
       "Name: 98, dtype: object"
      ]
     },
     "execution_count": 52,
     "metadata": {},
     "output_type": "execute_result"
    }
   ],
   "execution_count": 52
  },
  {
   "metadata": {
    "ExecuteTime": {
     "end_time": "2025-04-01T21:53:54.600076Z",
     "start_time": "2025-04-01T21:53:54.595994Z"
    }
   },
   "cell_type": "code",
   "source": "print(eg[\"PetalWidthCm\"] <= 0.8)",
   "id": "bdf1b1e33a5a1506",
   "outputs": [
    {
     "name": "stdout",
     "output_type": "stream",
     "text": [
      "False\n"
     ]
    }
   ],
   "execution_count": 53
  },
  {
   "cell_type": "code",
   "id": "ec7f0d37b1c19a5d",
   "metadata": {
    "ExecuteTime": {
     "end_time": "2025-04-01T21:53:54.669641Z",
     "start_time": "2025-04-01T21:53:54.665310Z"
    }
   },
   "source": "classifyEg(eg, tree)",
   "outputs": [
    {
     "data": {
      "text/plain": [
       "'Iris-versicolor'"
      ]
     },
     "execution_count": 54,
     "metadata": {},
     "output_type": "execute_result"
    }
   ],
   "execution_count": 54
  },
  {
   "metadata": {
    "ExecuteTime": {
     "end_time": "2025-04-01T21:53:54.751846Z",
     "start_time": "2025-04-01T21:53:54.745729Z"
    }
   },
   "cell_type": "code",
   "source": [
    "eg = testDat.iloc[1]\n",
    "eg"
   ],
   "id": "111ffff83f632d38",
   "outputs": [
    {
     "data": {
      "text/plain": [
       "SepalLengthCm               7.3\n",
       "SepalWidthCm                2.9\n",
       "PetalLengthCm               6.3\n",
       "PetalWidthCm                1.8\n",
       "Label            Iris-virginica\n",
       "Name: 107, dtype: object"
      ]
     },
     "execution_count": 55,
     "metadata": {},
     "output_type": "execute_result"
    }
   ],
   "execution_count": 55
  },
  {
   "metadata": {
    "ExecuteTime": {
     "end_time": "2025-04-01T21:53:54.835030Z",
     "start_time": "2025-04-01T21:53:54.829446Z"
    }
   },
   "cell_type": "code",
   "source": "classifyEg(eg, tree)",
   "id": "5e43e15ac280538e",
   "outputs": [
    {
     "data": {
      "text/plain": [
       "'Iris-virginica'"
      ]
     },
     "execution_count": 56,
     "metadata": {},
     "output_type": "execute_result"
    }
   ],
   "execution_count": 56
  },
  {
   "metadata": {
    "ExecuteTime": {
     "end_time": "2025-04-01T21:53:54.981640Z",
     "start_time": "2025-04-01T21:53:54.973482Z"
    }
   },
   "cell_type": "code",
   "source": [
    "eg = testDat.iloc[2]\n",
    "eg"
   ],
   "id": "8a893cafa7b7cde5",
   "outputs": [
    {
     "data": {
      "text/plain": [
       "SepalLengthCm            5.4\n",
       "SepalWidthCm             3.7\n",
       "PetalLengthCm            1.5\n",
       "PetalWidthCm             0.2\n",
       "Label            Iris-setosa\n",
       "Name: 10, dtype: object"
      ]
     },
     "execution_count": 57,
     "metadata": {},
     "output_type": "execute_result"
    }
   ],
   "execution_count": 57
  },
  {
   "metadata": {
    "ExecuteTime": {
     "end_time": "2025-04-01T21:53:55.060391Z",
     "start_time": "2025-04-01T21:53:55.053210Z"
    }
   },
   "cell_type": "code",
   "source": "classifyEg(eg, tree)",
   "id": "8864038649a9ed4d",
   "outputs": [
    {
     "data": {
      "text/plain": [
       "'Iris-setosa'"
      ]
     },
     "execution_count": 58,
     "metadata": {},
     "output_type": "execute_result"
    }
   ],
   "execution_count": 58
  },
  {
   "metadata": {},
   "cell_type": "markdown",
   "source": [
    "### Accuracy Measurement\n",
    "- Adds two new columns to DataFrame:\n",
    "  1. Predicted classifications\n",
    "  2. Boolean correctness indicators\n",
    "- Calculates mean correctness as accuracy\n",
    "- Returns percentage of correct predictions\n",
    "- Handles dataset of any size"
   ],
   "id": "88e437ef3832df7b"
  },
  {
   "cell_type": "code",
   "id": "770ca7b57c178210",
   "metadata": {
    "ExecuteTime": {
     "end_time": "2025-04-01T21:53:55.180544Z",
     "start_time": "2025-04-01T21:53:55.174544Z"
    }
   },
   "source": [
    "def calcAccuracy(datSet, tree):\n",
    "    datSet[\"classification\"] = datSet.apply(classifyEg, axis=1, args=(tree,))\n",
    "    datSet[\"correct_classification\"] = datSet[\"classification\"] == datSet[\"Label\"]\n",
    "    accuracy = datSet[\"correct_classification\"].mean()\n",
    "    return accuracy"
   ],
   "outputs": [],
   "execution_count": 59
  },
  {
   "metadata": {
    "ExecuteTime": {
     "end_time": "2025-04-01T21:53:55.270936Z",
     "start_time": "2025-04-01T21:53:55.260089Z"
    }
   },
   "cell_type": "code",
   "source": "print(calcAccuracy(datSet, tree))",
   "id": "6826abafe7af7c98",
   "outputs": [
    {
     "name": "stdout",
     "output_type": "stream",
     "text": [
      "0.98\n"
     ]
    }
   ],
   "execution_count": 60
  },
  {
   "metadata": {
    "ExecuteTime": {
     "end_time": "2025-04-01T21:53:55.341299Z",
     "start_time": "2025-04-01T21:53:55.320949Z"
    }
   },
   "cell_type": "code",
   "source": "testDat",
   "id": "9591f4699394a2ad",
   "outputs": [
    {
     "data": {
      "text/plain": [
       "     SepalLengthCm  SepalWidthCm  PetalLengthCm  PetalWidthCm            Label\n",
       "98             5.1           2.5            3.0           1.1  Iris-versicolor\n",
       "107            7.3           2.9            6.3           1.8   Iris-virginica\n",
       "10             5.4           3.7            1.5           0.2      Iris-setosa\n",
       "66             5.6           3.0            4.5           1.5  Iris-versicolor\n",
       "130            7.4           2.8            6.1           1.9   Iris-virginica\n",
       "124            6.7           3.3            5.7           2.1   Iris-virginica\n",
       "103            6.3           2.9            5.6           1.8   Iris-virginica\n",
       "77             6.7           3.0            5.0           1.7  Iris-versicolor\n",
       "122            7.7           2.8            6.7           2.0   Iris-virginica\n",
       "91             6.1           3.0            4.6           1.4  Iris-versicolor\n",
       "149            5.9           3.0            5.1           1.8   Iris-virginica\n",
       "55             5.7           2.8            4.5           1.3  Iris-versicolor\n",
       "129            7.2           3.0            5.8           1.6   Iris-virginica\n",
       "35             5.0           3.2            1.2           0.2      Iris-setosa\n",
       "72             6.3           2.5            4.9           1.5  Iris-versicolor\n",
       "24             4.8           3.4            1.9           0.2      Iris-setosa\n",
       "64             5.6           2.9            3.6           1.3  Iris-versicolor\n",
       "136            6.3           3.4            5.6           2.4   Iris-virginica\n",
       "37             4.9           3.1            1.5           0.1      Iris-setosa\n",
       "79             5.7           2.6            3.5           1.0  Iris-versicolor"
      ],
      "text/html": [
       "<div>\n",
       "<style scoped>\n",
       "    .dataframe tbody tr th:only-of-type {\n",
       "        vertical-align: middle;\n",
       "    }\n",
       "\n",
       "    .dataframe tbody tr th {\n",
       "        vertical-align: top;\n",
       "    }\n",
       "\n",
       "    .dataframe thead th {\n",
       "        text-align: right;\n",
       "    }\n",
       "</style>\n",
       "<table border=\"1\" class=\"dataframe\">\n",
       "  <thead>\n",
       "    <tr style=\"text-align: right;\">\n",
       "      <th></th>\n",
       "      <th>SepalLengthCm</th>\n",
       "      <th>SepalWidthCm</th>\n",
       "      <th>PetalLengthCm</th>\n",
       "      <th>PetalWidthCm</th>\n",
       "      <th>Label</th>\n",
       "    </tr>\n",
       "  </thead>\n",
       "  <tbody>\n",
       "    <tr>\n",
       "      <th>98</th>\n",
       "      <td>5.1</td>\n",
       "      <td>2.5</td>\n",
       "      <td>3.0</td>\n",
       "      <td>1.1</td>\n",
       "      <td>Iris-versicolor</td>\n",
       "    </tr>\n",
       "    <tr>\n",
       "      <th>107</th>\n",
       "      <td>7.3</td>\n",
       "      <td>2.9</td>\n",
       "      <td>6.3</td>\n",
       "      <td>1.8</td>\n",
       "      <td>Iris-virginica</td>\n",
       "    </tr>\n",
       "    <tr>\n",
       "      <th>10</th>\n",
       "      <td>5.4</td>\n",
       "      <td>3.7</td>\n",
       "      <td>1.5</td>\n",
       "      <td>0.2</td>\n",
       "      <td>Iris-setosa</td>\n",
       "    </tr>\n",
       "    <tr>\n",
       "      <th>66</th>\n",
       "      <td>5.6</td>\n",
       "      <td>3.0</td>\n",
       "      <td>4.5</td>\n",
       "      <td>1.5</td>\n",
       "      <td>Iris-versicolor</td>\n",
       "    </tr>\n",
       "    <tr>\n",
       "      <th>130</th>\n",
       "      <td>7.4</td>\n",
       "      <td>2.8</td>\n",
       "      <td>6.1</td>\n",
       "      <td>1.9</td>\n",
       "      <td>Iris-virginica</td>\n",
       "    </tr>\n",
       "    <tr>\n",
       "      <th>124</th>\n",
       "      <td>6.7</td>\n",
       "      <td>3.3</td>\n",
       "      <td>5.7</td>\n",
       "      <td>2.1</td>\n",
       "      <td>Iris-virginica</td>\n",
       "    </tr>\n",
       "    <tr>\n",
       "      <th>103</th>\n",
       "      <td>6.3</td>\n",
       "      <td>2.9</td>\n",
       "      <td>5.6</td>\n",
       "      <td>1.8</td>\n",
       "      <td>Iris-virginica</td>\n",
       "    </tr>\n",
       "    <tr>\n",
       "      <th>77</th>\n",
       "      <td>6.7</td>\n",
       "      <td>3.0</td>\n",
       "      <td>5.0</td>\n",
       "      <td>1.7</td>\n",
       "      <td>Iris-versicolor</td>\n",
       "    </tr>\n",
       "    <tr>\n",
       "      <th>122</th>\n",
       "      <td>7.7</td>\n",
       "      <td>2.8</td>\n",
       "      <td>6.7</td>\n",
       "      <td>2.0</td>\n",
       "      <td>Iris-virginica</td>\n",
       "    </tr>\n",
       "    <tr>\n",
       "      <th>91</th>\n",
       "      <td>6.1</td>\n",
       "      <td>3.0</td>\n",
       "      <td>4.6</td>\n",
       "      <td>1.4</td>\n",
       "      <td>Iris-versicolor</td>\n",
       "    </tr>\n",
       "    <tr>\n",
       "      <th>149</th>\n",
       "      <td>5.9</td>\n",
       "      <td>3.0</td>\n",
       "      <td>5.1</td>\n",
       "      <td>1.8</td>\n",
       "      <td>Iris-virginica</td>\n",
       "    </tr>\n",
       "    <tr>\n",
       "      <th>55</th>\n",
       "      <td>5.7</td>\n",
       "      <td>2.8</td>\n",
       "      <td>4.5</td>\n",
       "      <td>1.3</td>\n",
       "      <td>Iris-versicolor</td>\n",
       "    </tr>\n",
       "    <tr>\n",
       "      <th>129</th>\n",
       "      <td>7.2</td>\n",
       "      <td>3.0</td>\n",
       "      <td>5.8</td>\n",
       "      <td>1.6</td>\n",
       "      <td>Iris-virginica</td>\n",
       "    </tr>\n",
       "    <tr>\n",
       "      <th>35</th>\n",
       "      <td>5.0</td>\n",
       "      <td>3.2</td>\n",
       "      <td>1.2</td>\n",
       "      <td>0.2</td>\n",
       "      <td>Iris-setosa</td>\n",
       "    </tr>\n",
       "    <tr>\n",
       "      <th>72</th>\n",
       "      <td>6.3</td>\n",
       "      <td>2.5</td>\n",
       "      <td>4.9</td>\n",
       "      <td>1.5</td>\n",
       "      <td>Iris-versicolor</td>\n",
       "    </tr>\n",
       "    <tr>\n",
       "      <th>24</th>\n",
       "      <td>4.8</td>\n",
       "      <td>3.4</td>\n",
       "      <td>1.9</td>\n",
       "      <td>0.2</td>\n",
       "      <td>Iris-setosa</td>\n",
       "    </tr>\n",
       "    <tr>\n",
       "      <th>64</th>\n",
       "      <td>5.6</td>\n",
       "      <td>2.9</td>\n",
       "      <td>3.6</td>\n",
       "      <td>1.3</td>\n",
       "      <td>Iris-versicolor</td>\n",
       "    </tr>\n",
       "    <tr>\n",
       "      <th>136</th>\n",
       "      <td>6.3</td>\n",
       "      <td>3.4</td>\n",
       "      <td>5.6</td>\n",
       "      <td>2.4</td>\n",
       "      <td>Iris-virginica</td>\n",
       "    </tr>\n",
       "    <tr>\n",
       "      <th>37</th>\n",
       "      <td>4.9</td>\n",
       "      <td>3.1</td>\n",
       "      <td>1.5</td>\n",
       "      <td>0.1</td>\n",
       "      <td>Iris-setosa</td>\n",
       "    </tr>\n",
       "    <tr>\n",
       "      <th>79</th>\n",
       "      <td>5.7</td>\n",
       "      <td>2.6</td>\n",
       "      <td>3.5</td>\n",
       "      <td>1.0</td>\n",
       "      <td>Iris-versicolor</td>\n",
       "    </tr>\n",
       "  </tbody>\n",
       "</table>\n",
       "</div>"
      ]
     },
     "execution_count": 61,
     "metadata": {},
     "output_type": "execute_result"
    }
   ],
   "execution_count": 61
  },
  {
   "metadata": {
    "ExecuteTime": {
     "end_time": "2025-04-01T21:53:55.436399Z",
     "start_time": "2025-04-01T21:53:55.427381Z"
    }
   },
   "cell_type": "code",
   "source": "testDat.loc[77]",
   "id": "3eb29d5f0df053cf",
   "outputs": [
    {
     "data": {
      "text/plain": [
       "SepalLengthCm                6.7\n",
       "SepalWidthCm                 3.0\n",
       "PetalLengthCm                5.0\n",
       "PetalWidthCm                 1.7\n",
       "Label            Iris-versicolor\n",
       "Name: 77, dtype: object"
      ]
     },
     "execution_count": 62,
     "metadata": {},
     "output_type": "execute_result"
    }
   ],
   "execution_count": 62
  },
  {
   "metadata": {},
   "cell_type": "markdown",
   "source": [
    "### Tree Visualization System\n",
    "- `plot_node` Creates styled tree nodes\n",
    "  - Decision nodes: White boxes with questions\n",
    "  - Leaf nodes: Green ovals with class labels\n",
    "- `plot_tree`: Recursive layout engine\n",
    "  - Calculates node positions\n",
    "  - Automatically spaces branches\n",
    "  - Handles depth limiting\n",
    "- Uses `matplotlib` for low-level drawing"
   ],
   "id": "dfc1c7e3273957d5"
  },
  {
   "metadata": {
    "ExecuteTime": {
     "end_time": "2025-04-01T21:53:55.509384Z",
     "start_time": "2025-04-01T21:53:55.500383Z"
    }
   },
   "cell_type": "code",
   "source": [
    "def plot_node(text, x, y, node_type):\n",
    "    bbox = dict(boxstyle=\"round,pad=0.3\", fc=\"white\" if node_type == \"decision\" else \"lightgreen\", ec=\"black\")\n",
    "    plt.text(x, y, text, ha=\"center\", va=\"center\", bbox=bbox, fontsize=9)\n",
    "\n",
    "\n",
    "def plot_edge(x1, y1, x2, y2, text=None):\n",
    "    plt.plot([x1, x2], [y1, y2], 'k-', lw=1)\n",
    "    if text:\n",
    "        plt.text((x1 + x2) / 2, (y1 + y2) / 2, text, ha=\"center\", va=\"center\", fontsize=8)\n",
    "\n",
    "\n",
    "def plot_tree(tree, x=0, y=0, dx=2, dy=1, level=0, max_level=None):\n",
    "    if max_level and level > max_level:\n",
    "        return\n",
    "    if isinstance(tree, dict):\n",
    "        question = list(tree.keys())[0]\n",
    "        yes_answer = tree[question][0]\n",
    "        no_answer = tree[question][1]\n",
    "        plot_node(question, x, y, \"decision\")\n",
    "        x_yes = x - dx / (level + 1)\n",
    "        x_no = x + dx / (level + 1)\n",
    "        y_child = y - dy\n",
    "        plot_edge(x, y, x_yes, y_child, \"Yes\")\n",
    "        plot_tree(yes_answer, x_yes, y_child, dx, dy, level + 1, max_level)\n",
    "        plot_edge(x, y, x_no, y_child, \"No\")\n",
    "        plot_tree(no_answer, x_no, y_child, dx, dy, level + 1, max_level)\n",
    "    else:\n",
    "        plot_node(f\"Class: {tree}\", x, y, \"leaf\")"
   ],
   "id": "4748bd1fbf8a7329",
   "outputs": [],
   "execution_count": 63
  },
  {
   "metadata": {
    "ExecuteTime": {
     "end_time": "2025-04-01T21:53:55.950942Z",
     "start_time": "2025-04-01T21:53:55.642734Z"
    }
   },
   "cell_type": "code",
   "source": [
    "plt.figure(figsize=(12, 8))\n",
    "plot_tree(tree, max_level=3)\n",
    "plt.axis('off')\n",
    "plt.title(\"Decision Tree Visualization\", fontsize=14)\n",
    "plt.show()"
   ],
   "id": "b2bc965c2cbe7cc6",
   "outputs": [
    {
     "data": {
      "text/plain": [
       "<Figure size 1200x800 with 1 Axes>"
      ],
      "image/png": "[encoded data removed]"
     },
     "metadata": {},
     "output_type": "display_data"
    }
   ],
   "execution_count": 64
  },
  {
   "metadata": {},
   "cell_type": "markdown",
   "source": [
    "### Decision Boundary Visualization\n",
    "- Creates 2D classification region visualization\n",
    "- Handles multiple classes with color coding\n",
    "- Key components:\n",
    "  - Mesh grid for prediction surface\n",
    "  - Median imputation for non-plotted features\n",
    "  - Contour plot for decision boundaries\n",
    "  - Training data points overlay\n",
    "- Parameters:\n",
    "  - `step`: Controls grid resolution (0.02=high detail)\n",
    "  - `feature1`/`feature2`: Axes features for visualization\n",
    "- Output shows model's interpretation of feature space"
   ],
   "id": "f643b0f3d1b3203e"
  },
  {
   "metadata": {
    "ExecuteTime": {
     "end_time": "2025-04-01T21:53:59.864897Z",
     "start_time": "2025-04-01T21:53:56.049676Z"
    }
   },
   "cell_type": "code",
   "source": [
    "from matplotlib.colors import ListedColormap\n",
    "\n",
    "\n",
    "def plot_decision_boundary(tree, data, feature1, feature2, title=None, step=0.02):\n",
    "    X = data[[feature1, feature2]].values\n",
    "    y = data['Label'].values\n",
    "    classes = np.unique(y)\n",
    "    colors = ['#FFAAAA', '#AAFFAA', '#AAAAFF'][:len(classes)]\n",
    "    cmap_light = ListedColormap(colors)\n",
    "    cmap_bold = ListedColormap([c.replace('AA', '44') for c in colors])\n",
    "    x_min, x_max = X[:, 0].min() - 1, X[:, 0].max() + 1\n",
    "    y_min, y_max = X[:, 1].min() - 1, X[:, 1].max() + 1\n",
    "    xx, yy = np.meshgrid(np.arange(x_min, x_max, step),\n",
    "                         np.arange(y_min, y_max, step))\n",
    "    mesh_points = np.c_[xx.ravel(), yy.ravel()]\n",
    "    mesh_df = pd.DataFrame(mesh_points, columns=[feature1, feature2])\n",
    "    for col in data.columns:\n",
    "        if col not in [feature1, feature2, 'Label']:\n",
    "            mesh_df[col] = data[col].median()\n",
    "    Z = np.array([classifyEg(row, tree) for _, row in mesh_df.iterrows()])\n",
    "    label_to_num = {label: i for i, label in enumerate(classes)}\n",
    "    Z = np.array([label_to_num[label] for label in Z])\n",
    "    Z = Z.reshape(xx.shape)\n",
    "    plt.figure(figsize=(10, 8))\n",
    "    plt.contourf(xx, yy, Z, cmap=cmap_light, alpha=0.8)\n",
    "    for i, label in enumerate(classes):\n",
    "        idx = (y == label)\n",
    "        plt.scatter(X[idx, 0], X[idx, 1], c=cmap_bold(i), label=label, edgecolor='k', s=50)\n",
    "\n",
    "    plt.xlim(xx.min(), xx.max())\n",
    "    plt.ylim(yy.min(), yy.max())\n",
    "    plt.xlabel(feature1, fontsize=12)\n",
    "    plt.ylabel(feature2, fontsize=12)\n",
    "    if title:\n",
    "        plt.title(title, fontsize=14)\n",
    "    plt.legend()\n",
    "    plt.grid(True, alpha=0.3)\n",
    "    plt.show()\n",
    "\n",
    "\n",
    "plot_decision_boundary(tree, trainDat, 'PetalLengthCm', 'PetalWidthCm', title=\"Decision Boundary (Petal Length vs Width)\")"
   ],
   "id": "4452beabd0e20b68",
   "outputs": [
    {
     "name": "stderr",
     "output_type": "stream",
     "text": [
      "C:\\Users\\KIIT\\AppData\\Local\\Temp\\ipykernel_19856\\1830715073.py:28: UserWarning: *c* argument looks like a single numeric RGB or RGBA sequence, which should be avoided as value-mapping will have precedence in case its length matches with *x* & *y*.  Please use the *color* keyword-argument or provide a 2D array with a single row if you intend to specify the same RGB or RGBA value for all points.\n",
      "  plt.scatter(X[idx, 0], X[idx, 1], c=cmap_bold(i), label=label, edgecolor='k', s=50)\n"
     ]
    },
    {
     "data": {
      "text/plain": [
       "<Figure size 1000x800 with 1 Axes>"
      ],
      "image/png": "[encoded data removed]"
     },
     "metadata": {},
     "output_type": "display_data"
    }
   ],
   "execution_count": 65
  },
  {
   "metadata": {
    "ExecuteTime": {
     "end_time": "2025-04-01T21:53:59.898168Z",
     "start_time": "2025-04-01T21:53:59.892163Z"
    }
   },
   "cell_type": "code",
   "source": "pprint(tree)",
   "id": "5da3cd74017bfd13",
   "outputs": [
    {
     "name": "stdout",
     "output_type": "stream",
     "text": [
      "{'PetalWidthCm <= 0.8': ['Iris-setosa',\n",
      "                         {'PetalWidthCm <= 1.65': [{'PetalLengthCm <= 4.95': ['Iris-versicolor',\n",
      "                                                                              'Iris-virginica']},\n",
      "                                                   'Iris-virginica']}]}\n"
     ]
    }
   ],
   "execution_count": 66
  },
  {
   "metadata": {},
   "cell_type": "markdown",
   "source": [
    "### Decision Tree Visualization (Graphviz)\n",
    "- Converts nested dictionary tree to professional diagram\n",
    "- Key components:\n",
    "  - **Decision Nodes**: Boxes with split questions\n",
    "  - **Leaf Nodes**: Green ovals with class labels\n",
    "  - **Edges**: Labeled Yes/No branches\n",
    "- Features:\n",
    "  - Automatic name sanitization for valid DOT syntax\n",
    "  - Class name mapping for readable labels\n",
    "  - Hierarchical top-to-bottom layout (rankdir='TB')\n",
    "  - Style presets for publication-ready output\n",
    "- Output Formats: PNG/PDF/SVG via Graphviz rendering\n",
    "- Includes interactive viewing option (view=True)  "
   ],
   "id": "a6c35df356c4287d"
  },
  {
   "metadata": {
    "ExecuteTime": {
     "end_time": "2025-04-01T21:54:00.292010Z",
     "start_time": "2025-04-01T21:53:59.957459Z"
    }
   },
   "cell_type": "code",
   "source": [
    "from graphviz import Digraph\n",
    "import re\n",
    "\n",
    "\n",
    "def sanitize_name(name):\n",
    "    return re.sub(r'[^a-zA-Z0-9_]', '_', str(name))\n",
    "\n",
    "\n",
    "def tree_to_graphviz(tree, feature_names, class_names=None):\n",
    "    dot = Digraph(format='png')\n",
    "    dot.attr('node', shape='box', style='rounded')\n",
    "    _build_graph(tree, dot, feature_names, class_names)\n",
    "    return dot\n",
    "\n",
    "\n",
    "def _build_graph(tree, dot, feature_names, class_names=None, parent_node=None, edge_label=\"\"):\n",
    "    if isinstance(tree, dict):\n",
    "        question = list(tree.keys())[0]\n",
    "        node_id = f\"node_{sanitize_name(question)}\"\n",
    "        dot.node(node_id, label=question)\n",
    "        if parent_node:\n",
    "            dot.edge(parent_node, node_id, label=edge_label)\n",
    "        _build_graph(tree[question][0], dot, feature_names, class_names, node_id, \"Yes\")\n",
    "        _build_graph(tree[question][1], dot, feature_names, class_names, node_id, \"No\")\n",
    "    else:\n",
    "        leaf_id = f\"leaf_{sanitize_name(tree)}\"\n",
    "        class_label = class_names[tree] if class_names and tree in class_names else str(tree)\n",
    "        dot.node(leaf_id, label=f\"Class: {class_label}\", shape='ellipse', style='filled', fillcolor='lightgreen')\n",
    "        if parent_node:\n",
    "            dot.edge(parent_node, leaf_id, label=edge_label)\n",
    "\n",
    "\n",
    "class_names = {0: 'Iris-setosa', 1: 'Iris-versicolor', 2: 'Iris-virginica'}\n",
    "dot = tree_to_graphviz(tree,\n",
    "                       feature_names=datSet.columns[:-1],\n",
    "                       class_names=class_names)\n",
    "\n",
    "dot.attr(size='10,10', rankdir='TB')\n",
    "dot.attr('edge', fontsize='10')\n",
    "\n",
    "dot.render(\"iris_decision_tree\", view=True, cleanup=True)\n",
    "display(dot)"
   ],
   "id": "cb2eb45c41d71983",
   "outputs": [
    {
     "data": {
      "image/svg+xml": "<?xml version=\"1.0\" encoding=\"UTF-8\" standalone=\"no\"?>\n<!DOCTYPE svg PUBLIC \"-//W3C//DTD SVG 1.1//EN\"\n \"http://www.w3.org/Graphics/SVG/1.1/DTD/svg11.dtd\">\n<!-- Generated by graphviz version 4.0.0 (0)\n -->\n<!-- Pages: 1 -->\n<svg width=\"358pt\" height=\"305pt\"\n viewBox=\"0.00 0.00 358.44 305.00\" xmlns=\"http://www.w3.org/2000/svg\" xmlns:xlink=\"http://www.w3.org/1999/xlink\">\n<g id=\"graph0\" class=\"graph\" transform=\"scale(1 1) rotate(0) translate(4 301)\">\n<polygon fill=\"white\" stroke=\"transparent\" points=\"-4,4 -4,-301 354.44,-301 354.44,4 -4,4\"/>\n<!-- node_PetalWidthCm____0_8 -->\n<g id=\"node1\" class=\"node\">\n<title>node_PetalWidthCm____0_8</title>\n<path fill=\"none\" stroke=\"black\" d=\"M150.34,-297C150.34,-297 35.34,-297 35.34,-297 29.34,-297 23.34,-291 23.34,-285 23.34,-285 23.34,-273 23.34,-273 23.34,-267 29.34,-261 35.34,-261 35.34,-261 150.34,-261 150.34,-261 156.34,-261 162.34,-267 162.34,-273 162.34,-273 162.34,-285 162.34,-285 162.34,-291 156.34,-297 150.34,-297\"/>\n<text text-anchor=\"middle\" x=\"92.84\" y=\"-275.3\" font-family=\"Times New Roman,serif\" font-size=\"14.00\">PetalWidthCm &lt;= 0.8</text>\n</g>\n<!-- leaf_Iris_setosa -->\n<g id=\"node2\" class=\"node\">\n<title>leaf_Iris_setosa</title>\n<ellipse fill=\"lightgreen\" stroke=\"black\" cx=\"70.84\" cy=\"-192\" rx=\"70.69\" ry=\"18\"/>\n<text text-anchor=\"middle\" x=\"70.84\" y=\"-188.3\" font-family=\"Times New Roman,serif\" font-size=\"14.00\">Class: Iris&#45;setosa</text>\n</g>\n<!-- node_PetalWidthCm____0_8&#45;&gt;leaf_Iris_setosa -->\n<g id=\"edge1\" class=\"edge\">\n<title>node_PetalWidthCm____0_8&#45;&gt;leaf_Iris_setosa</title>\n<path fill=\"none\" stroke=\"black\" d=\"M88.39,-260.8C85.38,-249.16 81.34,-233.55 77.89,-220.24\"/>\n<polygon fill=\"black\" stroke=\"black\" points=\"81.18,-218.98 75.29,-210.18 74.41,-220.73 81.18,-218.98\"/>\n<text text-anchor=\"middle\" x=\"94.34\" y=\"-231.8\" font-family=\"Times New Roman,serif\" font-size=\"14.00\">Yes</text>\n</g>\n<!-- node_PetalWidthCm____1_65 -->\n<g id=\"node3\" class=\"node\">\n<title>node_PetalWidthCm____1_65</title>\n<path fill=\"none\" stroke=\"black\" d=\"M293.84,-210C293.84,-210 171.84,-210 171.84,-210 165.84,-210 159.84,-204 159.84,-198 159.84,-198 159.84,-186 159.84,-186 159.84,-180 165.84,-174 171.84,-174 171.84,-174 293.84,-174 293.84,-174 299.84,-174 305.84,-180 305.84,-186 305.84,-186 305.84,-198 305.84,-198 305.84,-204 299.84,-210 293.84,-210\"/>\n<text text-anchor=\"middle\" x=\"232.84\" y=\"-188.3\" font-family=\"Times New Roman,serif\" font-size=\"14.00\">PetalWidthCm &lt;= 1.65</text>\n</g>\n<!-- node_PetalWidthCm____0_8&#45;&gt;node_PetalWidthCm____1_65 -->\n<g id=\"edge2\" class=\"edge\">\n<title>node_PetalWidthCm____0_8&#45;&gt;node_PetalWidthCm____1_65</title>\n<path fill=\"none\" stroke=\"black\" d=\"M121.17,-260.8C142.71,-247.72 172.53,-229.62 195.93,-215.41\"/>\n<polygon fill=\"black\" stroke=\"black\" points=\"197.82,-218.36 204.55,-210.18 194.19,-212.37 197.82,-218.36\"/>\n<text text-anchor=\"middle\" x=\"180.34\" y=\"-231.8\" font-family=\"Times New Roman,serif\" font-size=\"14.00\">No</text>\n</g>\n<!-- node_PetalLengthCm____4_95 -->\n<g id=\"node4\" class=\"node\">\n<title>node_PetalLengthCm____4_95</title>\n<path fill=\"none\" stroke=\"black\" d=\"M221.84,-123C221.84,-123 95.84,-123 95.84,-123 89.84,-123 83.84,-117 83.84,-111 83.84,-111 83.84,-99 83.84,-99 83.84,-93 89.84,-87 95.84,-87 95.84,-87 221.84,-87 221.84,-87 227.84,-87 233.84,-93 233.84,-99 233.84,-99 233.84,-111 233.84,-111 233.84,-117 227.84,-123 221.84,-123\"/>\n<text text-anchor=\"middle\" x=\"158.84\" y=\"-101.3\" font-family=\"Times New Roman,serif\" font-size=\"14.00\">PetalLengthCm &lt;= 4.95</text>\n</g>\n<!-- node_PetalWidthCm____1_65&#45;&gt;node_PetalLengthCm____4_95 -->\n<g id=\"edge3\" class=\"edge\">\n<title>node_PetalWidthCm____1_65&#45;&gt;node_PetalLengthCm____4_95</title>\n<path fill=\"none\" stroke=\"black\" d=\"M217.87,-173.8C207.14,-161.47 192.52,-144.68 180.51,-130.89\"/>\n<polygon fill=\"black\" stroke=\"black\" points=\"183,-128.42 173.8,-123.18 177.72,-133.02 183,-128.42\"/>\n<text text-anchor=\"middle\" x=\"211.34\" y=\"-144.8\" font-family=\"Times New Roman,serif\" font-size=\"14.00\">Yes</text>\n</g>\n<!-- leaf_Iris_virginica -->\n<g id=\"node6\" class=\"node\">\n<title>leaf_Iris_virginica</title>\n<ellipse fill=\"lightgreen\" stroke=\"black\" cx=\"269.84\" cy=\"-18\" rx=\"80.69\" ry=\"18\"/>\n<text text-anchor=\"middle\" x=\"269.84\" y=\"-14.3\" font-family=\"Times New Roman,serif\" font-size=\"14.00\">Class: Iris&#45;virginica</text>\n</g>\n<!-- node_PetalWidthCm____1_65&#45;&gt;leaf_Iris_virginica -->\n<g id=\"edge6\" class=\"edge\">\n<title>node_PetalWidthCm____1_65&#45;&gt;leaf_Iris_virginica</title>\n<path fill=\"none\" stroke=\"black\" d=\"M236.53,-173.88C242.95,-144 256.27,-82.11 263.98,-46.27\"/>\n<polygon fill=\"black\" stroke=\"black\" points=\"267.49,-46.56 266.18,-36.05 260.65,-45.09 267.49,-46.56\"/>\n<text text-anchor=\"middle\" x=\"264.34\" y=\"-101.3\" font-family=\"Times New Roman,serif\" font-size=\"14.00\">No</text>\n</g>\n<!-- leaf_Iris_versicolor -->\n<g id=\"node5\" class=\"node\">\n<title>leaf_Iris_versicolor</title>\n<ellipse fill=\"lightgreen\" stroke=\"black\" cx=\"86.84\" cy=\"-18\" rx=\"84.49\" ry=\"18\"/>\n<text text-anchor=\"middle\" x=\"86.84\" y=\"-14.3\" font-family=\"Times New Roman,serif\" font-size=\"14.00\">Class: Iris&#45;versicolor</text>\n</g>\n<!-- node_PetalLengthCm____4_95&#45;&gt;leaf_Iris_versicolor -->\n<g id=\"edge4\" class=\"edge\">\n<title>node_PetalLengthCm____4_95&#45;&gt;leaf_Iris_versicolor</title>\n<path fill=\"none\" stroke=\"black\" d=\"M144.27,-86.8C133.76,-74.39 119.42,-57.46 107.7,-43.62\"/>\n<polygon fill=\"black\" stroke=\"black\" points=\"110.28,-41.25 101.15,-35.89 104.94,-45.78 110.28,-41.25\"/>\n<text text-anchor=\"middle\" x=\"138.34\" y=\"-57.8\" font-family=\"Times New Roman,serif\" font-size=\"14.00\">Yes</text>\n</g>\n<!-- node_PetalLengthCm____4_95&#45;&gt;leaf_Iris_virginica -->\n<g id=\"edge5\" class=\"edge\">\n<title>node_PetalLengthCm____4_95&#45;&gt;leaf_Iris_virginica</title>\n<path fill=\"none\" stroke=\"black\" d=\"M181.31,-86.8C198.23,-73.84 221.59,-55.95 240.06,-41.8\"/>\n<polygon fill=\"black\" stroke=\"black\" points=\"242.36,-44.46 248.17,-35.6 238.1,-38.9 242.36,-44.46\"/>\n<text text-anchor=\"middle\" x=\"230.34\" y=\"-57.8\" font-family=\"Times New Roman,serif\" font-size=\"14.00\">No</text>\n</g>\n</g>\n</svg>\n",
      "text/plain": [
       "<graphviz.graphs.Digraph at 0x269ad481ac0>"
      ]
     },
     "metadata": {},
     "output_type": "display_data"
    }
   ],
   "execution_count": 67
  },
  {
   "metadata": {},
   "cell_type": "markdown",
   "source": [
    "### Model Evaluation Metrics\n",
    "- **Confusion Matrix**:\n",
    "  - Visual grid of predictions vs actual\n",
    "  - Diagonal shows correct predictions\n",
    "  - Off-diagonal shows error types\n",
    "- **Classification Report**:\n",
    "  - Precision: False positive control\n",
    "  - Recall: False negative sensitivity\n",
    "  - F1-score: Harmonic mean balance\n",
    "- Provides comprehensive performance analysis"
   ],
   "id": "69cb14e8012e259d"
  },
  {
   "metadata": {
    "ExecuteTime": {
     "end_time": "2025-04-01T22:09:56.885613Z",
     "start_time": "2025-04-01T22:09:55.770844Z"
    }
   },
   "cell_type": "code",
   "source": [
    "from sklearn.metrics import confusion_matrix, classification_report\n",
    "import seaborn as sns\n",
    "\n",
    "\n",
    "def evaluateModel(tree, train_data, test_data, feature1, feature2):\n",
    "    plt.figure(figsize=(15, 6))\n",
    "    plt.subplot(1, 2, 1)\n",
    "    x_min, x_max = train_data[feature1].min() - 1, train_data[feature1].max() + 1\n",
    "    y_min, y_max = train_data[feature2].min() - 1, train_data[feature2].max() + 1\n",
    "    xx, yy = np.meshgrid(np.linspace(x_min, x_max, 100), np.linspace(y_min, y_max, 100))\n",
    "    grid_points = pd.DataFrame({\n",
    "        feature1: xx.ravel(),\n",
    "        feature2: yy.ravel()\n",
    "    })\n",
    "    for col in train_data.columns:\n",
    "        if col not in [feature1, feature2, 'Label']:\n",
    "            grid_points[col] = train_data[col].median()\n",
    "    Z = np.array([classifyEg(row, tree) for _, row in grid_points.iterrows()])\n",
    "    Z = Z.reshape(xx.shape)\n",
    "    plt.subplot(1, 2, 1)\n",
    "    y_true = test_data['Label']\n",
    "    y_pred = [classifyEg(row, tree) for _, row in test_data.iterrows()]\n",
    "    print(\"Classification Report:\")\n",
    "    print(classification_report(y_true, y_pred))\n",
    "    cm = confusion_matrix(y_true, y_pred)\n",
    "    sns.heatmap(cm, annot=True, fmt='d', xticklabels=np.unique(y_true), yticklabels=np.unique(y_true), cmap='Blues')\n",
    "    plt.xlabel('Predicted')\n",
    "    plt.ylabel('Actual')\n",
    "    plt.title(\"Confusion Matrix\")\n",
    "    plt.tight_layout()\n",
    "    plt.show()\n",
    "\n",
    "\n",
    "evaluateModel(tree, trainDat, testDat, 'PetalLengthCm', 'PetalWidthCm')"
   ],
   "id": "15d46a5468acfdad",
   "outputs": [
    {
     "ename": "KeyError",
     "evalue": "'PetalLengthCm'",
     "output_type": "error",
     "traceback": [
      "\u001B[1;31m---------------------------------------------------------------------------\u001B[0m",
      "\u001B[1;31mKeyError\u001B[0m                                  Traceback (most recent call last)",
      "File \u001B[1;32m~\\anaconda3\\envs\\MLAssigment\\Lib\\site-packages\\pandas\\core\\indexes\\base.py:3805\u001B[0m, in \u001B[0;36mIndex.get_loc\u001B[1;34m(self, key)\u001B[0m\n\u001B[0;32m   3804\u001B[0m \u001B[38;5;28;01mtry\u001B[39;00m:\n\u001B[1;32m-> 3805\u001B[0m     \u001B[38;5;28;01mreturn\u001B[39;00m \u001B[38;5;28;43mself\u001B[39;49m\u001B[38;5;241;43m.\u001B[39;49m\u001B[43m_engine\u001B[49m\u001B[38;5;241;43m.\u001B[39;49m\u001B[43mget_loc\u001B[49m\u001B[43m(\u001B[49m\u001B[43mcasted_key\u001B[49m\u001B[43m)\u001B[49m\n\u001B[0;32m   3806\u001B[0m \u001B[38;5;28;01mexcept\u001B[39;00m \u001B[38;5;167;01mKeyError\u001B[39;00m \u001B[38;5;28;01mas\u001B[39;00m err:\n",
      "File \u001B[1;32mindex.pyx:167\u001B[0m, in \u001B[0;36mpandas._libs.index.IndexEngine.get_loc\u001B[1;34m()\u001B[0m\n",
      "File \u001B[1;32mindex.pyx:196\u001B[0m, in \u001B[0;36mpandas._libs.index.IndexEngine.get_loc\u001B[1;34m()\u001B[0m\n",
      "File \u001B[1;32mpandas\\\\_libs\\\\hashtable_class_helper.pxi:7081\u001B[0m, in \u001B[0;36mpandas._libs.hashtable.PyObjectHashTable.get_item\u001B[1;34m()\u001B[0m\n",
      "File \u001B[1;32mpandas\\\\_libs\\\\hashtable_class_helper.pxi:7089\u001B[0m, in \u001B[0;36mpandas._libs.hashtable.PyObjectHashTable.get_item\u001B[1;34m()\u001B[0m\n",
      "\u001B[1;31mKeyError\u001B[0m: 'PetalLengthCm'",
      "\nThe above exception was the direct cause of the following exception:\n",
      "\u001B[1;31mKeyError\u001B[0m                                  Traceback (most recent call last)",
      "Cell \u001B[1;32mIn[93], line 34\u001B[0m\n\u001B[0;32m     30\u001B[0m     plt\u001B[38;5;241m.\u001B[39mtight_layout()\n\u001B[0;32m     31\u001B[0m     plt\u001B[38;5;241m.\u001B[39mshow()\n\u001B[1;32m---> 34\u001B[0m \u001B[43mevaluateModel\u001B[49m\u001B[43m(\u001B[49m\u001B[43mtree\u001B[49m\u001B[43m,\u001B[49m\u001B[43m \u001B[49m\u001B[43mtrainDat\u001B[49m\u001B[43m,\u001B[49m\u001B[43m \u001B[49m\u001B[43mtestDat\u001B[49m\u001B[43m,\u001B[49m\u001B[43m \u001B[49m\u001B[38;5;124;43m'\u001B[39;49m\u001B[38;5;124;43mPetalLengthCm\u001B[39;49m\u001B[38;5;124;43m'\u001B[39;49m\u001B[43m,\u001B[49m\u001B[43m \u001B[49m\u001B[38;5;124;43m'\u001B[39;49m\u001B[38;5;124;43mPetalWidthCm\u001B[39;49m\u001B[38;5;124;43m'\u001B[39;49m\u001B[43m)\u001B[49m\n",
      "Cell \u001B[1;32mIn[93], line 8\u001B[0m, in \u001B[0;36mevaluateModel\u001B[1;34m(tree, train_data, test_data, feature1, feature2)\u001B[0m\n\u001B[0;32m      6\u001B[0m plt\u001B[38;5;241m.\u001B[39mfigure(figsize\u001B[38;5;241m=\u001B[39m(\u001B[38;5;241m15\u001B[39m, \u001B[38;5;241m6\u001B[39m))\n\u001B[0;32m      7\u001B[0m plt\u001B[38;5;241m.\u001B[39msubplot(\u001B[38;5;241m1\u001B[39m, \u001B[38;5;241m2\u001B[39m, \u001B[38;5;241m1\u001B[39m)\n\u001B[1;32m----> 8\u001B[0m x_min, x_max \u001B[38;5;241m=\u001B[39m \u001B[43mtrain_data\u001B[49m\u001B[43m[\u001B[49m\u001B[43mfeature1\u001B[49m\u001B[43m]\u001B[49m\u001B[38;5;241m.\u001B[39mmin() \u001B[38;5;241m-\u001B[39m \u001B[38;5;241m1\u001B[39m, train_data[feature1]\u001B[38;5;241m.\u001B[39mmax() \u001B[38;5;241m+\u001B[39m \u001B[38;5;241m1\u001B[39m\n\u001B[0;32m      9\u001B[0m y_min, y_max \u001B[38;5;241m=\u001B[39m train_data[feature2]\u001B[38;5;241m.\u001B[39mmin() \u001B[38;5;241m-\u001B[39m \u001B[38;5;241m1\u001B[39m, train_data[feature2]\u001B[38;5;241m.\u001B[39mmax() \u001B[38;5;241m+\u001B[39m \u001B[38;5;241m1\u001B[39m\n\u001B[0;32m     10\u001B[0m xx, yy \u001B[38;5;241m=\u001B[39m np\u001B[38;5;241m.\u001B[39mmeshgrid(np\u001B[38;5;241m.\u001B[39mlinspace(x_min, x_max, \u001B[38;5;241m100\u001B[39m), np\u001B[38;5;241m.\u001B[39mlinspace(y_min, y_max, \u001B[38;5;241m100\u001B[39m))\n",
      "File \u001B[1;32m~\\anaconda3\\envs\\MLAssigment\\Lib\\site-packages\\pandas\\core\\frame.py:4102\u001B[0m, in \u001B[0;36mDataFrame.__getitem__\u001B[1;34m(self, key)\u001B[0m\n\u001B[0;32m   4100\u001B[0m \u001B[38;5;28;01mif\u001B[39;00m \u001B[38;5;28mself\u001B[39m\u001B[38;5;241m.\u001B[39mcolumns\u001B[38;5;241m.\u001B[39mnlevels \u001B[38;5;241m>\u001B[39m \u001B[38;5;241m1\u001B[39m:\n\u001B[0;32m   4101\u001B[0m     \u001B[38;5;28;01mreturn\u001B[39;00m \u001B[38;5;28mself\u001B[39m\u001B[38;5;241m.\u001B[39m_getitem_multilevel(key)\n\u001B[1;32m-> 4102\u001B[0m indexer \u001B[38;5;241m=\u001B[39m \u001B[38;5;28;43mself\u001B[39;49m\u001B[38;5;241;43m.\u001B[39;49m\u001B[43mcolumns\u001B[49m\u001B[38;5;241;43m.\u001B[39;49m\u001B[43mget_loc\u001B[49m\u001B[43m(\u001B[49m\u001B[43mkey\u001B[49m\u001B[43m)\u001B[49m\n\u001B[0;32m   4103\u001B[0m \u001B[38;5;28;01mif\u001B[39;00m is_integer(indexer):\n\u001B[0;32m   4104\u001B[0m     indexer \u001B[38;5;241m=\u001B[39m [indexer]\n",
      "File \u001B[1;32m~\\anaconda3\\envs\\MLAssigment\\Lib\\site-packages\\pandas\\core\\indexes\\base.py:3812\u001B[0m, in \u001B[0;36mIndex.get_loc\u001B[1;34m(self, key)\u001B[0m\n\u001B[0;32m   3807\u001B[0m     \u001B[38;5;28;01mif\u001B[39;00m \u001B[38;5;28misinstance\u001B[39m(casted_key, \u001B[38;5;28mslice\u001B[39m) \u001B[38;5;129;01mor\u001B[39;00m (\n\u001B[0;32m   3808\u001B[0m         \u001B[38;5;28misinstance\u001B[39m(casted_key, abc\u001B[38;5;241m.\u001B[39mIterable)\n\u001B[0;32m   3809\u001B[0m         \u001B[38;5;129;01mand\u001B[39;00m \u001B[38;5;28many\u001B[39m(\u001B[38;5;28misinstance\u001B[39m(x, \u001B[38;5;28mslice\u001B[39m) \u001B[38;5;28;01mfor\u001B[39;00m x \u001B[38;5;129;01min\u001B[39;00m casted_key)\n\u001B[0;32m   3810\u001B[0m     ):\n\u001B[0;32m   3811\u001B[0m         \u001B[38;5;28;01mraise\u001B[39;00m InvalidIndexError(key)\n\u001B[1;32m-> 3812\u001B[0m     \u001B[38;5;28;01mraise\u001B[39;00m \u001B[38;5;167;01mKeyError\u001B[39;00m(key) \u001B[38;5;28;01mfrom\u001B[39;00m\u001B[38;5;250m \u001B[39m\u001B[38;5;21;01merr\u001B[39;00m\n\u001B[0;32m   3813\u001B[0m \u001B[38;5;28;01mexcept\u001B[39;00m \u001B[38;5;167;01mTypeError\u001B[39;00m:\n\u001B[0;32m   3814\u001B[0m     \u001B[38;5;66;03m# If we have a listlike key, _check_indexing_error will raise\u001B[39;00m\n\u001B[0;32m   3815\u001B[0m     \u001B[38;5;66;03m#  InvalidIndexError. Otherwise we fall through and re-raise\u001B[39;00m\n\u001B[0;32m   3816\u001B[0m     \u001B[38;5;66;03m#  the TypeError.\u001B[39;00m\n\u001B[0;32m   3817\u001B[0m     \u001B[38;5;28mself\u001B[39m\u001B[38;5;241m.\u001B[39m_check_indexing_error(key)\n",
      "\u001B[1;31mKeyError\u001B[0m: 'PetalLengthCm'"
     ]
    },
    {
     "data": {
      "text/plain": [
       "<Figure size 1500x600 with 1 Axes>"
      ],
      "image/png": "[encoded data removed]"
     },
     "metadata": {},
     "output_type": "display_data"
    }
   ],
   "execution_count": 93
  },
  {
   "metadata": {
    "ExecuteTime": {
     "end_time": "2025-04-01T21:54:02.815929Z",
     "start_time": "2025-04-01T21:54:02.407186Z"
    }
   },
   "cell_type": "code",
   "source": [
    "testDat['Predicted'] = [classifyEg(row, tree) for _, row in testDat.iterrows()]\n",
    "misclassified = testDat[testDat['Label'] != testDat['Predicted']]\n",
    "\n",
    "plt.figure(figsize=(8, 6))\n",
    "for species in testDat['Label'].unique():\n",
    "    subset = testDat[testDat['Label'] == species]\n",
    "    plt.scatter(subset['PetalLengthCm'], subset['PetalWidthCm'],\n",
    "                label=species, s=80)\n",
    "\n",
    "plt.scatter(misclassified['PetalLengthCm'], misclassified['PetalWidthCm'], s=200, facecolors='none', edgecolors='r', linewidths=2, label='Misclassified')\n",
    "plt.legend()\n",
    "plt.title('Misclassified Samples (Red Circles)')\n",
    "plt.show()"
   ],
   "id": "59300d9025aa50cd",
   "outputs": [
    {
     "data": {
      "text/plain": [
       "<Figure size 800x600 with 1 Axes>"
      ],
      "image/png": "[encoded data removed]"
     },
     "metadata": {},
     "output_type": "display_data"
    }
   ],
   "execution_count": 69
  },
  {
   "metadata": {},
   "cell_type": "markdown",
   "source": [
    "### Feature Importance Analysis\n",
    "- Counts split usage frequency\n",
    "- Recursively traverses tree\n",
    "- Tracks how often each feature is used\n",
    "- Higher counts indicate more important features\n",
    "- Helps identify key decision drivers"
   ],
   "id": "d651be50cc41f331"
  },
  {
   "metadata": {
    "ExecuteTime": {
     "end_time": "2025-04-01T21:54:02.864193Z",
     "start_time": "2025-04-01T21:54:02.854610Z"
    }
   },
   "cell_type": "code",
   "source": [
    "def getFeatImportance(tree, feature_names):\n",
    "    importance = {f: 0 for f in feature_names}\n",
    "\n",
    "    def _count_splits(node):\n",
    "        if isinstance(node, dict):\n",
    "            question = list(node.keys())[0]\n",
    "            feat = question.split('<=')[0].strip()\n",
    "            importance[feat] += 1\n",
    "            _count_splits(node[question][0])\n",
    "            _count_splits(node[question][1])\n",
    "\n",
    "    _count_splits(tree)\n",
    "    return importance\n",
    "\n",
    "\n",
    "features = trainDat.columns[:-1]\n",
    "importance = getFeatImportance(tree, features)\n",
    "print(\"Feature Importance:\", importance)"
   ],
   "id": "ec2c9175231933ac",
   "outputs": [
    {
     "name": "stdout",
     "output_type": "stream",
     "text": [
      "Feature Importance: {'SepalLengthCm': 0, 'SepalWidthCm': 0, 'PetalLengthCm': 1, 'PetalWidthCm': 2}\n"
     ]
    }
   ],
   "execution_count": 70
  },
  {
   "metadata": {
    "ExecuteTime": {
     "end_time": "2025-04-01T21:58:29.959468Z",
     "start_time": "2025-04-01T21:58:27.694077Z"
    }
   },
   "cell_type": "code",
   "source": [
    "from sklearn.model_selection import KFold\n",
    "\n",
    "\n",
    "def cross_validate(datSet, n_splits=5):\n",
    "    kf = KFold(n_splits=n_splits)\n",
    "    accuracies = []\n",
    "    for train_idx, val_idx in kf.split(datSet):\n",
    "        train = datSet.iloc[train_idx]\n",
    "        val = datSet.iloc[val_idx]\n",
    "        fold_tree = ID3(train, maxDepth=3)\n",
    "        y_true = val['Label']\n",
    "        y_pred = [classifyEg(row, fold_tree) for _, row in val.iterrows()]\n",
    "        accuracy = np.mean(np.array(y_true) == np.array(y_pred))\n",
    "        accuracies.append(accuracy)\n",
    "    print(f\"Cross-Validation Accuracy: {np.mean(accuracies):.2f} ± {np.std(accuracies):.2f}\")\n",
    "\n",
    "\n",
    "cross_validate(datSet)"
   ],
   "id": "25cd3ed2a09dfbb7",
   "outputs": [
    {
     "name": "stdout",
     "output_type": "stream",
     "text": [
      "Cross-Validation Accuracy: 0.82 ± 0.03\n"
     ]
    }
   ],
   "execution_count": 88
  },
  {
   "metadata": {},
   "cell_type": "markdown",
   "source": [
    "### Extended Application: Titanic Dataset\n",
    "- **Data Preparation**:\n",
    "  - Remove non-predictive columns\n",
    "  - Handle missing values:\n",
    "    - Age: Median imputation\n",
    "    - Embarked: Mode imputation\n",
    "  - Convert survived to Label column\n",
    "- **Model Training**:\n",
    "  - Same ID3 algorithm\n",
    "  - Increased maxDepth for complex patterns\n",
    "- **Performance**:\n",
    "  - Shows algorithm flexibility\n",
    "  - Demonstrates categorical handling\n",
    "  - Achieves ~78-82% typical accuracy"
   ],
   "id": "73b2890650724dfb"
  },
  {
   "metadata": {
    "ExecuteTime": {
     "end_time": "2025-04-01T21:54:03.009099Z",
     "start_time": "2025-04-01T21:54:02.984095Z"
    }
   },
   "cell_type": "code",
   "source": [
    "datSet = pd.read_csv(\"./data/Titanic-Dataset.csv\")\n",
    "datSet[\"Label\"] = datSet[\"Survived\"]\n",
    "datSet = datSet.drop(columns=[\"PassengerId\", \"Survived\", \"Name\", \"Ticket\", \"Cabin\"])\n",
    "datSet.head()"
   ],
   "id": "a24630b64e6f95d",
   "outputs": [
    {
     "data": {
      "text/plain": [
       "   Pclass     Sex   Age  SibSp  Parch     Fare Embarked  Label\n",
       "0       3    male  22.0      1      0   7.2500        S      0\n",
       "1       1  female  38.0      1      0  71.2833        C      1\n",
       "2       3  female  26.0      0      0   7.9250        S      1\n",
       "3       1  female  35.0      1      0  53.1000        S      1\n",
       "4       3    male  35.0      0      0   8.0500        S      0"
      ],
      "text/html": [
       "<div>\n",
       "<style scoped>\n",
       "    .dataframe tbody tr th:only-of-type {\n",
       "        vertical-align: middle;\n",
       "    }\n",
       "\n",
       "    .dataframe tbody tr th {\n",
       "        vertical-align: top;\n",
       "    }\n",
       "\n",
       "    .dataframe thead th {\n",
       "        text-align: right;\n",
       "    }\n",
       "</style>\n",
       "<table border=\"1\" class=\"dataframe\">\n",
       "  <thead>\n",
       "    <tr style=\"text-align: right;\">\n",
       "      <th></th>\n",
       "      <th>Pclass</th>\n",
       "      <th>Sex</th>\n",
       "      <th>Age</th>\n",
       "      <th>SibSp</th>\n",
       "      <th>Parch</th>\n",
       "      <th>Fare</th>\n",
       "      <th>Embarked</th>\n",
       "      <th>Label</th>\n",
       "    </tr>\n",
       "  </thead>\n",
       "  <tbody>\n",
       "    <tr>\n",
       "      <th>0</th>\n",
       "      <td>3</td>\n",
       "      <td>male</td>\n",
       "      <td>22.0</td>\n",
       "      <td>1</td>\n",
       "      <td>0</td>\n",
       "      <td>7.2500</td>\n",
       "      <td>S</td>\n",
       "      <td>0</td>\n",
       "    </tr>\n",
       "    <tr>\n",
       "      <th>1</th>\n",
       "      <td>1</td>\n",
       "      <td>female</td>\n",
       "      <td>38.0</td>\n",
       "      <td>1</td>\n",
       "      <td>0</td>\n",
       "      <td>71.2833</td>\n",
       "      <td>C</td>\n",
       "      <td>1</td>\n",
       "    </tr>\n",
       "    <tr>\n",
       "      <th>2</th>\n",
       "      <td>3</td>\n",
       "      <td>female</td>\n",
       "      <td>26.0</td>\n",
       "      <td>0</td>\n",
       "      <td>0</td>\n",
       "      <td>7.9250</td>\n",
       "      <td>S</td>\n",
       "      <td>1</td>\n",
       "    </tr>\n",
       "    <tr>\n",
       "      <th>3</th>\n",
       "      <td>1</td>\n",
       "      <td>female</td>\n",
       "      <td>35.0</td>\n",
       "      <td>1</td>\n",
       "      <td>0</td>\n",
       "      <td>53.1000</td>\n",
       "      <td>S</td>\n",
       "      <td>1</td>\n",
       "    </tr>\n",
       "    <tr>\n",
       "      <th>4</th>\n",
       "      <td>3</td>\n",
       "      <td>male</td>\n",
       "      <td>35.0</td>\n",
       "      <td>0</td>\n",
       "      <td>0</td>\n",
       "      <td>8.0500</td>\n",
       "      <td>S</td>\n",
       "      <td>0</td>\n",
       "    </tr>\n",
       "  </tbody>\n",
       "</table>\n",
       "</div>"
      ]
     },
     "execution_count": 72,
     "metadata": {},
     "output_type": "execute_result"
    }
   ],
   "execution_count": 72
  },
  {
   "metadata": {
    "ExecuteTime": {
     "end_time": "2025-04-01T21:54:03.110109Z",
     "start_time": "2025-04-01T21:54:03.095604Z"
    }
   },
   "cell_type": "code",
   "source": "datSet.info()",
   "id": "a40a385182944023",
   "outputs": [
    {
     "name": "stdout",
     "output_type": "stream",
     "text": [
      "<class 'pandas.core.frame.DataFrame'>\n",
      "RangeIndex: 891 entries, 0 to 890\n",
      "Data columns (total 8 columns):\n",
      " #   Column    Non-Null Count  Dtype  \n",
      "---  ------    --------------  -----  \n",
      " 0   Pclass    891 non-null    int64  \n",
      " 1   Sex       891 non-null    object \n",
      " 2   Age       714 non-null    float64\n",
      " 3   SibSp     891 non-null    int64  \n",
      " 4   Parch     891 non-null    int64  \n",
      " 5   Fare      891 non-null    float64\n",
      " 6   Embarked  889 non-null    object \n",
      " 7   Label     891 non-null    int64  \n",
      "dtypes: float64(2), int64(4), object(2)\n",
      "memory usage: 55.8+ KB\n"
     ]
    }
   ],
   "execution_count": 73
  },
  {
   "metadata": {
    "ExecuteTime": {
     "end_time": "2025-04-01T21:54:03.193878Z",
     "start_time": "2025-04-01T21:54:03.182508Z"
    }
   },
   "cell_type": "code",
   "source": "datSet.isnull().sum()",
   "id": "d3eff5c68404bc3e",
   "outputs": [
    {
     "data": {
      "text/plain": [
       "Pclass        0\n",
       "Sex           0\n",
       "Age         177\n",
       "SibSp         0\n",
       "Parch         0\n",
       "Fare          0\n",
       "Embarked      2\n",
       "Label         0\n",
       "dtype: int64"
      ]
     },
     "execution_count": 74,
     "metadata": {},
     "output_type": "execute_result"
    }
   ],
   "execution_count": 74
  },
  {
   "metadata": {
    "ExecuteTime": {
     "end_time": "2025-04-01T21:54:03.352578Z",
     "start_time": "2025-04-01T21:54:03.333809Z"
    }
   },
   "cell_type": "code",
   "source": [
    "med_age = datSet.Age.median()\n",
    "mod_emb = datSet.Embarked.mode()[0]\n",
    "datSet = datSet.fillna({\"Age\": med_age, \"Embarked\": mod_emb})\n",
    "datSet.head()"
   ],
   "id": "3c382f58ff0c5480",
   "outputs": [
    {
     "data": {
      "text/plain": [
       "   Pclass     Sex   Age  SibSp  Parch     Fare Embarked  Label\n",
       "0       3    male  22.0      1      0   7.2500        S      0\n",
       "1       1  female  38.0      1      0  71.2833        C      1\n",
       "2       3  female  26.0      0      0   7.9250        S      1\n",
       "3       1  female  35.0      1      0  53.1000        S      1\n",
       "4       3    male  35.0      0      0   8.0500        S      0"
      ],
      "text/html": [
       "<div>\n",
       "<style scoped>\n",
       "    .dataframe tbody tr th:only-of-type {\n",
       "        vertical-align: middle;\n",
       "    }\n",
       "\n",
       "    .dataframe tbody tr th {\n",
       "        vertical-align: top;\n",
       "    }\n",
       "\n",
       "    .dataframe thead th {\n",
       "        text-align: right;\n",
       "    }\n",
       "</style>\n",
       "<table border=\"1\" class=\"dataframe\">\n",
       "  <thead>\n",
       "    <tr style=\"text-align: right;\">\n",
       "      <th></th>\n",
       "      <th>Pclass</th>\n",
       "      <th>Sex</th>\n",
       "      <th>Age</th>\n",
       "      <th>SibSp</th>\n",
       "      <th>Parch</th>\n",
       "      <th>Fare</th>\n",
       "      <th>Embarked</th>\n",
       "      <th>Label</th>\n",
       "    </tr>\n",
       "  </thead>\n",
       "  <tbody>\n",
       "    <tr>\n",
       "      <th>0</th>\n",
       "      <td>3</td>\n",
       "      <td>male</td>\n",
       "      <td>22.0</td>\n",
       "      <td>1</td>\n",
       "      <td>0</td>\n",
       "      <td>7.2500</td>\n",
       "      <td>S</td>\n",
       "      <td>0</td>\n",
       "    </tr>\n",
       "    <tr>\n",
       "      <th>1</th>\n",
       "      <td>1</td>\n",
       "      <td>female</td>\n",
       "      <td>38.0</td>\n",
       "      <td>1</td>\n",
       "      <td>0</td>\n",
       "      <td>71.2833</td>\n",
       "      <td>C</td>\n",
       "      <td>1</td>\n",
       "    </tr>\n",
       "    <tr>\n",
       "      <th>2</th>\n",
       "      <td>3</td>\n",
       "      <td>female</td>\n",
       "      <td>26.0</td>\n",
       "      <td>0</td>\n",
       "      <td>0</td>\n",
       "      <td>7.9250</td>\n",
       "      <td>S</td>\n",
       "      <td>1</td>\n",
       "    </tr>\n",
       "    <tr>\n",
       "      <th>3</th>\n",
       "      <td>1</td>\n",
       "      <td>female</td>\n",
       "      <td>35.0</td>\n",
       "      <td>1</td>\n",
       "      <td>0</td>\n",
       "      <td>53.1000</td>\n",
       "      <td>S</td>\n",
       "      <td>1</td>\n",
       "    </tr>\n",
       "    <tr>\n",
       "      <th>4</th>\n",
       "      <td>3</td>\n",
       "      <td>male</td>\n",
       "      <td>35.0</td>\n",
       "      <td>0</td>\n",
       "      <td>0</td>\n",
       "      <td>8.0500</td>\n",
       "      <td>S</td>\n",
       "      <td>0</td>\n",
       "    </tr>\n",
       "  </tbody>\n",
       "</table>\n",
       "</div>"
      ]
     },
     "execution_count": 75,
     "metadata": {},
     "output_type": "execute_result"
    }
   ],
   "execution_count": 75
  },
  {
   "metadata": {
    "ExecuteTime": {
     "end_time": "2025-04-01T21:54:03.476488Z",
     "start_time": "2025-04-01T21:54:03.466428Z"
    }
   },
   "cell_type": "code",
   "source": [
    "trainDat, testDat = testTrainSplit(datSet, testSize=0.2)\n",
    "trainDat.shape, testDat.shape"
   ],
   "id": "212413497b9e532b",
   "outputs": [
    {
     "data": {
      "text/plain": [
       "((713, 8), (178, 8))"
      ]
     },
     "execution_count": 76,
     "metadata": {},
     "output_type": "execute_result"
    }
   ],
   "execution_count": 76
  },
  {
   "metadata": {
    "ExecuteTime": {
     "end_time": "2025-04-01T21:54:03.609838Z",
     "start_time": "2025-04-01T21:54:03.596836Z"
    }
   },
   "cell_type": "code",
   "source": "trainDat.head()",
   "id": "2b8f78a1afb590ee",
   "outputs": [
    {
     "data": {
      "text/plain": [
       "   Pclass     Sex   Age  SibSp  Parch     Fare Embarked  Label\n",
       "0       3    male  22.0      1      0   7.2500        S      0\n",
       "2       3  female  26.0      0      0   7.9250        S      1\n",
       "3       1  female  35.0      1      0  53.1000        S      1\n",
       "4       3    male  35.0      0      0   8.0500        S      0\n",
       "5       3    male  28.0      0      0   8.4583        Q      0"
      ],
      "text/html": [
       "<div>\n",
       "<style scoped>\n",
       "    .dataframe tbody tr th:only-of-type {\n",
       "        vertical-align: middle;\n",
       "    }\n",
       "\n",
       "    .dataframe tbody tr th {\n",
       "        vertical-align: top;\n",
       "    }\n",
       "\n",
       "    .dataframe thead th {\n",
       "        text-align: right;\n",
       "    }\n",
       "</style>\n",
       "<table border=\"1\" class=\"dataframe\">\n",
       "  <thead>\n",
       "    <tr style=\"text-align: right;\">\n",
       "      <th></th>\n",
       "      <th>Pclass</th>\n",
       "      <th>Sex</th>\n",
       "      <th>Age</th>\n",
       "      <th>SibSp</th>\n",
       "      <th>Parch</th>\n",
       "      <th>Fare</th>\n",
       "      <th>Embarked</th>\n",
       "      <th>Label</th>\n",
       "    </tr>\n",
       "  </thead>\n",
       "  <tbody>\n",
       "    <tr>\n",
       "      <th>0</th>\n",
       "      <td>3</td>\n",
       "      <td>male</td>\n",
       "      <td>22.0</td>\n",
       "      <td>1</td>\n",
       "      <td>0</td>\n",
       "      <td>7.2500</td>\n",
       "      <td>S</td>\n",
       "      <td>0</td>\n",
       "    </tr>\n",
       "    <tr>\n",
       "      <th>2</th>\n",
       "      <td>3</td>\n",
       "      <td>female</td>\n",
       "      <td>26.0</td>\n",
       "      <td>0</td>\n",
       "      <td>0</td>\n",
       "      <td>7.9250</td>\n",
       "      <td>S</td>\n",
       "      <td>1</td>\n",
       "    </tr>\n",
       "    <tr>\n",
       "      <th>3</th>\n",
       "      <td>1</td>\n",
       "      <td>female</td>\n",
       "      <td>35.0</td>\n",
       "      <td>1</td>\n",
       "      <td>0</td>\n",
       "      <td>53.1000</td>\n",
       "      <td>S</td>\n",
       "      <td>1</td>\n",
       "    </tr>\n",
       "    <tr>\n",
       "      <th>4</th>\n",
       "      <td>3</td>\n",
       "      <td>male</td>\n",
       "      <td>35.0</td>\n",
       "      <td>0</td>\n",
       "      <td>0</td>\n",
       "      <td>8.0500</td>\n",
       "      <td>S</td>\n",
       "      <td>0</td>\n",
       "    </tr>\n",
       "    <tr>\n",
       "      <th>5</th>\n",
       "      <td>3</td>\n",
       "      <td>male</td>\n",
       "      <td>28.0</td>\n",
       "      <td>0</td>\n",
       "      <td>0</td>\n",
       "      <td>8.4583</td>\n",
       "      <td>Q</td>\n",
       "      <td>0</td>\n",
       "    </tr>\n",
       "  </tbody>\n",
       "</table>\n",
       "</div>"
      ]
     },
     "execution_count": 77,
     "metadata": {},
     "output_type": "execute_result"
    }
   ],
   "execution_count": 77
  },
  {
   "metadata": {
    "ExecuteTime": {
     "end_time": "2025-04-01T21:54:03.752308Z",
     "start_time": "2025-04-01T21:54:03.736343Z"
    }
   },
   "cell_type": "code",
   "source": "testDat.head()",
   "id": "5c999d127249b958",
   "outputs": [
    {
     "data": {
      "text/plain": [
       "     Pclass     Sex   Age  SibSp  Parch      Fare Embarked  Label\n",
       "101       3    male  28.0      0      0    7.8958        S      0\n",
       "747       2  female  30.0      0      0   13.0000        S      1\n",
       "75        3    male  25.0      0      0    7.6500        S      0\n",
       "870       3    male  26.0      0      0    7.8958        S      0\n",
       "700       1  female  18.0      1      0  227.5250        C      1"
      ],
      "text/html": [
       "<div>\n",
       "<style scoped>\n",
       "    .dataframe tbody tr th:only-of-type {\n",
       "        vertical-align: middle;\n",
       "    }\n",
       "\n",
       "    .dataframe tbody tr th {\n",
       "        vertical-align: top;\n",
       "    }\n",
       "\n",
       "    .dataframe thead th {\n",
       "        text-align: right;\n",
       "    }\n",
       "</style>\n",
       "<table border=\"1\" class=\"dataframe\">\n",
       "  <thead>\n",
       "    <tr style=\"text-align: right;\">\n",
       "      <th></th>\n",
       "      <th>Pclass</th>\n",
       "      <th>Sex</th>\n",
       "      <th>Age</th>\n",
       "      <th>SibSp</th>\n",
       "      <th>Parch</th>\n",
       "      <th>Fare</th>\n",
       "      <th>Embarked</th>\n",
       "      <th>Label</th>\n",
       "    </tr>\n",
       "  </thead>\n",
       "  <tbody>\n",
       "    <tr>\n",
       "      <th>101</th>\n",
       "      <td>3</td>\n",
       "      <td>male</td>\n",
       "      <td>28.0</td>\n",
       "      <td>0</td>\n",
       "      <td>0</td>\n",
       "      <td>7.8958</td>\n",
       "      <td>S</td>\n",
       "      <td>0</td>\n",
       "    </tr>\n",
       "    <tr>\n",
       "      <th>747</th>\n",
       "      <td>2</td>\n",
       "      <td>female</td>\n",
       "      <td>30.0</td>\n",
       "      <td>0</td>\n",
       "      <td>0</td>\n",
       "      <td>13.0000</td>\n",
       "      <td>S</td>\n",
       "      <td>1</td>\n",
       "    </tr>\n",
       "    <tr>\n",
       "      <th>75</th>\n",
       "      <td>3</td>\n",
       "      <td>male</td>\n",
       "      <td>25.0</td>\n",
       "      <td>0</td>\n",
       "      <td>0</td>\n",
       "      <td>7.6500</td>\n",
       "      <td>S</td>\n",
       "      <td>0</td>\n",
       "    </tr>\n",
       "    <tr>\n",
       "      <th>870</th>\n",
       "      <td>3</td>\n",
       "      <td>male</td>\n",
       "      <td>26.0</td>\n",
       "      <td>0</td>\n",
       "      <td>0</td>\n",
       "      <td>7.8958</td>\n",
       "      <td>S</td>\n",
       "      <td>0</td>\n",
       "    </tr>\n",
       "    <tr>\n",
       "      <th>700</th>\n",
       "      <td>1</td>\n",
       "      <td>female</td>\n",
       "      <td>18.0</td>\n",
       "      <td>1</td>\n",
       "      <td>0</td>\n",
       "      <td>227.5250</td>\n",
       "      <td>C</td>\n",
       "      <td>1</td>\n",
       "    </tr>\n",
       "  </tbody>\n",
       "</table>\n",
       "</div>"
      ]
     },
     "execution_count": 78,
     "metadata": {},
     "output_type": "execute_result"
    }
   ],
   "execution_count": 78
  },
  {
   "metadata": {
    "ExecuteTime": {
     "end_time": "2025-04-01T21:54:04.090086Z",
     "start_time": "2025-04-01T21:54:04.082629Z"
    }
   },
   "cell_type": "code",
   "source": "datSet.columns",
   "id": "5e2829f010e61a18",
   "outputs": [
    {
     "data": {
      "text/plain": [
       "Index(['Pclass', 'Sex', 'Age', 'SibSp', 'Parch', 'Fare', 'Embarked', 'Label'], dtype='object')"
      ]
     },
     "execution_count": 79,
     "metadata": {},
     "output_type": "execute_result"
    }
   ],
   "execution_count": 79
  },
  {
   "metadata": {
    "ExecuteTime": {
     "end_time": "2025-04-01T21:54:04.195599Z",
     "start_time": "2025-04-01T21:54:04.187702Z"
    }
   },
   "cell_type": "code",
   "source": [
    "featType = getFeatType(datSet)\n",
    "X = datSet.drop(columns=[\"Label\"]).columns\n",
    "i = 0\n",
    "for feat in X:\n",
    "    print(feat, \":\", featType[i])\n",
    "    i += 1"
   ],
   "id": "24d171ca3254d0a3",
   "outputs": [
    {
     "name": "stdout",
     "output_type": "stream",
     "text": [
      "Pclass : categorical\n",
      "Sex : categorical\n",
      "Age : continuous\n",
      "SibSp : categorical\n",
      "Parch : categorical\n",
      "Fare : continuous\n",
      "Embarked : categorical\n"
     ]
    }
   ],
   "execution_count": 80
  },
  {
   "metadata": {
    "ExecuteTime": {
     "end_time": "2025-04-01T21:54:04.349783Z",
     "start_time": "2025-04-01T21:54:04.340773Z"
    }
   },
   "cell_type": "code",
   "source": [
    "datBelow, datAbove = split(datSet.values, splitFeat=1, threshold=\"male\")\n",
    "print(np.unique(datBelow[:, 1]))\n",
    "print(np.unique(datAbove[:, 1]))"
   ],
   "id": "f4ed56a0e9d128e7",
   "outputs": [
    {
     "name": "stdout",
     "output_type": "stream",
     "text": [
      "['female' 'male']\n",
      "[]\n"
     ]
    }
   ],
   "execution_count": 81
  },
  {
   "metadata": {
    "ExecuteTime": {
     "end_time": "2025-04-01T21:54:04.477451Z",
     "start_time": "2025-04-01T21:54:04.463001Z"
    }
   },
   "cell_type": "code",
   "source": [
    "dat = trainDat.values\n",
    "getSplits(trainDat.values)"
   ],
   "id": "33d1d56a15b517ba",
   "outputs": [
    {
     "data": {
      "text/plain": [
       "{0: array([1, 2, 3], dtype=object),\n",
       " 1: array(['female', 'male'], dtype=object),\n",
       " 2: [0.71,\n",
       "  0.79,\n",
       "  0.875,\n",
       "  0.96,\n",
       "  1.5,\n",
       "  2.5,\n",
       "  3.5,\n",
       "  4.5,\n",
       "  5.5,\n",
       "  6.5,\n",
       "  7.5,\n",
       "  8.5,\n",
       "  9.5,\n",
       "  10.5,\n",
       "  11.5,\n",
       "  12.5,\n",
       "  13.5,\n",
       "  14.5,\n",
       "  15.5,\n",
       "  16.5,\n",
       "  17.5,\n",
       "  18.5,\n",
       "  19.5,\n",
       "  20.5,\n",
       "  21.5,\n",
       "  22.5,\n",
       "  23.25,\n",
       "  23.75,\n",
       "  24.5,\n",
       "  25.5,\n",
       "  26.5,\n",
       "  27.5,\n",
       "  28.25,\n",
       "  28.75,\n",
       "  29.5,\n",
       "  30.25,\n",
       "  30.75,\n",
       "  31.5,\n",
       "  32.25,\n",
       "  32.75,\n",
       "  33.5,\n",
       "  34.5,\n",
       "  35.5,\n",
       "  36.25,\n",
       "  36.75,\n",
       "  37.5,\n",
       "  38.5,\n",
       "  39.5,\n",
       "  40.25,\n",
       "  40.75,\n",
       "  41.5,\n",
       "  42.5,\n",
       "  43.5,\n",
       "  44.5,\n",
       "  45.25,\n",
       "  45.75,\n",
       "  46.5,\n",
       "  47.5,\n",
       "  48.5,\n",
       "  49.5,\n",
       "  50.5,\n",
       "  51.5,\n",
       "  52.5,\n",
       "  53.5,\n",
       "  54.5,\n",
       "  55.25,\n",
       "  55.75,\n",
       "  56.5,\n",
       "  57.5,\n",
       "  58.5,\n",
       "  59.5,\n",
       "  60.5,\n",
       "  61.5,\n",
       "  62.5,\n",
       "  63.5,\n",
       "  64.5,\n",
       "  67.5,\n",
       "  70.25,\n",
       "  70.75,\n",
       "  72.5,\n",
       "  77.0],\n",
       " 3: array([0, 1, 2, 3, 4, 5, 8], dtype=object),\n",
       " 4: array([0, 1, 2, 3, 4, 5, 6], dtype=object),\n",
       " 5: [2.00625,\n",
       "  4.50625,\n",
       "  5.61875,\n",
       "  6.36665,\n",
       "  6.6229,\n",
       "  6.80415,\n",
       "  6.91665,\n",
       "  7.0104,\n",
       "  7.0479,\n",
       "  7.052099999999999,\n",
       "  7.0896,\n",
       "  7.175,\n",
       "  7.2271,\n",
       "  7.239599999999999,\n",
       "  7.28125,\n",
       "  7.40415,\n",
       "  7.5083,\n",
       "  7.5354,\n",
       "  7.5896,\n",
       "  7.6396,\n",
       "  7.6875,\n",
       "  7.7271,\n",
       "  7.731249999999999,\n",
       "  7.7354,\n",
       "  7.739599999999999,\n",
       "  7.74585,\n",
       "  7.7625,\n",
       "  7.7854,\n",
       "  7.7979,\n",
       "  7.8146,\n",
       "  7.8416999999999994,\n",
       "  7.864599999999999,\n",
       "  7.8771,\n",
       "  7.88335,\n",
       "  7.89165,\n",
       "  7.9104,\n",
       "  7.987500000000001,\n",
       "  8.09375,\n",
       "  8.1479,\n",
       "  8.22915,\n",
       "  8.33125,\n",
       "  8.38335,\n",
       "  8.41875,\n",
       "  8.445799999999998,\n",
       "  8.5604,\n",
       "  8.672899999999998,\n",
       "  8.6979,\n",
       "  8.78125,\n",
       "  8.925,\n",
       "  9.10835,\n",
       "  9.220849999999999,\n",
       "  9.2875,\n",
       "  9.4125,\n",
       "  9.47915,\n",
       "  9.49165,\n",
       "  9.54375,\n",
       "  9.70625,\n",
       "  9.83125,\n",
       "  9.8396,\n",
       "  9.84375,\n",
       "  10.0083,\n",
       "  10.31665,\n",
       "  10.48125,\n",
       "  10.81665,\n",
       "  11.1875,\n",
       "  11.37085,\n",
       "  11.75,\n",
       "  12.1375,\n",
       "  12.28125,\n",
       "  12.31875,\n",
       "  12.4125,\n",
       "  12.5,\n",
       "  12.5875,\n",
       "  12.7625,\n",
       "  12.9375,\n",
       "  13.20835,\n",
       "  13.45835,\n",
       "  13.64585,\n",
       "  13.825,\n",
       "  13.92915,\n",
       "  14.2,\n",
       "  14.4271,\n",
       "  14.45625,\n",
       "  14.47915,\n",
       "  14.75,\n",
       "  15.0229,\n",
       "  15.0479,\n",
       "  15.075,\n",
       "  15.172899999999998,\n",
       "  15.3729,\n",
       "  15.525,\n",
       "  15.64585,\n",
       "  15.74585,\n",
       "  15.8,\n",
       "  15.875,\n",
       "  15.95,\n",
       "  16.05,\n",
       "  16.4,\n",
       "  17.049999999999997,\n",
       "  17.6,\n",
       "  17.9,\n",
       "  18.375,\n",
       "  18.76875,\n",
       "  19.0229,\n",
       "  19.37915,\n",
       "  19.73335,\n",
       "  20.089599999999997,\n",
       "  20.23125,\n",
       "  20.3875,\n",
       "  20.549999999999997,\n",
       "  20.7875,\n",
       "  21.0375,\n",
       "  21.3771,\n",
       "  21.8521,\n",
       "  22.19165,\n",
       "  22.44165,\n",
       "  22.7625,\n",
       "  23.125,\n",
       "  23.35,\n",
       "  23.725,\n",
       "  24.075,\n",
       "  24.808349999999997,\n",
       "  25.527099999999997,\n",
       "  25.75625,\n",
       "  25.927100000000003,\n",
       "  25.9646,\n",
       "  26.125,\n",
       "  26.26665,\n",
       "  26.285400000000003,\n",
       "  26.3375,\n",
       "  26.46875,\n",
       "  26.775,\n",
       "  27.3604,\n",
       "  27.7354,\n",
       "  27.825,\n",
       "  28.2,\n",
       "  28.60625,\n",
       "  28.85625,\n",
       "  29.0625,\n",
       "  29.4125,\n",
       "  29.85,\n",
       "  30.0354,\n",
       "  30.2854,\n",
       "  30.5979,\n",
       "  30.8479,\n",
       "  31.1375,\n",
       "  31.331249999999997,\n",
       "  31.94375,\n",
       "  32.75,\n",
       "  33.25,\n",
       "  33.760400000000004,\n",
       "  34.197900000000004,\n",
       "  34.5146,\n",
       "  34.8271,\n",
       "  35.25,\n",
       "  36.125,\n",
       "  37.625,\n",
       "  38.75,\n",
       "  39.2,\n",
       "  39.5,\n",
       "  39.64375,\n",
       "  39.90625,\n",
       "  40.8521,\n",
       "  41.989599999999996,\n",
       "  44.65,\n",
       "  47.0,\n",
       "  48.3,\n",
       "  49.5021,\n",
       "  49.7521,\n",
       "  50.2479,\n",
       "  50.9875,\n",
       "  51.67085,\n",
       "  51.93125,\n",
       "  52.277100000000004,\n",
       "  52.8271,\n",
       "  54.05,\n",
       "  55.22085,\n",
       "  55.67085,\n",
       "  56.197900000000004,\n",
       "  56.712500000000006,\n",
       "  56.964600000000004,\n",
       "  57.489599999999996,\n",
       "  58.6896,\n",
       "  60.287499999999994,\n",
       "  61.2771,\n",
       "  61.679199999999994,\n",
       "  62.66875,\n",
       "  64.17914999999999,\n",
       "  65.8,\n",
       "  67.94999999999999,\n",
       "  69.425,\n",
       "  70.275,\n",
       "  72.25,\n",
       "  74.375,\n",
       "  75.77085,\n",
       "  76.51045,\n",
       "  77.00835000000001,\n",
       "  77.62289999999999,\n",
       "  78.1125,\n",
       "  78.55834999999999,\n",
       "  79.025,\n",
       "  79.42500000000001,\n",
       "  79.825,\n",
       "  80.92914999999999,\n",
       "  82.01455,\n",
       "  82.66454999999999,\n",
       "  83.31665,\n",
       "  84.9875,\n",
       "  87.8021,\n",
       "  89.5521,\n",
       "  90.53960000000001,\n",
       "  98.7521,\n",
       "  107.6625,\n",
       "  109.89165,\n",
       "  112.07915,\n",
       "  116.6375,\n",
       "  126.825,\n",
       "  134.075,\n",
       "  135.06664999999998,\n",
       "  141.07704999999999,\n",
       "  149.0354,\n",
       "  152.50625000000002,\n",
       "  159.1646,\n",
       "  188.1021,\n",
       "  211.41875,\n",
       "  216.6396,\n",
       "  234.65,\n",
       "  254.9479,\n",
       "  262.6875,\n",
       "  387.6646],\n",
       " 6: array(['C', 'Q', 'S'], dtype=object)}"
      ]
     },
     "execution_count": 82,
     "metadata": {},
     "output_type": "execute_result"
    }
   ],
   "execution_count": 82
  },
  {
   "metadata": {
    "ExecuteTime": {
     "end_time": "2025-04-01T21:54:05.049715Z",
     "start_time": "2025-04-01T21:54:04.550488Z"
    }
   },
   "cell_type": "code",
   "source": [
    "tree = ID3(trainDat, maxDepth=3)\n",
    "pprint(tree)"
   ],
   "id": "b107217036371163",
   "outputs": [
    {
     "name": "stdout",
     "output_type": "stream",
     "text": [
      "{'Sex = male': [{'Fare <= 10.81665': [0, {'Age <= 6.5': [1, 0]}]},\n",
      "                {'Pclass = 3': [{'Fare <= 23.7': [1, 0]}, 1]}]}\n"
     ]
    }
   ],
   "execution_count": 83
  },
  {
   "metadata": {
    "ExecuteTime": {
     "end_time": "2025-04-01T21:54:05.973421Z",
     "start_time": "2025-04-01T21:54:05.085311Z"
    }
   },
   "cell_type": "code",
   "source": [
    "tree = ID3(trainDat, maxDepth=10)\n",
    "pprint(tree)"
   ],
   "id": "d99d73b42ed4d9b9",
   "outputs": [
    {
     "name": "stdout",
     "output_type": "stream",
     "text": [
      "{'Sex = male': [{'Fare <= 10.81665': [{'Fare <= 7.74585': [{'Fare <= 7.239599999999999': [{'Fare <= 7.2271': [{'Fare <= 2.00625': [{'Age <= 26.5': [{'Age <= 22.0': [0,\n",
      "                                                                                                                                                                     1]},\n",
      "                                                                                                                                                    0]},\n",
      "                                                                                                                                   0]},\n",
      "                                                                                                              {'Age <= 21.0': [{'Parch = 1': [0,\n",
      "                                                                                                                                              1]},\n",
      "                                                                                                                               0]}]},\n",
      "                                                                                          0]},\n",
      "                                                           {'SibSp = 1': [{'Fare <= 7.8896': [0,\n",
      "                                                                                              1]},\n",
      "                                                                          {'Age <= 28.5': [{'Fare <= 7.7979': [{'Embarked = S': [{'Age <= 19.5': [0,\n",
      "                                                                                                                                                  {'Age <= 21.5': [1,\n",
      "                                                                                                                                                                   0]}]},\n",
      "                                                                                                                                 0]},\n",
      "                                                                                                               {'Age <= 19.5': [{'Fare <= 8.10415': [{'Fare <= 7.972900000000001': [0,\n",
      "                                                                                                                                                                                    {'Age <= 17.0': [0,\n",
      "                                                                                                                                                                                                     1]}]},\n",
      "                                                                                                                                                     0]},\n",
      "                                                                                                                                0]}]},\n",
      "                                                                                           {'Age <= 32.5': [{'Fare <= 10.0': [{'Fare <= 9.49165': [0,\n",
      "                                                                                                                                                   1]},\n",
      "                                                                                                                              0]},\n",
      "                                                                                                            {'Age <= 43.5': [0,\n",
      "                                                                                                                             {'Fare <= 9.75': [{'Age <= 45.5': [1,\n",
      "                                                                                                                                                                0]},\n",
      "                                                                                                                                               1]}]}]}]}]}]},\n",
      "                                      {'Age <= 6.5': [{'Fare <= 20.825': [1,\n",
      "                                                                          {'Pclass = 3': [{'Fare <= 31.331249999999997': [0,\n",
      "                                                                                                                          {'Fare <= 35.5375': [1,\n",
      "                                                                                                                                               0]}]},\n",
      "                                                                                          1]}]},\n",
      "                                                      {'Pclass = 1': [{'Age <= 53.0': [{'Fare <= 27.1354': [{'Fare <= 26.14375': [0,\n",
      "                                                                                                                                  1]},\n",
      "                                                                                                            {'Age <= 27.5': [{'Fare <= 127.81665': [{'Age <= 24.5': [{'Fare <= 95.04165': [0,\n",
      "                                                                                                                                                                                           1]},\n",
      "                                                                                                                                                                     1]},\n",
      "                                                                                                                                                    0]},\n",
      "                                                                                                                             {'Fare <= 115.44165000000001': [{'Fare <= 59.0875': [{'Fare <= 56.4146': [0,\n",
      "                                                                                                                                                                                                       1]},\n",
      "                                                                                                                                                                                  0]},\n",
      "                                                                                                                                                             {'Age <= 32.0': [0,\n",
      "                                                                                                                                                                              1]}]}]}]},\n",
      "                                                                                       {'Age <= 75.5': [{'Embarked = S': [0,\n",
      "                                                                                                                          {'Age <= 57.0': [1,\n",
      "                                                                                                                                           0]}]},\n",
      "                                                                                                        1]}]},\n",
      "                                                                      {'Embarked = C': [{'Parch = 1': [1,\n",
      "                                                                                                       {'Fare <= 12.05835': [1,\n",
      "                                                                                                                             {'Fare <= 16.918750000000003': [0,\n",
      "                                                                                                                                                             {'Fare <= 20.23335': [{'Age <= 18.5': [0,\n",
      "                                                                                                                                                                                                    1]},\n",
      "                                                                                                                                                                                   0]}]}]}]},\n",
      "                                                                                        {'Fare <= 51.697900000000004': [{'Age <= 9.5': [{'SibSp = 4': [0,\n",
      "                                                                                                                                                       {'Fare <= 41.825': [1,\n",
      "                                                                                                                                                                           0]}]},\n",
      "                                                                                                                                        {'Age <= 27.5': [0,\n",
      "                                                                                                                                                         {'Fare <= 13.25': [0,\n",
      "                                                                                                                                                                            {'SibSp = 2': [1,\n",
      "                                                                                                                                                                                           0]}]}]}]},\n",
      "                                                                                                                        {'Fare <= 63.0229': [1,\n",
      "                                                                                                                                             0]}]}]}]}]}]},\n",
      "                {'Pclass = 3': [{'Fare <= 23.7': [{'Age <= 36.5': [{'Age <= 1.5': [1,\n",
      "                                                                                   {'Fare <= 7.8875': [{'Age <= 29.25': [{'Fare <= 7.8021': [{'Fare <= 6.9875': [0,\n",
      "                                                                                                                                                                 1]},\n",
      "                                                                                                                                             1]},\n",
      "                                                                                                                         0]},\n",
      "                                                                                                       {'Fare <= 10.7979': [{'Age <= 19.0': [{'Fare <= 10.1521': [1,\n",
      "                                                                                                                                                                  0]},\n",
      "                                                                                                                                             {'Age <= 25.5': [0,\n",
      "                                                                                                                                                              {'Age <= 27.5': [1,\n",
      "                                                                                                                                                                               0]}]}]},\n",
      "                                                                                                                            {'Fare <= 13.90835': [1,\n",
      "                                                                                                                                                  {'Fare <= 15.3729': [{'Age <= 28.5': [0,\n",
      "                                                                                                                                                                                        1]},\n",
      "                                                                                                                                                                       1]}]}]}]}]},\n",
      "                                                                   0]},\n",
      "                                                  {'Parch = 0': [1,\n",
      "                                                                 {'Fare <= 31.331249999999997': [0,\n",
      "                                                                                                 {'Fare <= 32.88125': [1,\n",
      "                                                                                                                       0]}]}]}]},\n",
      "                                {'Fare <= 29.35625': [{'Age <= 25.5': [1,\n",
      "                                                                       {'Age <= 27.5': [{'Embarked = S': [0,\n",
      "                                                                                                          1]},\n",
      "                                                                                        {'Age <= 37.0': [1,\n",
      "                                                                                                         {'Embarked = S': [{'Age <= 39.0': [0,\n",
      "                                                                                                                                            {'Fare <= 11.75': [{'Age <= 53.5': [1,\n",
      "                                                                                                                                                                                0]},\n",
      "                                                                                                                                                               1]}]},\n",
      "                                                                                                                           0]}]}]}]},\n",
      "                                                      1]}]}]}\n"
     ]
    }
   ],
   "execution_count": 84
  },
  {
   "metadata": {
    "ExecuteTime": {
     "end_time": "2025-04-01T21:54:06.005977Z",
     "start_time": "2025-04-01T21:54:05.998435Z"
    }
   },
   "cell_type": "code",
   "source": [
    "eg = testDat.iloc[0]\n",
    "eg"
   ],
   "id": "327886debe2b8d47",
   "outputs": [
    {
     "data": {
      "text/plain": [
       "Pclass           3\n",
       "Sex           male\n",
       "Age           28.0\n",
       "SibSp            0\n",
       "Parch            0\n",
       "Fare        7.8958\n",
       "Embarked         S\n",
       "Label            0\n",
       "Name: 101, dtype: object"
      ]
     },
     "execution_count": 85,
     "metadata": {},
     "output_type": "execute_result"
    }
   ],
   "execution_count": 85
  },
  {
   "metadata": {
    "ExecuteTime": {
     "end_time": "2025-04-01T21:54:06.071157Z",
     "start_time": "2025-04-01T21:54:06.064888Z"
    }
   },
   "cell_type": "code",
   "source": "classifyEg(eg, tree)",
   "id": "5b413323a9cf4eb1",
   "outputs": [
    {
     "data": {
      "text/plain": [
       "0"
      ]
     },
     "execution_count": 86,
     "metadata": {},
     "output_type": "execute_result"
    }
   ],
   "execution_count": 86
  },
  {
   "metadata": {
    "ExecuteTime": {
     "end_time": "2025-04-01T21:54:06.156344Z",
     "start_time": "2025-04-01T21:54:06.144343Z"
    }
   },
   "cell_type": "code",
   "source": "print(calcAccuracy(testDat, tree))",
   "id": "d90ad1de746e7690",
   "outputs": [
    {
     "name": "stdout",
     "output_type": "stream",
     "text": [
      "0.7640449438202247\n"
     ]
    }
   ],
   "execution_count": 87
  },
  {
   "metadata": {
    "ExecuteTime": {
     "end_time": "2025-04-01T22:13:18.151932Z",
     "start_time": "2025-04-01T22:13:17.999468Z"
    }
   },
   "cell_type": "code",
   "source": [
    "def evaluateModel(tree, test_data, class_names=None):\n",
    "    test_data = test_data.copy()\n",
    "    test_data['prediction'] = test_data.apply(\n",
    "        lambda row: classifyEg(row, tree), axis=1\n",
    "    )\n",
    "    y_true = test_data['Label']\n",
    "    y_pred = test_data['prediction']\n",
    "    accuracy = (y_true == y_pred).mean()\n",
    "    report = classification_report(\n",
    "        y_true, y_pred,\n",
    "        target_names=class_names,\n",
    "        output_dict=True\n",
    "    )\n",
    "    cm = confusion_matrix(y_true, y_pred)\n",
    "    plt.figure(figsize=(8, 6))\n",
    "    sns.heatmap(cm, annot=True, fmt='d', cmap='Blues',\n",
    "                xticklabels=class_names,\n",
    "                yticklabels=class_names)\n",
    "    plt.ylabel('Actual')\n",
    "    plt.xlabel('Predicted')\n",
    "    plt.title('Confusion Matrix')\n",
    "    plt.show()\n",
    "    print(f\"Accuracy: {accuracy:.2%}\\n\")\n",
    "    print(pd.DataFrame(report).transpose().to_markdown())\n",
    "    return accuracy, report, cm\n",
    "\n",
    "\n",
    "accuracy, report, cm = evaluateModel(tree, testDat, class_names=['Not Survived', 'Survived'])"
   ],
   "id": "ab87b1fc4055dfa6",
   "outputs": [
    {
     "data": {
      "text/plain": [
       "<Figure size 800x600 with 2 Axes>"
      ],
      "image/png": "[encoded data removed]"
     },
     "metadata": {},
     "output_type": "display_data"
    },
    {
     "name": "stdout",
     "output_type": "stream",
     "text": [
      "Accuracy: 76.40%\n",
      "\n",
      "|              |   precision |   recall |   f1-score |    support |\n",
      "|:-------------|------------:|---------:|-----------:|-----------:|\n",
      "| Not Survived |    0.8      | 0.828829 |   0.814159 | 111        |\n",
      "| Survived     |    0.698413 | 0.656716 |   0.676923 |  67        |\n",
      "| accuracy     |    0.764045 | 0.764045 |   0.764045 |   0.764045 |\n",
      "| macro avg    |    0.749206 | 0.742773 |   0.745541 | 178        |\n",
      "| weighted avg |    0.761762 | 0.764045 |   0.762503 | 178        |\n"
     ]
    }
   ],
   "execution_count": 95
  },
  {
   "metadata": {},
   "cell_type": "code",
   "outputs": [],
   "execution_count": null,
   "source": "",
   "id": "108a4739625d22d3"
  }
 ],
 "metadata": {
  "kernelspec": {
   "display_name": "Python 3 (ipykernel)",
   "language": "python",
   "name": "python3"
  },
  "language_info": {
   "codemirror_mode": {
    "name": "ipython",
    "version": 3
   },
   "file_extension": ".py",
   "mimetype": "text/x-python",
   "name": "python",
   "nbconvert_exporter": "python",
   "pygments_lexer": "ipython3",
   "version": "3.12.3"
  }
 },
 "nbformat": 4,
 "nbformat_minor": 5
}
