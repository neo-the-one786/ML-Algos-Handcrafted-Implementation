{
 "cells": [
  {
   "cell_type": "code",
   "id": "9414aeacf48c43a0",
   "metadata": {
    "ExecuteTime": {
     "end_time": "2025-04-01T12:37:37.603612Z",
     "start_time": "2025-04-01T12:37:37.586750Z"
    }
   },
   "source": [
    "import pandas as pd\n",
    "\n",
    "datSet = pd.read_csv('../data/play_tennis.csv')\n",
    "datSet.head()"
   ],
   "outputs": [
    {
     "data": {
      "text/plain": [
       "  day   outlook  temp humidity    wind play\n",
       "0  D1     Sunny   Hot     High    Weak   No\n",
       "1  D2     Sunny   Hot     High  Strong   No\n",
       "2  D3  Overcast   Hot     High    Weak  Yes\n",
       "3  D4      Rain  Mild     High    Weak  Yes\n",
       "4  D5      Rain  Cool   Normal    Weak  Yes"
      ],
      "text/html": [
       "<div>\n",
       "<style scoped>\n",
       "    .dataframe tbody tr th:only-of-type {\n",
       "        vertical-align: middle;\n",
       "    }\n",
       "\n",
       "    .dataframe tbody tr th {\n",
       "        vertical-align: top;\n",
       "    }\n",
       "\n",
       "    .dataframe thead th {\n",
       "        text-align: right;\n",
       "    }\n",
       "</style>\n",
       "<table border=\"1\" class=\"dataframe\">\n",
       "  <thead>\n",
       "    <tr style=\"text-align: right;\">\n",
       "      <th></th>\n",
       "      <th>day</th>\n",
       "      <th>outlook</th>\n",
       "      <th>temp</th>\n",
       "      <th>humidity</th>\n",
       "      <th>wind</th>\n",
       "      <th>play</th>\n",
       "    </tr>\n",
       "  </thead>\n",
       "  <tbody>\n",
       "    <tr>\n",
       "      <th>0</th>\n",
       "      <td>D1</td>\n",
       "      <td>Sunny</td>\n",
       "      <td>Hot</td>\n",
       "      <td>High</td>\n",
       "      <td>Weak</td>\n",
       "      <td>No</td>\n",
       "    </tr>\n",
       "    <tr>\n",
       "      <th>1</th>\n",
       "      <td>D2</td>\n",
       "      <td>Sunny</td>\n",
       "      <td>Hot</td>\n",
       "      <td>High</td>\n",
       "      <td>Strong</td>\n",
       "      <td>No</td>\n",
       "    </tr>\n",
       "    <tr>\n",
       "      <th>2</th>\n",
       "      <td>D3</td>\n",
       "      <td>Overcast</td>\n",
       "      <td>Hot</td>\n",
       "      <td>High</td>\n",
       "      <td>Weak</td>\n",
       "      <td>Yes</td>\n",
       "    </tr>\n",
       "    <tr>\n",
       "      <th>3</th>\n",
       "      <td>D4</td>\n",
       "      <td>Rain</td>\n",
       "      <td>Mild</td>\n",
       "      <td>High</td>\n",
       "      <td>Weak</td>\n",
       "      <td>Yes</td>\n",
       "    </tr>\n",
       "    <tr>\n",
       "      <th>4</th>\n",
       "      <td>D5</td>\n",
       "      <td>Rain</td>\n",
       "      <td>Cool</td>\n",
       "      <td>Normal</td>\n",
       "      <td>Weak</td>\n",
       "      <td>Yes</td>\n",
       "    </tr>\n",
       "  </tbody>\n",
       "</table>\n",
       "</div>"
      ]
     },
     "execution_count": 27,
     "metadata": {},
     "output_type": "execute_result"
    }
   ],
   "execution_count": 27
  },
  {
   "metadata": {
    "ExecuteTime": {
     "end_time": "2025-04-01T12:37:42.982098Z",
     "start_time": "2025-04-01T12:37:42.966008Z"
    }
   },
   "cell_type": "code",
   "source": [
    "from Decision_Trees.models.utils import cleanData\n",
    "\n",
    "ogDatSet = datSet.drop(columns=[\"day\"])\n",
    "datSet = cleanData(datSet)\n",
    "datSet.head()"
   ],
   "id": "2ebd5ad4b476ee85",
   "outputs": [
    {
     "data": {
      "text/plain": [
       "   outlook  temp  humidity  wind  play\n",
       "0        2     1         0     1     0\n",
       "1        2     1         0     0     0\n",
       "2        0     1         0     1     1\n",
       "3        1     2         0     1     1\n",
       "4        1     0         1     1     1"
      ],
      "text/html": [
       "<div>\n",
       "<style scoped>\n",
       "    .dataframe tbody tr th:only-of-type {\n",
       "        vertical-align: middle;\n",
       "    }\n",
       "\n",
       "    .dataframe tbody tr th {\n",
       "        vertical-align: top;\n",
       "    }\n",
       "\n",
       "    .dataframe thead th {\n",
       "        text-align: right;\n",
       "    }\n",
       "</style>\n",
       "<table border=\"1\" class=\"dataframe\">\n",
       "  <thead>\n",
       "    <tr style=\"text-align: right;\">\n",
       "      <th></th>\n",
       "      <th>outlook</th>\n",
       "      <th>temp</th>\n",
       "      <th>humidity</th>\n",
       "      <th>wind</th>\n",
       "      <th>play</th>\n",
       "    </tr>\n",
       "  </thead>\n",
       "  <tbody>\n",
       "    <tr>\n",
       "      <th>0</th>\n",
       "      <td>2</td>\n",
       "      <td>1</td>\n",
       "      <td>0</td>\n",
       "      <td>1</td>\n",
       "      <td>0</td>\n",
       "    </tr>\n",
       "    <tr>\n",
       "      <th>1</th>\n",
       "      <td>2</td>\n",
       "      <td>1</td>\n",
       "      <td>0</td>\n",
       "      <td>0</td>\n",
       "      <td>0</td>\n",
       "    </tr>\n",
       "    <tr>\n",
       "      <th>2</th>\n",
       "      <td>0</td>\n",
       "      <td>1</td>\n",
       "      <td>0</td>\n",
       "      <td>1</td>\n",
       "      <td>1</td>\n",
       "    </tr>\n",
       "    <tr>\n",
       "      <th>3</th>\n",
       "      <td>1</td>\n",
       "      <td>2</td>\n",
       "      <td>0</td>\n",
       "      <td>1</td>\n",
       "      <td>1</td>\n",
       "    </tr>\n",
       "    <tr>\n",
       "      <th>4</th>\n",
       "      <td>1</td>\n",
       "      <td>0</td>\n",
       "      <td>1</td>\n",
       "      <td>1</td>\n",
       "      <td>1</td>\n",
       "    </tr>\n",
       "  </tbody>\n",
       "</table>\n",
       "</div>"
      ]
     },
     "execution_count": 28,
     "metadata": {},
     "output_type": "execute_result"
    }
   ],
   "execution_count": 28
  },
  {
   "metadata": {
    "ExecuteTime": {
     "end_time": "2025-04-01T12:38:28.259937Z",
     "start_time": "2025-04-01T12:38:28.255580Z"
    }
   },
   "cell_type": "code",
   "source": [
    "def get_mappings(original_df, encoded_df):\n",
    "    mappings = {}\n",
    "    for col in original_df.columns:\n",
    "        mappings[col] = dict(enumerate(original_df[col].astype(\"category\").cat.categories))\n",
    "    mappings[\"target_col\"] = original_df.columns[-1]\n",
    "    return mappings"
   ],
   "id": "9873d7df44c8cf09",
   "outputs": [],
   "execution_count": 33
  },
  {
   "metadata": {
    "ExecuteTime": {
     "end_time": "2025-04-01T12:38:28.796905Z",
     "start_time": "2025-04-01T12:38:28.785500Z"
    }
   },
   "cell_type": "code",
   "source": [
    "mappings = get_mappings(ogDatSet, datSet)\n",
    "mappings"
   ],
   "id": "7e2ab66102cb526d",
   "outputs": [
    {
     "data": {
      "text/plain": [
       "{'outlook': {0: 'Overcast', 1: 'Rain', 2: 'Sunny'},\n",
       " 'temp': {0: 'Cool', 1: 'Hot', 2: 'Mild'},\n",
       " 'humidity': {0: 'High', 1: 'Normal'},\n",
       " 'wind': {0: 'Strong', 1: 'Weak'},\n",
       " 'play': {0: 'No', 1: 'Yes'},\n",
       " 'target_col': 'play'}"
      ]
     },
     "execution_count": 34,
     "metadata": {},
     "output_type": "execute_result"
    }
   ],
   "execution_count": 34
  },
  {
   "cell_type": "code",
   "id": "f3dc247127e6ed84",
   "metadata": {
    "ExecuteTime": {
     "end_time": "2025-04-01T12:38:29.489534Z",
     "start_time": "2025-04-01T12:38:29.484163Z"
    }
   },
   "source": [
    "from Decision_Trees.models.utils import getFeatLabel\n",
    "\n",
    "X, y = getFeatLabel(datSet)"
   ],
   "outputs": [],
   "execution_count": 35
  },
  {
   "cell_type": "code",
   "id": "2d82bcd5a1704c82",
   "metadata": {
    "ExecuteTime": {
     "end_time": "2025-04-01T12:38:30.094469Z",
     "start_time": "2025-04-01T12:38:30.082449Z"
    }
   },
   "source": "X",
   "outputs": [
    {
     "data": {
      "text/plain": [
       "    outlook  temp  humidity  wind\n",
       "0         2     1         0     1\n",
       "1         2     1         0     0\n",
       "2         0     1         0     1\n",
       "3         1     2         0     1\n",
       "4         1     0         1     1\n",
       "5         1     0         1     0\n",
       "6         0     0         1     0\n",
       "7         2     2         0     1\n",
       "8         2     0         1     1\n",
       "9         1     2         1     1\n",
       "10        2     2         1     0\n",
       "11        0     2         0     0\n",
       "12        0     1         1     1\n",
       "13        1     2         0     0"
      ],
      "text/html": [
       "<div>\n",
       "<style scoped>\n",
       "    .dataframe tbody tr th:only-of-type {\n",
       "        vertical-align: middle;\n",
       "    }\n",
       "\n",
       "    .dataframe tbody tr th {\n",
       "        vertical-align: top;\n",
       "    }\n",
       "\n",
       "    .dataframe thead th {\n",
       "        text-align: right;\n",
       "    }\n",
       "</style>\n",
       "<table border=\"1\" class=\"dataframe\">\n",
       "  <thead>\n",
       "    <tr style=\"text-align: right;\">\n",
       "      <th></th>\n",
       "      <th>outlook</th>\n",
       "      <th>temp</th>\n",
       "      <th>humidity</th>\n",
       "      <th>wind</th>\n",
       "    </tr>\n",
       "  </thead>\n",
       "  <tbody>\n",
       "    <tr>\n",
       "      <th>0</th>\n",
       "      <td>2</td>\n",
       "      <td>1</td>\n",
       "      <td>0</td>\n",
       "      <td>1</td>\n",
       "    </tr>\n",
       "    <tr>\n",
       "      <th>1</th>\n",
       "      <td>2</td>\n",
       "      <td>1</td>\n",
       "      <td>0</td>\n",
       "      <td>0</td>\n",
       "    </tr>\n",
       "    <tr>\n",
       "      <th>2</th>\n",
       "      <td>0</td>\n",
       "      <td>1</td>\n",
       "      <td>0</td>\n",
       "      <td>1</td>\n",
       "    </tr>\n",
       "    <tr>\n",
       "      <th>3</th>\n",
       "      <td>1</td>\n",
       "      <td>2</td>\n",
       "      <td>0</td>\n",
       "      <td>1</td>\n",
       "    </tr>\n",
       "    <tr>\n",
       "      <th>4</th>\n",
       "      <td>1</td>\n",
       "      <td>0</td>\n",
       "      <td>1</td>\n",
       "      <td>1</td>\n",
       "    </tr>\n",
       "    <tr>\n",
       "      <th>5</th>\n",
       "      <td>1</td>\n",
       "      <td>0</td>\n",
       "      <td>1</td>\n",
       "      <td>0</td>\n",
       "    </tr>\n",
       "    <tr>\n",
       "      <th>6</th>\n",
       "      <td>0</td>\n",
       "      <td>0</td>\n",
       "      <td>1</td>\n",
       "      <td>0</td>\n",
       "    </tr>\n",
       "    <tr>\n",
       "      <th>7</th>\n",
       "      <td>2</td>\n",
       "      <td>2</td>\n",
       "      <td>0</td>\n",
       "      <td>1</td>\n",
       "    </tr>\n",
       "    <tr>\n",
       "      <th>8</th>\n",
       "      <td>2</td>\n",
       "      <td>0</td>\n",
       "      <td>1</td>\n",
       "      <td>1</td>\n",
       "    </tr>\n",
       "    <tr>\n",
       "      <th>9</th>\n",
       "      <td>1</td>\n",
       "      <td>2</td>\n",
       "      <td>1</td>\n",
       "      <td>1</td>\n",
       "    </tr>\n",
       "    <tr>\n",
       "      <th>10</th>\n",
       "      <td>2</td>\n",
       "      <td>2</td>\n",
       "      <td>1</td>\n",
       "      <td>0</td>\n",
       "    </tr>\n",
       "    <tr>\n",
       "      <th>11</th>\n",
       "      <td>0</td>\n",
       "      <td>2</td>\n",
       "      <td>0</td>\n",
       "      <td>0</td>\n",
       "    </tr>\n",
       "    <tr>\n",
       "      <th>12</th>\n",
       "      <td>0</td>\n",
       "      <td>1</td>\n",
       "      <td>1</td>\n",
       "      <td>1</td>\n",
       "    </tr>\n",
       "    <tr>\n",
       "      <th>13</th>\n",
       "      <td>1</td>\n",
       "      <td>2</td>\n",
       "      <td>0</td>\n",
       "      <td>0</td>\n",
       "    </tr>\n",
       "  </tbody>\n",
       "</table>\n",
       "</div>"
      ]
     },
     "execution_count": 36,
     "metadata": {},
     "output_type": "execute_result"
    }
   ],
   "execution_count": 36
  },
  {
   "cell_type": "code",
   "id": "3efc79cd8f4065dd",
   "metadata": {
    "ExecuteTime": {
     "end_time": "2025-04-01T12:38:30.544053Z",
     "start_time": "2025-04-01T12:38:30.536515Z"
    }
   },
   "source": "y",
   "outputs": [
    {
     "data": {
      "text/plain": [
       "0     0\n",
       "1     0\n",
       "2     1\n",
       "3     1\n",
       "4     1\n",
       "5     0\n",
       "6     1\n",
       "7     0\n",
       "8     1\n",
       "9     1\n",
       "10    1\n",
       "11    1\n",
       "12    1\n",
       "13    0\n",
       "Name: play, dtype: int8"
      ]
     },
     "execution_count": 37,
     "metadata": {},
     "output_type": "execute_result"
    }
   ],
   "execution_count": 37
  },
  {
   "cell_type": "code",
   "id": "1d9d4810e4ccc5ff",
   "metadata": {
    "ExecuteTime": {
     "end_time": "2025-04-01T12:38:32.715298Z",
     "start_time": "2025-04-01T12:38:32.690164Z"
    }
   },
   "source": [
    "from Decision_Trees.models.utils import buildTree\n",
    "\n",
    "tree = buildTree(X, y, max_depth=3)"
   ],
   "outputs": [],
   "execution_count": 38
  },
  {
   "metadata": {
    "ExecuteTime": {
     "end_time": "2025-04-01T12:38:33.495084Z",
     "start_time": "2025-04-01T12:38:33.486080Z"
    }
   },
   "cell_type": "code",
   "source": "print(tree.feat)",
   "id": "ca20329ae7fd3b7d",
   "outputs": [
    {
     "name": "stdout",
     "output_type": "stream",
     "text": [
      "0\n"
     ]
    }
   ],
   "execution_count": 39
  },
  {
   "metadata": {
    "ExecuteTime": {
     "end_time": "2025-04-01T12:38:35.669679Z",
     "start_time": "2025-04-01T12:38:35.663706Z"
    }
   },
   "cell_type": "code",
   "source": [
    "def get_mapped_value(feature, encoded_value, mappings):\n",
    "    if feature == 'label':\n",
    "        feature = mappings['target_col']\n",
    "    return mappings[feature].get(encoded_value, encoded_value)\n",
    "\n",
    "def get_edge_label(feature, branch_idx, mappings):\n",
    "    if mappings and feature in mappings:\n",
    "        return list(mappings[feature].values())[branch_idx]\n",
    "    return str(branch_idx)"
   ],
   "id": "cb53260bef81d5ab",
   "outputs": [],
   "execution_count": 40
  },
  {
   "cell_type": "code",
   "id": "3026ce99e275fd5f",
   "metadata": {
    "ExecuteTime": {
     "end_time": "2025-04-01T12:38:36.720948Z",
     "start_time": "2025-04-01T12:38:36.711820Z"
    }
   },
   "source": [
    "from graphviz import Digraph\n",
    "import re\n",
    "\n",
    "def sanitize_name(name):\n",
    "    \"\"\"Convert strings to valid DOT identifiers\"\"\"\n",
    "    return re.sub(r'[^a-zA-Z0-9_]', '_', str(name))\n",
    "\n",
    "def visualize_tree_graphviz(node, X, mappings=None, graph=None, parent=None, edge_label=None):\n",
    "    if graph is None:\n",
    "        graph = Digraph(format='png', engine='dot')\n",
    "        graph.attr('node', shape='box', style='rounded')\n",
    "\n",
    "    # Create safe node names\n",
    "    if node.label is not None:\n",
    "        node_name = f\"leaf_{sanitize_name(node.label)}\"\n",
    "        label_text = f\"Class: {get_mapped_value('label', node.label, mappings)}\"\n",
    "        graph.node(node_name, label=label_text, shape='ellipse', style='filled', fillcolor='lightgreen')\n",
    "    else:\n",
    "        feature_name = X.columns[node.feat]\n",
    "        node_name = f\"split_{sanitize_name(feature_name)}\"\n",
    "        label_text = f\"Split on {feature_name}\"\n",
    "        graph.node(node_name, label=label_text, shape='diamond', fillcolor='lightblue', style='filled')\n",
    "\n",
    "    if parent is not None:\n",
    "        graph.edge(parent, node_name, label=edge_label or \"\")\n",
    "\n",
    "    if hasattr(node, 'children') and node.children:\n",
    "        for i, child in enumerate(node.children):\n",
    "            feature_name = X.columns[node.feat]\n",
    "            edge_lbl = get_edge_label(feature_name, i, mappings)\n",
    "            visualize_tree_graphviz(child, X, mappings, graph, node_name, edge_lbl)\n",
    "\n",
    "    return graph\n",
    "\n",
    "def draw_tree_graphviz(tree, X, mappings=None, filename='decision_tree'):\n",
    "    graph = visualize_tree_graphviz(tree, X, mappings)\n",
    "    graph.attr(size='10,10', rankdir='TB')\n",
    "    graph.render(filename, view=True, cleanup=True)\n",
    "    return graph"
   ],
   "outputs": [],
   "execution_count": 41
  },
  {
   "cell_type": "code",
   "id": "1ded8050d5d8a475",
   "metadata": {
    "ExecuteTime": {
     "end_time": "2025-04-01T12:38:39.281611Z",
     "start_time": "2025-04-01T12:38:38.937639Z"
    }
   },
   "source": [
    "from Decision_Trees.models.utils import predict\n",
    "\n",
    "# Visualize the tree\n",
    "graph = draw_tree_graphviz(tree, X, mappings, filename='tennis_decision_tree')\n",
    "graph"
   ],
   "outputs": [
    {
     "data": {
      "image/svg+xml": "<?xml version=\"1.0\" encoding=\"UTF-8\" standalone=\"no\"?>\n<!DOCTYPE svg PUBLIC \"-//W3C//DTD SVG 1.1//EN\"\n \"http://www.w3.org/Graphics/SVG/1.1/DTD/svg11.dtd\">\n<!-- Generated by graphviz version 4.0.0 (0)\n -->\n<!-- Pages: 1 -->\n<svg width=\"466pt\" height=\"218pt\"\n viewBox=\"0.00 0.00 466.41 218.00\" xmlns=\"http://www.w3.org/2000/svg\" xmlns:xlink=\"http://www.w3.org/1999/xlink\">\n<g id=\"graph0\" class=\"graph\" transform=\"scale(1 1) rotate(0) translate(4 214)\">\n<polygon fill=\"white\" stroke=\"transparent\" points=\"-4,4 -4,-214 462.41,-214 462.41,4 -4,4\"/>\n<!-- split_outlook -->\n<g id=\"node1\" class=\"node\">\n<title>split_outlook</title>\n<polygon fill=\"lightblue\" stroke=\"black\" points=\"148.55,-210 52.86,-192 148.55,-174 244.23,-192 148.55,-210\"/>\n<text text-anchor=\"middle\" x=\"148.55\" y=\"-188.3\" font-family=\"Times New Roman,serif\" font-size=\"14.00\">Split on outlook</text>\n</g>\n<!-- leaf_1 -->\n<g id=\"node2\" class=\"node\">\n<title>leaf_1</title>\n<ellipse fill=\"lightgreen\" stroke=\"black\" cx=\"148.55\" cy=\"-18\" rx=\"47.39\" ry=\"18\"/>\n<text text-anchor=\"middle\" x=\"148.55\" y=\"-14.3\" font-family=\"Times New Roman,serif\" font-size=\"14.00\">Class: Yes</text>\n</g>\n<!-- split_outlook&#45;&gt;leaf_1 -->\n<g id=\"edge1\" class=\"edge\">\n<title>split_outlook&#45;&gt;leaf_1</title>\n<path fill=\"none\" stroke=\"black\" d=\"M102.84,-182.47C69.83,-173.66 27.53,-156.3 6.55,-123 -20.92,-79.4 49.42,-48.11 100.62,-31.84\"/>\n<polygon fill=\"black\" stroke=\"black\" points=\"101.72,-35.16 110.25,-28.88 99.67,-28.47 101.72,-35.16\"/>\n<text text-anchor=\"middle\" x=\"31.05\" y=\"-101.3\" font-family=\"Times New Roman,serif\" font-size=\"14.00\">Overcast</text>\n</g>\n<!-- split_humidity -->\n<g id=\"node3\" class=\"node\">\n<title>split_humidity</title>\n<polygon fill=\"lightblue\" stroke=\"black\" points=\"354.55,-123 250.82,-105 354.55,-87 458.28,-105 354.55,-123\"/>\n<text text-anchor=\"middle\" x=\"354.55\" y=\"-101.3\" font-family=\"Times New Roman,serif\" font-size=\"14.00\">Split on humidity</text>\n</g>\n<!-- split_outlook&#45;&gt;split_humidity -->\n<g id=\"edge2\" class=\"edge\">\n<title>split_outlook&#45;&gt;split_humidity</title>\n<path fill=\"none\" stroke=\"black\" d=\"M177.19,-179.18C213.35,-164.26 275.67,-138.55 315.99,-121.91\"/>\n<polygon fill=\"black\" stroke=\"black\" points=\"317.57,-125.04 325.48,-117.99 314.9,-118.57 317.57,-125.04\"/>\n<text text-anchor=\"middle\" x=\"276.55\" y=\"-144.8\" font-family=\"Times New Roman,serif\" font-size=\"14.00\">Rain</text>\n</g>\n<!-- split_temp -->\n<g id=\"node5\" class=\"node\">\n<title>split_temp</title>\n<polygon fill=\"lightblue\" stroke=\"black\" points=\"148.55,-123 64.76,-105 148.55,-87 232.33,-105 148.55,-123\"/>\n<text text-anchor=\"middle\" x=\"148.55\" y=\"-101.3\" font-family=\"Times New Roman,serif\" font-size=\"14.00\">Split on temp</text>\n</g>\n<!-- split_outlook&#45;&gt;split_temp -->\n<g id=\"edge5\" class=\"edge\">\n<title>split_outlook&#45;&gt;split_temp</title>\n<path fill=\"none\" stroke=\"black\" d=\"M148.55,-173.8C148.55,-162.16 148.55,-146.55 148.55,-133.24\"/>\n<polygon fill=\"black\" stroke=\"black\" points=\"152.05,-133.18 148.55,-123.18 145.05,-133.18 152.05,-133.18\"/>\n<text text-anchor=\"middle\" x=\"166.05\" y=\"-144.8\" font-family=\"Times New Roman,serif\" font-size=\"14.00\">Sunny</text>\n</g>\n<!-- split_humidity&#45;&gt;leaf_1 -->\n<g id=\"edge4\" class=\"edge\">\n<title>split_humidity&#45;&gt;leaf_1</title>\n<path fill=\"none\" stroke=\"black\" d=\"M325.98,-91.87C311.54,-85.49 293.89,-77.28 278.55,-69 267.48,-63.02 265.94,-59.34 254.55,-54 235.96,-45.28 214.6,-37.78 195.95,-31.99\"/>\n<polygon fill=\"black\" stroke=\"black\" points=\"196.77,-28.58 186.18,-29.03 194.74,-35.28 196.77,-28.58\"/>\n<text text-anchor=\"middle\" x=\"300.05\" y=\"-57.8\" font-family=\"Times New Roman,serif\" font-size=\"14.00\">Normal</text>\n</g>\n<!-- leaf_0 -->\n<g id=\"node4\" class=\"node\">\n<title>leaf_0</title>\n<ellipse fill=\"lightgreen\" stroke=\"black\" cx=\"303.55\" cy=\"-18\" rx=\"45.49\" ry=\"18\"/>\n<text text-anchor=\"middle\" x=\"303.55\" y=\"-14.3\" font-family=\"Times New Roman,serif\" font-size=\"14.00\">Class: No</text>\n</g>\n<!-- split_humidity&#45;&gt;leaf_0 -->\n<g id=\"edge3\" class=\"edge\">\n<title>split_humidity&#45;&gt;leaf_0</title>\n<path fill=\"none\" stroke=\"black\" d=\"M345.19,-88.41C337.83,-76.14 327.43,-58.8 318.86,-44.51\"/>\n<polygon fill=\"black\" stroke=\"black\" points=\"321.69,-42.43 313.54,-35.65 315.68,-46.03 321.69,-42.43\"/>\n<text text-anchor=\"middle\" x=\"345.55\" y=\"-57.8\" font-family=\"Times New Roman,serif\" font-size=\"14.00\">High</text>\n</g>\n<!-- split_temp&#45;&gt;leaf_1 -->\n<g id=\"edge7\" class=\"edge\">\n<title>split_temp&#45;&gt;leaf_1</title>\n<path fill=\"none\" stroke=\"black\" d=\"M148.55,-86.8C148.55,-75.16 148.55,-59.55 148.55,-46.24\"/>\n<polygon fill=\"black\" stroke=\"black\" points=\"152.05,-46.18 148.55,-36.18 145.05,-46.18 152.05,-46.18\"/>\n<text text-anchor=\"middle\" x=\"159.05\" y=\"-57.8\" font-family=\"Times New Roman,serif\" font-size=\"14.00\">Hot</text>\n</g>\n<!-- split_temp&#45;&gt;leaf_0 -->\n<g id=\"edge6\" class=\"edge\">\n<title>split_temp&#45;&gt;leaf_0</title>\n<path fill=\"none\" stroke=\"black\" d=\"M167.6,-90.94C183.34,-80.39 206.44,-65.47 227.55,-54 239.23,-47.65 252.27,-41.37 264.21,-35.91\"/>\n<polygon fill=\"black\" stroke=\"black\" points=\"265.82,-39.03 273.5,-31.73 262.95,-32.64 265.82,-39.03\"/>\n<text text-anchor=\"middle\" x=\"241.05\" y=\"-57.8\" font-family=\"Times New Roman,serif\" font-size=\"14.00\">Cool</text>\n</g>\n</g>\n</svg>\n",
      "text/plain": [
       "<graphviz.graphs.Digraph at 0x1e65677a960>"
      ]
     },
     "execution_count": 42,
     "metadata": {},
     "output_type": "execute_result"
    }
   ],
   "execution_count": 42
  },
  {
   "metadata": {
    "ExecuteTime": {
     "end_time": "2025-04-01T12:38:41.528105Z",
     "start_time": "2025-04-01T12:38:41.521470Z"
    }
   },
   "cell_type": "code",
   "source": [
    "# Make a prediction\n",
    "sample = X.iloc[0]  # Example sample\n",
    "prediction = predict(tree, sample)\n",
    "print(f\"Predicted class: {get_mapped_value('play', prediction, mappings)}\")"
   ],
   "id": "4e2ad7defc4149ab",
   "outputs": [
    {
     "name": "stdout",
     "output_type": "stream",
     "text": [
      "Predicted class: Yes\n"
     ]
    }
   ],
   "execution_count": 43
  },
  {
   "metadata": {},
   "cell_type": "code",
   "outputs": [],
   "execution_count": null,
   "source": "",
   "id": "f6d8f1326ea637d8"
  }
 ],
 "metadata": {
  "kernelspec": {
   "display_name": "Python 3 (ipykernel)",
   "language": "python",
   "name": "python3"
  },
  "language_info": {
   "codemirror_mode": {
    "name": "ipython",
    "version": 3
   },
   "file_extension": ".py",
   "mimetype": "text/x-python",
   "name": "python",
   "nbconvert_exporter": "python",
   "pygments_lexer": "ipython3",
   "version": "3.12.3"
  }
 },
 "nbformat": 4,
 "nbformat_minor": 5
}
