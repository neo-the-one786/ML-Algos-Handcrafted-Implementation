{
 "cells": [
  {
   "metadata": {
    "ExecuteTime": {
     "end_time": "2025-04-01T10:41:54.403107Z",
     "start_time": "2025-04-01T10:41:54.397334Z"
    }
   },
   "cell_type": "code",
   "source": [
    "import numpy as np\n",
    "import pandas as pd\n",
    "import matplotlib.pyplot as plt\n",
    "import seaborn as sns\n",
    "import random\n",
    "from pprint import pprint"
   ],
   "id": "414efb15a37165f9",
   "outputs": [],
   "execution_count": 192
  },
  {
   "metadata": {
    "ExecuteTime": {
     "end_time": "2025-04-01T10:41:54.456566Z",
     "start_time": "2025-04-01T10:41:54.434205Z"
    }
   },
   "cell_type": "code",
   "source": [
    "data = pd.read_csv(\"./data/Iris.csv\")\n",
    "data.head()"
   ],
   "id": "64d76d80ca3c289a",
   "outputs": [
    {
     "data": {
      "text/plain": [
       "   Id  SepalLengthCm  SepalWidthCm  PetalLengthCm  PetalWidthCm      Species\n",
       "0   1            5.1           3.5            1.4           0.2  Iris-setosa\n",
       "1   2            4.9           3.0            1.4           0.2  Iris-setosa\n",
       "2   3            4.7           3.2            1.3           0.2  Iris-setosa\n",
       "3   4            4.6           3.1            1.5           0.2  Iris-setosa\n",
       "4   5            5.0           3.6            1.4           0.2  Iris-setosa"
      ],
      "text/html": [
       "<div>\n",
       "<style scoped>\n",
       "    .dataframe tbody tr th:only-of-type {\n",
       "        vertical-align: middle;\n",
       "    }\n",
       "\n",
       "    .dataframe tbody tr th {\n",
       "        vertical-align: top;\n",
       "    }\n",
       "\n",
       "    .dataframe thead th {\n",
       "        text-align: right;\n",
       "    }\n",
       "</style>\n",
       "<table border=\"1\" class=\"dataframe\">\n",
       "  <thead>\n",
       "    <tr style=\"text-align: right;\">\n",
       "      <th></th>\n",
       "      <th>Id</th>\n",
       "      <th>SepalLengthCm</th>\n",
       "      <th>SepalWidthCm</th>\n",
       "      <th>PetalLengthCm</th>\n",
       "      <th>PetalWidthCm</th>\n",
       "      <th>Species</th>\n",
       "    </tr>\n",
       "  </thead>\n",
       "  <tbody>\n",
       "    <tr>\n",
       "      <th>0</th>\n",
       "      <td>1</td>\n",
       "      <td>5.1</td>\n",
       "      <td>3.5</td>\n",
       "      <td>1.4</td>\n",
       "      <td>0.2</td>\n",
       "      <td>Iris-setosa</td>\n",
       "    </tr>\n",
       "    <tr>\n",
       "      <th>1</th>\n",
       "      <td>2</td>\n",
       "      <td>4.9</td>\n",
       "      <td>3.0</td>\n",
       "      <td>1.4</td>\n",
       "      <td>0.2</td>\n",
       "      <td>Iris-setosa</td>\n",
       "    </tr>\n",
       "    <tr>\n",
       "      <th>2</th>\n",
       "      <td>3</td>\n",
       "      <td>4.7</td>\n",
       "      <td>3.2</td>\n",
       "      <td>1.3</td>\n",
       "      <td>0.2</td>\n",
       "      <td>Iris-setosa</td>\n",
       "    </tr>\n",
       "    <tr>\n",
       "      <th>3</th>\n",
       "      <td>4</td>\n",
       "      <td>4.6</td>\n",
       "      <td>3.1</td>\n",
       "      <td>1.5</td>\n",
       "      <td>0.2</td>\n",
       "      <td>Iris-setosa</td>\n",
       "    </tr>\n",
       "    <tr>\n",
       "      <th>4</th>\n",
       "      <td>5</td>\n",
       "      <td>5.0</td>\n",
       "      <td>3.6</td>\n",
       "      <td>1.4</td>\n",
       "      <td>0.2</td>\n",
       "      <td>Iris-setosa</td>\n",
       "    </tr>\n",
       "  </tbody>\n",
       "</table>\n",
       "</div>"
      ]
     },
     "execution_count": 193,
     "metadata": {},
     "output_type": "execute_result"
    }
   ],
   "execution_count": 193
  },
  {
   "metadata": {
    "ExecuteTime": {
     "end_time": "2025-04-01T10:41:54.533662Z",
     "start_time": "2025-04-01T10:41:54.519482Z"
    }
   },
   "cell_type": "code",
   "source": [
    "data = data.drop(columns=[\"Id\"])\n",
    "data.head()"
   ],
   "id": "71e3497563c77b0d",
   "outputs": [
    {
     "data": {
      "text/plain": [
       "   SepalLengthCm  SepalWidthCm  PetalLengthCm  PetalWidthCm      Species\n",
       "0            5.1           3.5            1.4           0.2  Iris-setosa\n",
       "1            4.9           3.0            1.4           0.2  Iris-setosa\n",
       "2            4.7           3.2            1.3           0.2  Iris-setosa\n",
       "3            4.6           3.1            1.5           0.2  Iris-setosa\n",
       "4            5.0           3.6            1.4           0.2  Iris-setosa"
      ],
      "text/html": [
       "<div>\n",
       "<style scoped>\n",
       "    .dataframe tbody tr th:only-of-type {\n",
       "        vertical-align: middle;\n",
       "    }\n",
       "\n",
       "    .dataframe tbody tr th {\n",
       "        vertical-align: top;\n",
       "    }\n",
       "\n",
       "    .dataframe thead th {\n",
       "        text-align: right;\n",
       "    }\n",
       "</style>\n",
       "<table border=\"1\" class=\"dataframe\">\n",
       "  <thead>\n",
       "    <tr style=\"text-align: right;\">\n",
       "      <th></th>\n",
       "      <th>SepalLengthCm</th>\n",
       "      <th>SepalWidthCm</th>\n",
       "      <th>PetalLengthCm</th>\n",
       "      <th>PetalWidthCm</th>\n",
       "      <th>Species</th>\n",
       "    </tr>\n",
       "  </thead>\n",
       "  <tbody>\n",
       "    <tr>\n",
       "      <th>0</th>\n",
       "      <td>5.1</td>\n",
       "      <td>3.5</td>\n",
       "      <td>1.4</td>\n",
       "      <td>0.2</td>\n",
       "      <td>Iris-setosa</td>\n",
       "    </tr>\n",
       "    <tr>\n",
       "      <th>1</th>\n",
       "      <td>4.9</td>\n",
       "      <td>3.0</td>\n",
       "      <td>1.4</td>\n",
       "      <td>0.2</td>\n",
       "      <td>Iris-setosa</td>\n",
       "    </tr>\n",
       "    <tr>\n",
       "      <th>2</th>\n",
       "      <td>4.7</td>\n",
       "      <td>3.2</td>\n",
       "      <td>1.3</td>\n",
       "      <td>0.2</td>\n",
       "      <td>Iris-setosa</td>\n",
       "    </tr>\n",
       "    <tr>\n",
       "      <th>3</th>\n",
       "      <td>4.6</td>\n",
       "      <td>3.1</td>\n",
       "      <td>1.5</td>\n",
       "      <td>0.2</td>\n",
       "      <td>Iris-setosa</td>\n",
       "    </tr>\n",
       "    <tr>\n",
       "      <th>4</th>\n",
       "      <td>5.0</td>\n",
       "      <td>3.6</td>\n",
       "      <td>1.4</td>\n",
       "      <td>0.2</td>\n",
       "      <td>Iris-setosa</td>\n",
       "    </tr>\n",
       "  </tbody>\n",
       "</table>\n",
       "</div>"
      ]
     },
     "execution_count": 194,
     "metadata": {},
     "output_type": "execute_result"
    }
   ],
   "execution_count": 194
  },
  {
   "metadata": {
    "ExecuteTime": {
     "end_time": "2025-04-01T10:41:54.622355Z",
     "start_time": "2025-04-01T10:41:54.611257Z"
    }
   },
   "cell_type": "code",
   "source": [
    "data = data.rename(columns={\"Species\": \"Label\"})\n",
    "data.head()"
   ],
   "id": "71053f4dd17f437c",
   "outputs": [
    {
     "data": {
      "text/plain": [
       "   SepalLengthCm  SepalWidthCm  PetalLengthCm  PetalWidthCm        Label\n",
       "0            5.1           3.5            1.4           0.2  Iris-setosa\n",
       "1            4.9           3.0            1.4           0.2  Iris-setosa\n",
       "2            4.7           3.2            1.3           0.2  Iris-setosa\n",
       "3            4.6           3.1            1.5           0.2  Iris-setosa\n",
       "4            5.0           3.6            1.4           0.2  Iris-setosa"
      ],
      "text/html": [
       "<div>\n",
       "<style scoped>\n",
       "    .dataframe tbody tr th:only-of-type {\n",
       "        vertical-align: middle;\n",
       "    }\n",
       "\n",
       "    .dataframe tbody tr th {\n",
       "        vertical-align: top;\n",
       "    }\n",
       "\n",
       "    .dataframe thead th {\n",
       "        text-align: right;\n",
       "    }\n",
       "</style>\n",
       "<table border=\"1\" class=\"dataframe\">\n",
       "  <thead>\n",
       "    <tr style=\"text-align: right;\">\n",
       "      <th></th>\n",
       "      <th>SepalLengthCm</th>\n",
       "      <th>SepalWidthCm</th>\n",
       "      <th>PetalLengthCm</th>\n",
       "      <th>PetalWidthCm</th>\n",
       "      <th>Label</th>\n",
       "    </tr>\n",
       "  </thead>\n",
       "  <tbody>\n",
       "    <tr>\n",
       "      <th>0</th>\n",
       "      <td>5.1</td>\n",
       "      <td>3.5</td>\n",
       "      <td>1.4</td>\n",
       "      <td>0.2</td>\n",
       "      <td>Iris-setosa</td>\n",
       "    </tr>\n",
       "    <tr>\n",
       "      <th>1</th>\n",
       "      <td>4.9</td>\n",
       "      <td>3.0</td>\n",
       "      <td>1.4</td>\n",
       "      <td>0.2</td>\n",
       "      <td>Iris-setosa</td>\n",
       "    </tr>\n",
       "    <tr>\n",
       "      <th>2</th>\n",
       "      <td>4.7</td>\n",
       "      <td>3.2</td>\n",
       "      <td>1.3</td>\n",
       "      <td>0.2</td>\n",
       "      <td>Iris-setosa</td>\n",
       "    </tr>\n",
       "    <tr>\n",
       "      <th>3</th>\n",
       "      <td>4.6</td>\n",
       "      <td>3.1</td>\n",
       "      <td>1.5</td>\n",
       "      <td>0.2</td>\n",
       "      <td>Iris-setosa</td>\n",
       "    </tr>\n",
       "    <tr>\n",
       "      <th>4</th>\n",
       "      <td>5.0</td>\n",
       "      <td>3.6</td>\n",
       "      <td>1.4</td>\n",
       "      <td>0.2</td>\n",
       "      <td>Iris-setosa</td>\n",
       "    </tr>\n",
       "  </tbody>\n",
       "</table>\n",
       "</div>"
      ]
     },
     "execution_count": 195,
     "metadata": {},
     "output_type": "execute_result"
    }
   ],
   "execution_count": 195
  },
  {
   "metadata": {
    "ExecuteTime": {
     "end_time": "2025-04-01T10:45:34.407864Z",
     "start_time": "2025-04-01T10:45:34.253486Z"
    }
   },
   "cell_type": "code",
   "source": [
    "import numpy as np\n",
    "import matplotlib.pyplot as plt\n",
    "import seaborn as sns\n",
    "\n",
    "# Define colors for different species\n",
    "color_map = {'Iris-setosa': 'r', 'Iris-versicolor': 'g', 'Iris-virginica': 'b'}\n",
    "\n",
    "# Scatter plot of the dataset\n",
    "def plot_data(trainDat, testDat):\n",
    "    plt.figure(figsize=(8, 6))\n",
    "\n",
    "    # Plot training data\n",
    "    for species in data['Label'].unique():\n",
    "        subset = trainDat[trainDat['Label'] == species]\n",
    "        plt.scatter(subset['PetalLengthCm'], subset['PetalWidthCm'],\n",
    "                    c=color_map[species], label=f\"{species} (Train)\", alpha=0.7)\n",
    "\n",
    "    plt.xlabel('Petal Length (cm)')\n",
    "    plt.ylabel('Petal Width (cm)')\n",
    "    plt.legend()\n",
    "    plt.title('Iris Dataset (Train & Test Split)')\n",
    "    plt.show()\n",
    "\n",
    "plot_data(trainDat, testDat)"
   ],
   "id": "ef852f5c358d151b",
   "outputs": [
    {
     "data": {
      "text/plain": [
       "<Figure size 800x600 with 1 Axes>"
      ],
      "image/png": "[encoded data removed]"
     },
     "metadata": {},
     "output_type": "display_data"
    }
   ],
   "execution_count": 225
  },
  {
   "metadata": {
    "ExecuteTime": {
     "end_time": "2025-04-01T10:41:54.744273Z",
     "start_time": "2025-04-01T10:41:54.730389Z"
    }
   },
   "cell_type": "code",
   "source": "data.info()",
   "id": "ad7a29c4bb09646a",
   "outputs": [
    {
     "name": "stdout",
     "output_type": "stream",
     "text": [
      "<class 'pandas.core.frame.DataFrame'>\n",
      "RangeIndex: 150 entries, 0 to 149\n",
      "Data columns (total 5 columns):\n",
      " #   Column         Non-Null Count  Dtype  \n",
      "---  ------         --------------  -----  \n",
      " 0   SepalLengthCm  150 non-null    float64\n",
      " 1   SepalWidthCm   150 non-null    float64\n",
      " 2   PetalLengthCm  150 non-null    float64\n",
      " 3   PetalWidthCm   150 non-null    float64\n",
      " 4   Label          150 non-null    object \n",
      "dtypes: float64(4), object(1)\n",
      "memory usage: 6.0+ KB\n"
     ]
    }
   ],
   "execution_count": 196
  },
  {
   "metadata": {
    "ExecuteTime": {
     "end_time": "2025-04-01T10:41:54.824278Z",
     "start_time": "2025-04-01T10:41:54.818232Z"
    }
   },
   "cell_type": "code",
   "source": "data.index",
   "id": "7b81968d304b8e53",
   "outputs": [
    {
     "data": {
      "text/plain": [
       "RangeIndex(start=0, stop=150, step=1)"
      ]
     },
     "execution_count": 197,
     "metadata": {},
     "output_type": "execute_result"
    }
   ],
   "execution_count": 197
  },
  {
   "metadata": {
    "ExecuteTime": {
     "end_time": "2025-04-01T10:41:54.898873Z",
     "start_time": "2025-04-01T10:41:54.893994Z"
    }
   },
   "cell_type": "code",
   "source": [
    "def testTrainSplit(data, testSize):\n",
    "    if isinstance(testSize, float):\n",
    "        testSize *= len(data)\n",
    "    indices = data.index.tolist()\n",
    "    testSize = 20\n",
    "    testIdx = random.sample(population=indices, k=testSize)\n",
    "    testDat = data.loc[testIdx]\n",
    "    trainDat = data.drop(testIdx)\n",
    "    return trainDat, testDat"
   ],
   "id": "4d9ffe4b8a1f2f0d",
   "outputs": [],
   "execution_count": 198
  },
  {
   "metadata": {
    "ExecuteTime": {
     "end_time": "2025-04-01T10:41:55.038391Z",
     "start_time": "2025-04-01T10:41:55.030393Z"
    }
   },
   "cell_type": "code",
   "source": [
    "random.seed(0)\n",
    "trainDat, testDat = testTrainSplit(data, testSize=0.3)"
   ],
   "id": "daf2ce9fbc7d9a70",
   "outputs": [],
   "execution_count": 199
  },
  {
   "metadata": {
    "ExecuteTime": {
     "end_time": "2025-04-01T10:41:55.096458Z",
     "start_time": "2025-04-01T10:41:55.090454Z"
    }
   },
   "cell_type": "code",
   "source": "trainDat.shape, testDat.shape",
   "id": "35471860d8cf8dac",
   "outputs": [
    {
     "data": {
      "text/plain": [
       "((130, 5), (20, 5))"
      ]
     },
     "execution_count": 200,
     "metadata": {},
     "output_type": "execute_result"
    }
   ],
   "execution_count": 200
  },
  {
   "metadata": {
    "ExecuteTime": {
     "end_time": "2025-04-01T10:41:55.185955Z",
     "start_time": "2025-04-01T10:41:55.174955Z"
    }
   },
   "cell_type": "code",
   "source": "trainDat.head()",
   "id": "30327329ea3de6b7",
   "outputs": [
    {
     "data": {
      "text/plain": [
       "   SepalLengthCm  SepalWidthCm  PetalLengthCm  PetalWidthCm        Label\n",
       "0            5.1           3.5            1.4           0.2  Iris-setosa\n",
       "1            4.9           3.0            1.4           0.2  Iris-setosa\n",
       "2            4.7           3.2            1.3           0.2  Iris-setosa\n",
       "3            4.6           3.1            1.5           0.2  Iris-setosa\n",
       "4            5.0           3.6            1.4           0.2  Iris-setosa"
      ],
      "text/html": [
       "<div>\n",
       "<style scoped>\n",
       "    .dataframe tbody tr th:only-of-type {\n",
       "        vertical-align: middle;\n",
       "    }\n",
       "\n",
       "    .dataframe tbody tr th {\n",
       "        vertical-align: top;\n",
       "    }\n",
       "\n",
       "    .dataframe thead th {\n",
       "        text-align: right;\n",
       "    }\n",
       "</style>\n",
       "<table border=\"1\" class=\"dataframe\">\n",
       "  <thead>\n",
       "    <tr style=\"text-align: right;\">\n",
       "      <th></th>\n",
       "      <th>SepalLengthCm</th>\n",
       "      <th>SepalWidthCm</th>\n",
       "      <th>PetalLengthCm</th>\n",
       "      <th>PetalWidthCm</th>\n",
       "      <th>Label</th>\n",
       "    </tr>\n",
       "  </thead>\n",
       "  <tbody>\n",
       "    <tr>\n",
       "      <th>0</th>\n",
       "      <td>5.1</td>\n",
       "      <td>3.5</td>\n",
       "      <td>1.4</td>\n",
       "      <td>0.2</td>\n",
       "      <td>Iris-setosa</td>\n",
       "    </tr>\n",
       "    <tr>\n",
       "      <th>1</th>\n",
       "      <td>4.9</td>\n",
       "      <td>3.0</td>\n",
       "      <td>1.4</td>\n",
       "      <td>0.2</td>\n",
       "      <td>Iris-setosa</td>\n",
       "    </tr>\n",
       "    <tr>\n",
       "      <th>2</th>\n",
       "      <td>4.7</td>\n",
       "      <td>3.2</td>\n",
       "      <td>1.3</td>\n",
       "      <td>0.2</td>\n",
       "      <td>Iris-setosa</td>\n",
       "    </tr>\n",
       "    <tr>\n",
       "      <th>3</th>\n",
       "      <td>4.6</td>\n",
       "      <td>3.1</td>\n",
       "      <td>1.5</td>\n",
       "      <td>0.2</td>\n",
       "      <td>Iris-setosa</td>\n",
       "    </tr>\n",
       "    <tr>\n",
       "      <th>4</th>\n",
       "      <td>5.0</td>\n",
       "      <td>3.6</td>\n",
       "      <td>1.4</td>\n",
       "      <td>0.2</td>\n",
       "      <td>Iris-setosa</td>\n",
       "    </tr>\n",
       "  </tbody>\n",
       "</table>\n",
       "</div>"
      ]
     },
     "execution_count": 201,
     "metadata": {},
     "output_type": "execute_result"
    }
   ],
   "execution_count": 201
  },
  {
   "metadata": {
    "ExecuteTime": {
     "end_time": "2025-04-01T10:41:55.242325Z",
     "start_time": "2025-04-01T10:41:55.233319Z"
    }
   },
   "cell_type": "code",
   "source": "testDat.head()",
   "id": "a32f9d0b0ef4e537",
   "outputs": [
    {
     "data": {
      "text/plain": [
       "     SepalLengthCm  SepalWidthCm  PetalLengthCm  PetalWidthCm            Label\n",
       "98             5.1           2.5            3.0           1.1  Iris-versicolor\n",
       "107            7.3           2.9            6.3           1.8   Iris-virginica\n",
       "10             5.4           3.7            1.5           0.2      Iris-setosa\n",
       "66             5.6           3.0            4.5           1.5  Iris-versicolor\n",
       "130            7.4           2.8            6.1           1.9   Iris-virginica"
      ],
      "text/html": [
       "<div>\n",
       "<style scoped>\n",
       "    .dataframe tbody tr th:only-of-type {\n",
       "        vertical-align: middle;\n",
       "    }\n",
       "\n",
       "    .dataframe tbody tr th {\n",
       "        vertical-align: top;\n",
       "    }\n",
       "\n",
       "    .dataframe thead th {\n",
       "        text-align: right;\n",
       "    }\n",
       "</style>\n",
       "<table border=\"1\" class=\"dataframe\">\n",
       "  <thead>\n",
       "    <tr style=\"text-align: right;\">\n",
       "      <th></th>\n",
       "      <th>SepalLengthCm</th>\n",
       "      <th>SepalWidthCm</th>\n",
       "      <th>PetalLengthCm</th>\n",
       "      <th>PetalWidthCm</th>\n",
       "      <th>Label</th>\n",
       "    </tr>\n",
       "  </thead>\n",
       "  <tbody>\n",
       "    <tr>\n",
       "      <th>98</th>\n",
       "      <td>5.1</td>\n",
       "      <td>2.5</td>\n",
       "      <td>3.0</td>\n",
       "      <td>1.1</td>\n",
       "      <td>Iris-versicolor</td>\n",
       "    </tr>\n",
       "    <tr>\n",
       "      <th>107</th>\n",
       "      <td>7.3</td>\n",
       "      <td>2.9</td>\n",
       "      <td>6.3</td>\n",
       "      <td>1.8</td>\n",
       "      <td>Iris-virginica</td>\n",
       "    </tr>\n",
       "    <tr>\n",
       "      <th>10</th>\n",
       "      <td>5.4</td>\n",
       "      <td>3.7</td>\n",
       "      <td>1.5</td>\n",
       "      <td>0.2</td>\n",
       "      <td>Iris-setosa</td>\n",
       "    </tr>\n",
       "    <tr>\n",
       "      <th>66</th>\n",
       "      <td>5.6</td>\n",
       "      <td>3.0</td>\n",
       "      <td>4.5</td>\n",
       "      <td>1.5</td>\n",
       "      <td>Iris-versicolor</td>\n",
       "    </tr>\n",
       "    <tr>\n",
       "      <th>130</th>\n",
       "      <td>7.4</td>\n",
       "      <td>2.8</td>\n",
       "      <td>6.1</td>\n",
       "      <td>1.9</td>\n",
       "      <td>Iris-virginica</td>\n",
       "    </tr>\n",
       "  </tbody>\n",
       "</table>\n",
       "</div>"
      ]
     },
     "execution_count": 202,
     "metadata": {},
     "output_type": "execute_result"
    }
   ],
   "execution_count": 202
  },
  {
   "metadata": {
    "ExecuteTime": {
     "end_time": "2025-04-01T10:44:04.092657Z",
     "start_time": "2025-04-01T10:44:03.474324Z"
    }
   },
   "cell_type": "code",
   "source": [
    "import numpy as np\n",
    "import matplotlib.pyplot as plt\n",
    "import seaborn as sns\n",
    "\n",
    "# Define colors for different species\n",
    "color_map = {'Iris-setosa': 'r', 'Iris-versicolor': 'g', 'Iris-virginica': 'b'}\n",
    "\n",
    "# Scatter plot of the dataset\n",
    "def plot_data(trainDat, testDat):\n",
    "    plt.figure(figsize=(8, 6))\n",
    "\n",
    "    # Plot training data\n",
    "    for species in trainDat['Label'].unique():\n",
    "        subset = trainDat[trainDat['Label'] == species]\n",
    "        plt.scatter(subset['PetalLengthCm'], subset['PetalWidthCm'],\n",
    "                    c=color_map[species], label=f\"{species} (Train)\", alpha=0.7)\n",
    "\n",
    "    # Plot test data\n",
    "    for species in testDat['Label'].unique():\n",
    "        subset = testDat[testDat['Label'] == species]\n",
    "        plt.scatter(subset['PetalLengthCm'], subset['PetalWidthCm'],\n",
    "                    edgecolors='k', facecolors='none', label=f\"{species} (Test)\", linewidth=1.2)\n",
    "\n",
    "    plt.xlabel('Petal Length (cm)')\n",
    "    plt.ylabel('Petal Width (cm)')\n",
    "    plt.legend()\n",
    "    plt.title('Iris Dataset (Train & Test Split)')\n",
    "    plt.show()\n",
    "\n",
    "plot_data(trainDat, testDat)"
   ],
   "id": "83b0260844b2537a",
   "outputs": [
    {
     "data": {
      "text/plain": [
       "<Figure size 800x600 with 1 Axes>"
      ],
      "image/png": "[encoded data removed]"
     },
     "metadata": {},
     "output_type": "display_data"
    }
   ],
   "execution_count": 224
  },
  {
   "metadata": {
    "ExecuteTime": {
     "end_time": "2025-04-01T10:41:55.331375Z",
     "start_time": "2025-04-01T10:41:55.325051Z"
    }
   },
   "cell_type": "code",
   "source": [
    "dat = trainDat.values\n",
    "dat[:5]"
   ],
   "id": "ac710f914897b5e1",
   "outputs": [
    {
     "data": {
      "text/plain": [
       "array([[5.1, 3.5, 1.4, 0.2, 'Iris-setosa'],\n",
       "       [4.9, 3.0, 1.4, 0.2, 'Iris-setosa'],\n",
       "       [4.7, 3.2, 1.3, 0.2, 'Iris-setosa'],\n",
       "       [4.6, 3.1, 1.5, 0.2, 'Iris-setosa'],\n",
       "       [5.0, 3.6, 1.4, 0.2, 'Iris-setosa']], dtype=object)"
      ]
     },
     "execution_count": 203,
     "metadata": {},
     "output_type": "execute_result"
    }
   ],
   "execution_count": 203
  },
  {
   "metadata": {
    "ExecuteTime": {
     "end_time": "2025-04-01T10:41:55.412350Z",
     "start_time": "2025-04-01T10:41:55.408918Z"
    }
   },
   "cell_type": "code",
   "source": [
    "def checkPurity(dat):\n",
    "    y = dat[:, -1]\n",
    "    uniqClass = np.unique(y)\n",
    "    if len(uniqClass) == 1:\n",
    "        return True\n",
    "    else:\n",
    "        return False"
   ],
   "id": "cfaec41a489346c6",
   "outputs": [],
   "execution_count": 204
  },
  {
   "metadata": {
    "ExecuteTime": {
     "end_time": "2025-04-01T10:41:55.497961Z",
     "start_time": "2025-04-01T10:41:55.492961Z"
    }
   },
   "cell_type": "code",
   "source": [
    "def classifyDat(dat):\n",
    "    y = dat[:, -1]\n",
    "    uniqClass, uniqClassCnt = np.unique(y, return_counts=True)\n",
    "    idx = uniqClassCnt.argmax()\n",
    "    clf = uniqClass[idx]\n",
    "    return clf"
   ],
   "id": "c4c6af685bdb6fe1",
   "outputs": [],
   "execution_count": 205
  },
  {
   "metadata": {
    "ExecuteTime": {
     "end_time": "2025-04-01T10:41:55.601005Z",
     "start_time": "2025-04-01T10:41:55.593015Z"
    }
   },
   "cell_type": "code",
   "source": "classifyDat(trainDat[trainDat.PetalWidthCm < 1.2].values)",
   "id": "12a0ce7fe0d7ab8b",
   "outputs": [
    {
     "data": {
      "text/plain": [
       "'Iris-setosa'"
      ]
     },
     "execution_count": 206,
     "metadata": {},
     "output_type": "execute_result"
    }
   ],
   "execution_count": 206
  },
  {
   "metadata": {
    "ExecuteTime": {
     "end_time": "2025-04-01T10:41:55.679305Z",
     "start_time": "2025-04-01T10:41:55.673308Z"
    }
   },
   "cell_type": "code",
   "source": [
    "def getSplits(data):\n",
    "    splits = {}\n",
    "    _, n = data.shape\n",
    "    for col in range(n - 1):\n",
    "        val = data[:, col]\n",
    "        uniqVal = np.unique(val)\n",
    "        splits[col] = uniqVal\n",
    "    return splits"
   ],
   "id": "8e17771354e5ce34",
   "outputs": [],
   "execution_count": 207
  },
  {
   "metadata": {
    "ExecuteTime": {
     "end_time": "2025-04-01T10:41:55.713081Z",
     "start_time": "2025-04-01T10:41:55.706848Z"
    }
   },
   "cell_type": "code",
   "source": [
    "def split(data, split_column, split_value):\n",
    "    split_column_values = data[:, split_column]\n",
    "    type_of_feature = FEATURE_TYPES[split_column]\n",
    "    if type_of_feature == \"continuous\":\n",
    "        data_below = data[split_column_values <= split_value]\n",
    "        data_above = data[split_column_values > split_value]\n",
    "    else:\n",
    "        data_below = data[split_column_values == split_value]\n",
    "        data_above = data[split_column_values != split_value]\n",
    "    return data_below, data_above"
   ],
   "id": "973e34dc4c1259c1",
   "outputs": [],
   "execution_count": 208
  },
  {
   "metadata": {
    "ExecuteTime": {
     "end_time": "2025-04-01T10:41:55.772811Z",
     "start_time": "2025-04-01T10:41:55.767465Z"
    }
   },
   "cell_type": "code",
   "source": [
    "def entropy(data):\n",
    "    y = data[:, -1]\n",
    "    _, counts = np.unique(y, return_counts=True)\n",
    "    p = counts / counts.sum()\n",
    "    entropy = sum(p * -np.log2(p))\n",
    "    return entropy"
   ],
   "id": "ea73f8dd51f590e0",
   "outputs": [],
   "execution_count": 209
  },
  {
   "metadata": {
    "ExecuteTime": {
     "end_time": "2025-04-01T10:41:55.787446Z",
     "start_time": "2025-04-01T10:41:55.782269Z"
    }
   },
   "cell_type": "code",
   "source": [
    "def calcFullEntropy(data_below, data_above):\n",
    "    n = len(data_below) + len(data_above)\n",
    "    p_data_below = len(data_below) / n\n",
    "    p_data_above = len(data_above) / n\n",
    "    overall_entropy = (p_data_below * entropy(data_below)\n",
    "                       + p_data_above * entropy(data_above))\n",
    "    return overall_entropy"
   ],
   "id": "3cdc3e2d37dc83ef",
   "outputs": [],
   "execution_count": 210
  },
  {
   "metadata": {
    "ExecuteTime": {
     "end_time": "2025-04-01T10:41:55.814097Z",
     "start_time": "2025-04-01T10:41:55.808659Z"
    }
   },
   "cell_type": "code",
   "source": [
    "def determine_best_split(data, potential_splits):\n",
    "    overall_entropy = 9999\n",
    "    for column_index in potential_splits:\n",
    "        for value in potential_splits[column_index]:\n",
    "            data_below, data_above = split(data, split_column=column_index, split_value=value)\n",
    "            current_overall_entropy = calcFullEntropy(data_below, data_above)\n",
    "            if current_overall_entropy <= overall_entropy:\n",
    "                overall_entropy = current_overall_entropy\n",
    "                best_split_column = column_index\n",
    "                best_split_value = value\n",
    "    return best_split_column, best_split_value"
   ],
   "id": "9bc3c7b6993f3d70",
   "outputs": [],
   "execution_count": 211
  },
  {
   "metadata": {
    "ExecuteTime": {
     "end_time": "2025-04-01T10:41:55.841147Z",
     "start_time": "2025-04-01T10:41:55.836764Z"
    }
   },
   "cell_type": "code",
   "source": [
    "sub_tree = {\"question\": [\"yes_answer\",\n",
    "                         \"no_answer\"]}"
   ],
   "id": "c38c0ca9266d4bfc",
   "outputs": [],
   "execution_count": 212
  },
  {
   "metadata": {
    "ExecuteTime": {
     "end_time": "2025-04-01T10:41:55.872694Z",
     "start_time": "2025-04-01T10:41:55.867679Z"
    }
   },
   "cell_type": "code",
   "source": [
    "example_tree = {\"petal_width <= 0.8\": [\"Iris-setosa\",\n",
    "                                       {\"petal_width <= 1.65\": [{\"petal_length <= 4.9\": [\"Iris-versicolor\",\n",
    "                                                                                         \"Iris-virginica\"]},\n",
    "                                                                \"Iris-virginica\"]}]}"
   ],
   "id": "b5e8d474cfa213f6",
   "outputs": [],
   "execution_count": 213
  },
  {
   "metadata": {
    "ExecuteTime": {
     "end_time": "2025-04-01T10:41:55.899582Z",
     "start_time": "2025-04-01T10:41:55.893714Z"
    }
   },
   "cell_type": "code",
   "source": [
    "def determine_type_of_feature(df):\n",
    "    feature_types = []\n",
    "    n_unique_values_treshold = 15\n",
    "    for feature in df.columns:\n",
    "        if feature != \"Label\":\n",
    "            unique_values = df[feature].unique()\n",
    "            example_value = unique_values[0]\n",
    "\n",
    "            if (isinstance(example_value, str)) or (len(unique_values) <= n_unique_values_treshold):\n",
    "                feature_types.append(\"categorical\")\n",
    "            else:\n",
    "                feature_types.append(\"continuous\")\n",
    "\n",
    "    return feature_types"
   ],
   "id": "4cff338c79c40822",
   "outputs": [],
   "execution_count": 214
  },
  {
   "metadata": {
    "ExecuteTime": {
     "end_time": "2025-04-01T10:41:55.923479Z",
     "start_time": "2025-04-01T10:41:55.918115Z"
    }
   },
   "cell_type": "code",
   "source": "FEATURE_TYPES = determine_type_of_feature(trainDat)",
   "id": "6b080d421c9da115",
   "outputs": [],
   "execution_count": 215
  },
  {
   "metadata": {
    "ExecuteTime": {
     "end_time": "2025-04-01T10:41:55.951854Z",
     "start_time": "2025-04-01T10:41:55.941773Z"
    }
   },
   "cell_type": "code",
   "source": [
    "def decision_tree_algorithm(df, counter=0, min_samples=2, max_depth=5):\n",
    "    # data preparations\n",
    "    if counter == 0:\n",
    "        global COLUMN_HEADERS, FEATURE_TYPES\n",
    "        COLUMN_HEADERS = df.columns\n",
    "        FEATURE_TYPES = determine_type_of_feature(df)\n",
    "        data = df.values\n",
    "    else:\n",
    "        data = df\n",
    "\n",
    "    # base cases\n",
    "    if (checkPurity(data)) or (len(data) < min_samples) or (counter == max_depth):\n",
    "        classification = classifyDat(data)\n",
    "\n",
    "        return classification\n",
    "\n",
    "\n",
    "    # recursive part\n",
    "    else:\n",
    "        counter += 1\n",
    "\n",
    "        # helper functions\n",
    "        potential_splits = getSplits(data)\n",
    "        split_column, split_value = determine_best_split(data, potential_splits)\n",
    "        data_below, data_above = split(data, split_column, split_value)\n",
    "\n",
    "        # check for empty data\n",
    "        if len(data_below) == 0 or len(data_above) == 0:\n",
    "            classification = classifyDat(data)\n",
    "            return classification\n",
    "\n",
    "        # determine question\n",
    "        feature_name = COLUMN_HEADERS[split_column]\n",
    "        type_of_feature = FEATURE_TYPES[split_column]\n",
    "        if type_of_feature == \"continuous\":\n",
    "            question = \"{} <= {}\".format(feature_name, split_value)\n",
    "\n",
    "        # feature is categorical\n",
    "        else:\n",
    "            question = \"{} = {}\".format(feature_name, split_value)\n",
    "\n",
    "        # instantiate sub-tree\n",
    "        sub_tree = {question: []}\n",
    "\n",
    "        # find answers (recursion)\n",
    "        yes_answer = decision_tree_algorithm(data_below, counter, min_samples, max_depth)\n",
    "        no_answer = decision_tree_algorithm(data_above, counter, min_samples, max_depth)\n",
    "\n",
    "        # If the answers are the same, then there is no point in asking the qestion.\n",
    "        # This could happen when the data is classified even though it is not pure\n",
    "        # yet (min_samples or max_depth base case).\n",
    "        if yes_answer == no_answer:\n",
    "            sub_tree = yes_answer\n",
    "        else:\n",
    "            sub_tree[question].append(yes_answer)\n",
    "            sub_tree[question].append(no_answer)\n",
    "\n",
    "        return sub_tree"
   ],
   "id": "e431f104b7c54a6b",
   "outputs": [],
   "execution_count": 216
  },
  {
   "metadata": {
    "ExecuteTime": {
     "end_time": "2025-04-01T10:41:55.997712Z",
     "start_time": "2025-04-01T10:41:55.969730Z"
    }
   },
   "cell_type": "code",
   "source": [
    "tree = decision_tree_algorithm(trainDat, max_depth=3)\n",
    "pprint(tree)"
   ],
   "id": "c7aff1cbe7d95c8b",
   "outputs": [
    {
     "name": "stdout",
     "output_type": "stream",
     "text": [
      "{'PetalWidthCm <= 0.6': ['Iris-setosa',\n",
      "                         {'PetalWidthCm <= 1.6': [{'PetalLengthCm <= 4.9': ['Iris-versicolor',\n",
      "                                                                            'Iris-virginica']},\n",
      "                                                  'Iris-virginica']}]}\n"
     ]
    }
   ],
   "execution_count": 217
  },
  {
   "metadata": {
    "ExecuteTime": {
     "end_time": "2025-04-01T10:41:56.018438Z",
     "start_time": "2025-04-01T10:41:56.012945Z"
    }
   },
   "cell_type": "code",
   "outputs": [
    {
     "data": {
      "text/plain": [
       "{'question': ['yes_answer', 'no_answer']}"
      ]
     },
     "execution_count": 218,
     "metadata": {},
     "output_type": "execute_result"
    }
   ],
   "execution_count": 218,
   "source": "sub_tree",
   "id": "d0942f560f98ecfb"
  },
  {
   "metadata": {
    "ExecuteTime": {
     "end_time": "2025-04-01T10:41:56.054646Z",
     "start_time": "2025-04-01T10:41:56.048302Z"
    }
   },
   "cell_type": "code",
   "source": [
    "example = testDat.iloc[0]\n",
    "example"
   ],
   "id": "1ea495f5270cdf03",
   "outputs": [
    {
     "data": {
      "text/plain": [
       "SepalLengthCm                5.1\n",
       "SepalWidthCm                 2.5\n",
       "PetalLengthCm                3.0\n",
       "PetalWidthCm                 1.1\n",
       "Label            Iris-versicolor\n",
       "Name: 98, dtype: object"
      ]
     },
     "execution_count": 219,
     "metadata": {},
     "output_type": "execute_result"
    }
   ],
   "execution_count": 219
  },
  {
   "metadata": {
    "ExecuteTime": {
     "end_time": "2025-04-01T10:41:56.328590Z",
     "start_time": "2025-04-01T10:41:56.323260Z"
    }
   },
   "cell_type": "code",
   "outputs": [],
   "execution_count": 220,
   "source": [
    "def classify_example(example, tree):\n",
    "    question = list(tree.keys())[0]\n",
    "    feature_name, comparison_operator, value = question.split(\" \")\n",
    "\n",
    "    # ask question\n",
    "    if comparison_operator == \"<=\":  # feature is continuous\n",
    "        if example[feature_name] <= float(value):\n",
    "            answer = tree[question][0]\n",
    "        else:\n",
    "            answer = tree[question][1]\n",
    "\n",
    "    # feature is categorical\n",
    "    else:\n",
    "        if str(example[feature_name]) == value:\n",
    "            answer = tree[question][0]\n",
    "        else:\n",
    "            answer = tree[question][1]\n",
    "\n",
    "    # base case\n",
    "    if not isinstance(answer, dict):\n",
    "        return answer\n",
    "\n",
    "    # recursive part\n",
    "    else:\n",
    "        residual_tree = answer\n",
    "        return classify_example(example, residual_tree)"
   ],
   "id": "9b569bc2c1d226f1"
  },
  {
   "metadata": {
    "ExecuteTime": {
     "end_time": "2025-04-01T10:41:56.383157Z",
     "start_time": "2025-04-01T10:41:56.376037Z"
    }
   },
   "cell_type": "code",
   "source": "classify_example(example, tree)",
   "id": "ec7f0d37b1c19a5d",
   "outputs": [
    {
     "data": {
      "text/plain": [
       "'Iris-versicolor'"
      ]
     },
     "execution_count": 221,
     "metadata": {},
     "output_type": "execute_result"
    }
   ],
   "execution_count": 221
  },
  {
   "metadata": {
    "ExecuteTime": {
     "end_time": "2025-04-01T11:04:25.408874Z",
     "start_time": "2025-04-01T11:04:25.202377Z"
    }
   },
   "cell_type": "code",
   "source": [
    "def plot_decision_boundary(tree, data, feature1, feature2):\n",
    "    # Create a mesh grid to evaluate predictions\n",
    "    x_min, x_max = data[feature1].min() - 1, data[feature1].max() + 1\n",
    "    y_min, y_max = data[feature2].min() - 1, data[feature2].max() + 1\n",
    "    xx, yy = np.meshgrid(np.linspace(x_min, x_max, 100),\n",
    "                         np.linspace(y_min, y_max, 100))\n",
    "\n",
    "    # Prepare the mesh for classification\n",
    "    grid_points = np.c_[xx.ravel(), yy.ravel()]\n",
    "    Z = np.array([classify_example({feature1: x, feature2: y}, tree) for x, y in grid_points])\n",
    "\n",
    "    # Convert categorical labels to numeric if needed (e.g., Iris-setosa -> 0, Iris-versicolor -> 1)\n",
    "    label_map = {'Iris-setosa': 0, 'Iris-versicolor': 1, 'Iris-virginica': 2}\n",
    "    Z = np.array([label_map[label] if label in label_map else -1 for label in Z])\n",
    "\n",
    "    # Reshape Z to match the meshgrid\n",
    "    Z = Z.reshape(xx.shape)\n",
    "\n",
    "    # Plot the decision boundary\n",
    "    plt.figure(figsize=(8, 6))\n",
    "    plt.contourf(xx, yy, Z, alpha=0.3, cmap=plt.cm.Paired)\n",
    "\n",
    "    # Scatter plot of the training data points\n",
    "    species_colors = {'Iris-setosa': 'r', 'Iris-versicolor': 'g', 'Iris-virginica': 'b'}\n",
    "    for species, color in species_colors.items():\n",
    "        species_data = data[data['Label'] == species]\n",
    "        plt.scatter(species_data[feature1], species_data[feature2], c=color, label=species, edgecolor='k')\n",
    "\n",
    "    plt.xlabel(feature1)\n",
    "    plt.ylabel(feature2)\n",
    "    plt.legend()\n",
    "    plt.show()\n",
    "\n",
    "# Call the function after training\n",
    "plot_decision_boundary(tree, trainDat, 'PetalLengthCm', 'PetalWidthCm')\n"
   ],
   "id": "4452beabd0e20b68",
   "outputs": [
    {
     "data": {
      "text/plain": [
       "<Figure size 800x600 with 1 Axes>"
      ],
      "image/png": "[encoded data removed]"
     },
     "metadata": {},
     "output_type": "display_data"
    }
   ],
   "execution_count": 239
  },
  {
   "metadata": {
    "ExecuteTime": {
     "end_time": "2025-04-01T11:04:25.929330Z",
     "start_time": "2025-04-01T11:04:25.923184Z"
    }
   },
   "cell_type": "code",
   "source": [
    "def calculate_accuracy(df, tree):\n",
    "    df[\"classification\"] = df.apply(classify_example, axis=1, args=(tree,))\n",
    "    df[\"classification_correct\"] = df[\"classification\"] == df[\"Label\"]\n",
    "\n",
    "    accuracy = df[\"classification_correct\"].mean()\n",
    "\n",
    "    return accuracy"
   ],
   "id": "770ca7b57c178210",
   "outputs": [],
   "execution_count": 240
  },
  {
   "metadata": {
    "ExecuteTime": {
     "end_time": "2025-04-01T10:41:56.465357Z",
     "start_time": "2025-04-01T10:41:56.456982Z"
    }
   },
   "cell_type": "code",
   "source": [
    "accuracy = calculate_accuracy(testDat, tree)\n",
    "float(accuracy)"
   ],
   "id": "30d490a5de9451ef",
   "outputs": [
    {
     "data": {
      "text/plain": [
       "0.95"
      ]
     },
     "execution_count": 223,
     "metadata": {},
     "output_type": "execute_result"
    }
   ],
   "execution_count": 223
  },
  {
   "metadata": {
    "ExecuteTime": {
     "end_time": "2025-04-01T10:41:56.481962Z",
     "start_time": "2025-04-01T10:41:56.478963Z"
    }
   },
   "cell_type": "code",
   "source": "",
   "id": "711a6464f965ed69",
   "outputs": [],
   "execution_count": null
  }
 ],
 "metadata": {
  "kernelspec": {
   "display_name": "Python 3",
   "language": "python",
   "name": "python3"
  },
  "language_info": {
   "codemirror_mode": {
    "name": "ipython",
    "version": 2
   },
   "file_extension": ".py",
   "mimetype": "text/x-python",
   "name": "python",
   "nbconvert_exporter": "python",
   "pygments_lexer": "ipython2",
   "version": "2.7.6"
  }
 },
 "nbformat": 4,
 "nbformat_minor": 5
}
